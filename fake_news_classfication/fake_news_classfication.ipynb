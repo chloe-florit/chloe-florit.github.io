{
  "cells": [
    {
      "cell_type": "markdown",
      "source": [
        "#Importing necessary packages and data"
      ],
      "metadata": {
        "id": "gB6zJWcG1yGa"
      }
    },
    {
      "cell_type": "code",
      "execution_count": null,
      "metadata": {
        "id": "gtHiMhGd9MN4"
      },
      "outputs": [],
      "source": [
        "import numpy as np\n",
        "import pandas as pd\n",
        "import tensorflow as tf\n",
        "import re\n",
        "import string\n",
        "\n",
        "from tensorflow.keras import layers\n",
        "from tensorflow.keras import losses\n",
        "from tensorflow import keras\n",
        "\n",
        "from tensorflow.keras.layers.experimental.preprocessing import TextVectorization\n",
        "from tensorflow.keras.layers.experimental.preprocessing import StringLookup\n",
        "\n",
        "from sklearn.model_selection import train_test_split\n",
        "from sklearn.preprocessing import LabelEncoder\n",
        "\n",
        "# for embedding visualization\n",
        "import plotly.express as px\n",
        "import plotly.io as pio\n",
        "pio.templates.default = \"plotly_white\""
      ]
    },
    {
      "cell_type": "code",
      "execution_count": null,
      "metadata": {
        "colab": {
          "background_save": true,
          "base_uri": "https://localhost:8080/"
        },
        "id": "ODjnEE_K-3Ut",
        "outputId": "c22a080e-5369-4c65-8361-ed31e04b6363"
      },
      "outputs": [
        {
          "name": "stdout",
          "output_type": "stream",
          "text": [
            "Looking in indexes: https://pypi.org/simple, https://us-python.pkg.dev/colab-wheels/public/simple/\n",
            "Collecting tensorflow==2.4\n",
            "  Downloading tensorflow-2.4.0-cp37-cp37m-manylinux2010_x86_64.whl (394.7 MB)\n",
            "\u001b[K     |████████████████████████████████| 394.7 MB 16 kB/s \n",
            "\u001b[?25hCollecting numpy~=1.19.2\n",
            "  Downloading numpy-1.19.5-cp37-cp37m-manylinux2010_x86_64.whl (14.8 MB)\n",
            "\u001b[K     |████████████████████████████████| 14.8 MB 35.4 MB/s \n",
            "\u001b[?25hCollecting tensorflow-estimator<2.5.0,>=2.4.0rc0\n",
            "  Downloading tensorflow_estimator-2.4.0-py2.py3-none-any.whl (462 kB)\n",
            "\u001b[K     |████████████████████████████████| 462 kB 51.1 MB/s \n",
            "\u001b[?25hCollecting wrapt~=1.12.1\n",
            "  Downloading wrapt-1.12.1.tar.gz (27 kB)\n",
            "Requirement already satisfied: opt-einsum~=3.3.0 in /usr/local/lib/python3.7/dist-packages (from tensorflow==2.4) (3.3.0)\n",
            "Collecting typing-extensions~=3.7.4\n",
            "  Downloading typing_extensions-3.7.4.3-py3-none-any.whl (22 kB)\n",
            "Requirement already satisfied: tensorboard~=2.4 in /usr/local/lib/python3.7/dist-packages (from tensorflow==2.4) (2.8.0)\n",
            "Requirement already satisfied: astunparse~=1.6.3 in /usr/local/lib/python3.7/dist-packages (from tensorflow==2.4) (1.6.3)\n",
            "Collecting h5py~=2.10.0\n",
            "  Downloading h5py-2.10.0-cp37-cp37m-manylinux1_x86_64.whl (2.9 MB)\n",
            "\u001b[K     |████████████████████████████████| 2.9 MB 40.2 MB/s \n",
            "\u001b[?25hRequirement already satisfied: six~=1.15.0 in /usr/local/lib/python3.7/dist-packages (from tensorflow==2.4) (1.15.0)\n",
            "Collecting absl-py~=0.10\n",
            "  Downloading absl_py-0.15.0-py3-none-any.whl (132 kB)\n",
            "\u001b[K     |████████████████████████████████| 132 kB 41.8 MB/s \n",
            "\u001b[?25hRequirement already satisfied: protobuf>=3.9.2 in /usr/local/lib/python3.7/dist-packages (from tensorflow==2.4) (3.17.3)\n",
            "Requirement already satisfied: termcolor~=1.1.0 in /usr/local/lib/python3.7/dist-packages (from tensorflow==2.4) (1.1.0)\n",
            "Collecting flatbuffers~=1.12.0\n",
            "  Downloading flatbuffers-1.12-py2.py3-none-any.whl (15 kB)\n",
            "Requirement already satisfied: wheel~=0.35 in /usr/local/lib/python3.7/dist-packages (from tensorflow==2.4) (0.37.1)\n",
            "Collecting gast==0.3.3\n",
            "  Downloading gast-0.3.3-py2.py3-none-any.whl (9.7 kB)\n",
            "Requirement already satisfied: google-pasta~=0.2 in /usr/local/lib/python3.7/dist-packages (from tensorflow==2.4) (0.2.0)\n",
            "Requirement already satisfied: keras-preprocessing~=1.1.2 in /usr/local/lib/python3.7/dist-packages (from tensorflow==2.4) (1.1.2)\n",
            "Collecting grpcio~=1.32.0\n",
            "  Downloading grpcio-1.32.0-cp37-cp37m-manylinux2014_x86_64.whl (3.8 MB)\n",
            "\u001b[K     |████████████████████████████████| 3.8 MB 43.4 MB/s \n",
            "\u001b[?25hRequirement already satisfied: tensorboard-data-server<0.7.0,>=0.6.0 in /usr/local/lib/python3.7/dist-packages (from tensorboard~=2.4->tensorflow==2.4) (0.6.1)\n",
            "Requirement already satisfied: setuptools>=41.0.0 in /usr/local/lib/python3.7/dist-packages (from tensorboard~=2.4->tensorflow==2.4) (57.4.0)\n",
            "Requirement already satisfied: werkzeug>=0.11.15 in /usr/local/lib/python3.7/dist-packages (from tensorboard~=2.4->tensorflow==2.4) (1.0.1)\n",
            "Requirement already satisfied: google-auth<3,>=1.6.3 in /usr/local/lib/python3.7/dist-packages (from tensorboard~=2.4->tensorflow==2.4) (1.35.0)\n",
            "Requirement already satisfied: requests<3,>=2.21.0 in /usr/local/lib/python3.7/dist-packages (from tensorboard~=2.4->tensorflow==2.4) (2.23.0)\n",
            "Requirement already satisfied: tensorboard-plugin-wit>=1.6.0 in /usr/local/lib/python3.7/dist-packages (from tensorboard~=2.4->tensorflow==2.4) (1.8.1)\n",
            "Requirement already satisfied: google-auth-oauthlib<0.5,>=0.4.1 in /usr/local/lib/python3.7/dist-packages (from tensorboard~=2.4->tensorflow==2.4) (0.4.6)\n",
            "Requirement already satisfied: markdown>=2.6.8 in /usr/local/lib/python3.7/dist-packages (from tensorboard~=2.4->tensorflow==2.4) (3.3.7)\n",
            "Requirement already satisfied: rsa<5,>=3.1.4 in /usr/local/lib/python3.7/dist-packages (from google-auth<3,>=1.6.3->tensorboard~=2.4->tensorflow==2.4) (4.8)\n",
            "Requirement already satisfied: cachetools<5.0,>=2.0.0 in /usr/local/lib/python3.7/dist-packages (from google-auth<3,>=1.6.3->tensorboard~=2.4->tensorflow==2.4) (4.2.4)\n",
            "Requirement already satisfied: pyasn1-modules>=0.2.1 in /usr/local/lib/python3.7/dist-packages (from google-auth<3,>=1.6.3->tensorboard~=2.4->tensorflow==2.4) (0.2.8)\n",
            "Requirement already satisfied: requests-oauthlib>=0.7.0 in /usr/local/lib/python3.7/dist-packages (from google-auth-oauthlib<0.5,>=0.4.1->tensorboard~=2.4->tensorflow==2.4) (1.3.1)\n",
            "Requirement already satisfied: importlib-metadata>=4.4 in /usr/local/lib/python3.7/dist-packages (from markdown>=2.6.8->tensorboard~=2.4->tensorflow==2.4) (4.11.3)\n",
            "Requirement already satisfied: zipp>=0.5 in /usr/local/lib/python3.7/dist-packages (from importlib-metadata>=4.4->markdown>=2.6.8->tensorboard~=2.4->tensorflow==2.4) (3.8.0)\n",
            "Requirement already satisfied: pyasn1<0.5.0,>=0.4.6 in /usr/local/lib/python3.7/dist-packages (from pyasn1-modules>=0.2.1->google-auth<3,>=1.6.3->tensorboard~=2.4->tensorflow==2.4) (0.4.8)\n",
            "Requirement already satisfied: idna<3,>=2.5 in /usr/local/lib/python3.7/dist-packages (from requests<3,>=2.21.0->tensorboard~=2.4->tensorflow==2.4) (2.10)\n",
            "Requirement already satisfied: chardet<4,>=3.0.2 in /usr/local/lib/python3.7/dist-packages (from requests<3,>=2.21.0->tensorboard~=2.4->tensorflow==2.4) (3.0.4)\n",
            "Requirement already satisfied: certifi>=2017.4.17 in /usr/local/lib/python3.7/dist-packages (from requests<3,>=2.21.0->tensorboard~=2.4->tensorflow==2.4) (2022.5.18.1)\n",
            "Requirement already satisfied: urllib3!=1.25.0,!=1.25.1,<1.26,>=1.21.1 in /usr/local/lib/python3.7/dist-packages (from requests<3,>=2.21.0->tensorboard~=2.4->tensorflow==2.4) (1.24.3)\n",
            "Requirement already satisfied: oauthlib>=3.0.0 in /usr/local/lib/python3.7/dist-packages (from requests-oauthlib>=0.7.0->google-auth-oauthlib<0.5,>=0.4.1->tensorboard~=2.4->tensorflow==2.4) (3.2.0)\n",
            "Building wheels for collected packages: wrapt\n",
            "  Building wheel for wrapt (setup.py) ... \u001b[?25l\u001b[?25hdone\n",
            "  Created wheel for wrapt: filename=wrapt-1.12.1-cp37-cp37m-linux_x86_64.whl size=68720 sha256=3240862348f80c6afdd20ccc092c7d18f1862336aa82c940f2035c38585d7279\n",
            "  Stored in directory: /root/.cache/pip/wheels/62/76/4c/aa25851149f3f6d9785f6c869387ad82b3fd37582fa8147ac6\n",
            "Successfully built wrapt\n",
            "Installing collected packages: typing-extensions, numpy, grpcio, absl-py, wrapt, tensorflow-estimator, h5py, gast, flatbuffers, tensorflow\n",
            "  Attempting uninstall: typing-extensions\n",
            "    Found existing installation: typing-extensions 4.2.0\n",
            "    Uninstalling typing-extensions-4.2.0:\n",
            "      Successfully uninstalled typing-extensions-4.2.0\n",
            "  Attempting uninstall: numpy\n",
            "    Found existing installation: numpy 1.21.6\n",
            "    Uninstalling numpy-1.21.6:\n",
            "      Successfully uninstalled numpy-1.21.6\n",
            "  Attempting uninstall: grpcio\n",
            "    Found existing installation: grpcio 1.46.1\n",
            "    Uninstalling grpcio-1.46.1:\n",
            "      Successfully uninstalled grpcio-1.46.1\n",
            "  Attempting uninstall: absl-py\n",
            "    Found existing installation: absl-py 1.0.0\n",
            "    Uninstalling absl-py-1.0.0:\n",
            "      Successfully uninstalled absl-py-1.0.0\n",
            "  Attempting uninstall: wrapt\n",
            "    Found existing installation: wrapt 1.14.1\n",
            "    Uninstalling wrapt-1.14.1:\n",
            "      Successfully uninstalled wrapt-1.14.1\n",
            "  Attempting uninstall: tensorflow-estimator\n",
            "    Found existing installation: tensorflow-estimator 2.8.0\n",
            "    Uninstalling tensorflow-estimator-2.8.0:\n",
            "      Successfully uninstalled tensorflow-estimator-2.8.0\n",
            "  Attempting uninstall: h5py\n",
            "    Found existing installation: h5py 3.1.0\n",
            "    Uninstalling h5py-3.1.0:\n",
            "      Successfully uninstalled h5py-3.1.0\n",
            "  Attempting uninstall: gast\n",
            "    Found existing installation: gast 0.5.3\n",
            "    Uninstalling gast-0.5.3:\n",
            "      Successfully uninstalled gast-0.5.3\n",
            "  Attempting uninstall: flatbuffers\n",
            "    Found existing installation: flatbuffers 2.0\n",
            "    Uninstalling flatbuffers-2.0:\n",
            "      Successfully uninstalled flatbuffers-2.0\n",
            "  Attempting uninstall: tensorflow\n",
            "    Found existing installation: tensorflow 2.8.0+zzzcolab20220506162203\n",
            "    Uninstalling tensorflow-2.8.0+zzzcolab20220506162203:\n",
            "      Successfully uninstalled tensorflow-2.8.0+zzzcolab20220506162203\n",
            "\u001b[31mERROR: pip's dependency resolver does not currently take into account all the packages that are installed. This behaviour is the source of the following dependency conflicts.\n",
            "xarray-einstats 0.2.2 requires numpy>=1.21, but you have numpy 1.19.5 which is incompatible.\n",
            "datascience 0.10.6 requires folium==0.2.1, but you have folium 0.8.3 which is incompatible.\n",
            "albumentations 0.1.12 requires imgaug<0.2.7,>=0.2.5, but you have imgaug 0.2.9 which is incompatible.\u001b[0m\n",
            "Successfully installed absl-py-0.15.0 flatbuffers-1.12 gast-0.3.3 grpcio-1.32.0 h5py-2.10.0 numpy-1.19.5 tensorflow-2.4.0 tensorflow-estimator-2.4.0 typing-extensions-3.7.4.3 wrapt-1.12.1\n"
          ]
        },
        {
          "data": {
            "application/vnd.colab-display-data+json": {
              "pip_warning": {
                "packages": [
                  "absl",
                  "flatbuffers",
                  "gast",
                  "h5py",
                  "numpy",
                  "tensorflow",
                  "typing_extensions",
                  "wrapt"
                ]
              }
            }
          },
          "metadata": {},
          "output_type": "display_data"
        }
      ],
      "source": [
        "!pip install tensorflow==2.4"
      ]
    },
    {
      "cell_type": "code",
      "execution_count": null,
      "metadata": {
        "colab": {
          "base_uri": "https://localhost:8080/",
          "height": 204
        },
        "id": "sABeLoAF9BH6",
        "outputId": "9b6e76b9-b767-4246-c131-30d879ff9be9"
      },
      "outputs": [
        {
          "data": {
            "text/html": [
              "\n",
              "  <div id=\"df-e583cdae-9def-48a8-bb24-5fe43d061ebb\">\n",
              "    <div class=\"colab-df-container\">\n",
              "      <div>\n",
              "<style scoped>\n",
              "    .dataframe tbody tr th:only-of-type {\n",
              "        vertical-align: middle;\n",
              "    }\n",
              "\n",
              "    .dataframe tbody tr th {\n",
              "        vertical-align: top;\n",
              "    }\n",
              "\n",
              "    .dataframe thead th {\n",
              "        text-align: right;\n",
              "    }\n",
              "</style>\n",
              "<table border=\"1\" class=\"dataframe\">\n",
              "  <thead>\n",
              "    <tr style=\"text-align: right;\">\n",
              "      <th></th>\n",
              "      <th>Unnamed: 0</th>\n",
              "      <th>title</th>\n",
              "      <th>text</th>\n",
              "      <th>fake</th>\n",
              "    </tr>\n",
              "  </thead>\n",
              "  <tbody>\n",
              "    <tr>\n",
              "      <th>0</th>\n",
              "      <td>17366</td>\n",
              "      <td>Merkel: Strong result for Austria's FPO 'big c...</td>\n",
              "      <td>German Chancellor Angela Merkel said on Monday...</td>\n",
              "      <td>0</td>\n",
              "    </tr>\n",
              "    <tr>\n",
              "      <th>1</th>\n",
              "      <td>5634</td>\n",
              "      <td>Trump says Pence will lead voter fraud panel</td>\n",
              "      <td>WEST PALM BEACH, Fla.President Donald Trump sa...</td>\n",
              "      <td>0</td>\n",
              "    </tr>\n",
              "    <tr>\n",
              "      <th>2</th>\n",
              "      <td>17487</td>\n",
              "      <td>JUST IN: SUSPECTED LEAKER and “Close Confidant...</td>\n",
              "      <td>On December 5, 2017, Circa s Sara Carter warne...</td>\n",
              "      <td>1</td>\n",
              "    </tr>\n",
              "    <tr>\n",
              "      <th>3</th>\n",
              "      <td>12217</td>\n",
              "      <td>Thyssenkrupp has offered help to Argentina ove...</td>\n",
              "      <td>Germany s Thyssenkrupp, has offered assistance...</td>\n",
              "      <td>0</td>\n",
              "    </tr>\n",
              "    <tr>\n",
              "      <th>4</th>\n",
              "      <td>5535</td>\n",
              "      <td>Trump say appeals court decision on travel ban...</td>\n",
              "      <td>President Donald Trump on Thursday called the ...</td>\n",
              "      <td>0</td>\n",
              "    </tr>\n",
              "  </tbody>\n",
              "</table>\n",
              "</div>\n",
              "      <button class=\"colab-df-convert\" onclick=\"convertToInteractive('df-e583cdae-9def-48a8-bb24-5fe43d061ebb')\"\n",
              "              title=\"Convert this dataframe to an interactive table.\"\n",
              "              style=\"display:none;\">\n",
              "        \n",
              "  <svg xmlns=\"http://www.w3.org/2000/svg\" height=\"24px\"viewBox=\"0 0 24 24\"\n",
              "       width=\"24px\">\n",
              "    <path d=\"M0 0h24v24H0V0z\" fill=\"none\"/>\n",
              "    <path d=\"M18.56 5.44l.94 2.06.94-2.06 2.06-.94-2.06-.94-.94-2.06-.94 2.06-2.06.94zm-11 1L8.5 8.5l.94-2.06 2.06-.94-2.06-.94L8.5 2.5l-.94 2.06-2.06.94zm10 10l.94 2.06.94-2.06 2.06-.94-2.06-.94-.94-2.06-.94 2.06-2.06.94z\"/><path d=\"M17.41 7.96l-1.37-1.37c-.4-.4-.92-.59-1.43-.59-.52 0-1.04.2-1.43.59L10.3 9.45l-7.72 7.72c-.78.78-.78 2.05 0 2.83L4 21.41c.39.39.9.59 1.41.59.51 0 1.02-.2 1.41-.59l7.78-7.78 2.81-2.81c.8-.78.8-2.07 0-2.86zM5.41 20L4 18.59l7.72-7.72 1.47 1.35L5.41 20z\"/>\n",
              "  </svg>\n",
              "      </button>\n",
              "      \n",
              "  <style>\n",
              "    .colab-df-container {\n",
              "      display:flex;\n",
              "      flex-wrap:wrap;\n",
              "      gap: 12px;\n",
              "    }\n",
              "\n",
              "    .colab-df-convert {\n",
              "      background-color: #E8F0FE;\n",
              "      border: none;\n",
              "      border-radius: 50%;\n",
              "      cursor: pointer;\n",
              "      display: none;\n",
              "      fill: #1967D2;\n",
              "      height: 32px;\n",
              "      padding: 0 0 0 0;\n",
              "      width: 32px;\n",
              "    }\n",
              "\n",
              "    .colab-df-convert:hover {\n",
              "      background-color: #E2EBFA;\n",
              "      box-shadow: 0px 1px 2px rgba(60, 64, 67, 0.3), 0px 1px 3px 1px rgba(60, 64, 67, 0.15);\n",
              "      fill: #174EA6;\n",
              "    }\n",
              "\n",
              "    [theme=dark] .colab-df-convert {\n",
              "      background-color: #3B4455;\n",
              "      fill: #D2E3FC;\n",
              "    }\n",
              "\n",
              "    [theme=dark] .colab-df-convert:hover {\n",
              "      background-color: #434B5C;\n",
              "      box-shadow: 0px 1px 3px 1px rgba(0, 0, 0, 0.15);\n",
              "      filter: drop-shadow(0px 1px 2px rgba(0, 0, 0, 0.3));\n",
              "      fill: #FFFFFF;\n",
              "    }\n",
              "  </style>\n",
              "\n",
              "      <script>\n",
              "        const buttonEl =\n",
              "          document.querySelector('#df-e583cdae-9def-48a8-bb24-5fe43d061ebb button.colab-df-convert');\n",
              "        buttonEl.style.display =\n",
              "          google.colab.kernel.accessAllowed ? 'block' : 'none';\n",
              "\n",
              "        async function convertToInteractive(key) {\n",
              "          const element = document.querySelector('#df-e583cdae-9def-48a8-bb24-5fe43d061ebb');\n",
              "          const dataTable =\n",
              "            await google.colab.kernel.invokeFunction('convertToInteractive',\n",
              "                                                     [key], {});\n",
              "          if (!dataTable) return;\n",
              "\n",
              "          const docLinkHtml = 'Like what you see? Visit the ' +\n",
              "            '<a target=\"_blank\" href=https://colab.research.google.com/notebooks/data_table.ipynb>data table notebook</a>'\n",
              "            + ' to learn more about interactive tables.';\n",
              "          element.innerHTML = '';\n",
              "          dataTable['output_type'] = 'display_data';\n",
              "          await google.colab.output.renderOutput(dataTable, element);\n",
              "          const docLink = document.createElement('div');\n",
              "          docLink.innerHTML = docLinkHtml;\n",
              "          element.appendChild(docLink);\n",
              "        }\n",
              "      </script>\n",
              "    </div>\n",
              "  </div>\n",
              "  "
            ],
            "text/plain": [
              "   Unnamed: 0                                              title  \\\n",
              "0       17366  Merkel: Strong result for Austria's FPO 'big c...   \n",
              "1        5634       Trump says Pence will lead voter fraud panel   \n",
              "2       17487  JUST IN: SUSPECTED LEAKER and “Close Confidant...   \n",
              "3       12217  Thyssenkrupp has offered help to Argentina ove...   \n",
              "4        5535  Trump say appeals court decision on travel ban...   \n",
              "\n",
              "                                                text  fake  \n",
              "0  German Chancellor Angela Merkel said on Monday...     0  \n",
              "1  WEST PALM BEACH, Fla.President Donald Trump sa...     0  \n",
              "2  On December 5, 2017, Circa s Sara Carter warne...     1  \n",
              "3  Germany s Thyssenkrupp, has offered assistance...     0  \n",
              "4  President Donald Trump on Thursday called the ...     0  "
            ]
          },
          "execution_count": 7,
          "metadata": {},
          "output_type": "execute_result"
        }
      ],
      "source": [
        "train_url = \"https://github.com/PhilChodrow/PIC16b/blob/master/datasets/fake_news_train.csv?raw=true\"\n",
        "data = pd.read_csv(train_url)\n",
        "data.head()"
      ]
    },
    {
      "cell_type": "code",
      "execution_count": null,
      "metadata": {
        "colab": {
          "base_uri": "https://localhost:8080/"
        },
        "id": "U0y4-qgHAfoC",
        "outputId": "2e15bdfc-5d1e-4195-bc75-65a3548115f5"
      },
      "outputs": [
        {
          "name": "stdout",
          "output_type": "stream",
          "text": [
            "[nltk_data] Downloading package stopwords to /root/nltk_data...\n",
            "[nltk_data]   Unzipping corpora/stopwords.zip.\n"
          ]
        },
        {
          "data": {
            "text/plain": [
              "True"
            ]
          },
          "execution_count": 8,
          "metadata": {},
          "output_type": "execute_result"
        }
      ],
      "source": [
        "import nltk\n",
        "nltk.download('stopwords')"
      ]
    },
    {
      "cell_type": "code",
      "execution_count": null,
      "metadata": {
        "id": "xnY9WBoS_mdF"
      },
      "outputs": [],
      "source": [
        "stopwords = nltk.corpus.stopwords.words('english')"
      ]
    },
    {
      "cell_type": "markdown",
      "metadata": {
        "id": "13wg1F8tEs2I"
      },
      "source": [
        "## Constructing a function to return a data data tensor object"
      ]
    },
    {
      "cell_type": "markdown",
      "source": [
        "We will create a function called make_dataset that will remove stopwords and return a tf.data.Dataset with 2 inputs and one output."
      ],
      "metadata": {
        "id": "nfGT5fO2Kv1B"
      }
    },
    {
      "cell_type": "code",
      "execution_count": null,
      "metadata": {
        "colab": {
          "base_uri": "https://localhost:8080/"
        },
        "id": "PlwTSMnVHCG3",
        "outputId": "266bb55f-e0c0-4424-f3ac-031e4996295a"
      },
      "outputs": [
        {
          "name": "stderr",
          "output_type": "stream",
          "text": [
            "/usr/local/lib/python3.7/dist-packages/ipykernel_launcher.py:4: FutureWarning: The default value of regex will change from True to False in a future version.\n",
            "  after removing the cwd from sys.path.\n",
            "/usr/local/lib/python3.7/dist-packages/ipykernel_launcher.py:5: FutureWarning: The default value of regex will change from True to False in a future version.\n",
            "  \"\"\"\n",
            "/usr/local/lib/python3.7/dist-packages/ipykernel_launcher.py:6: FutureWarning: The default value of regex will change from True to False in a future version.\n",
            "  \n",
            "/usr/local/lib/python3.7/dist-packages/ipykernel_launcher.py:7: FutureWarning: The default value of regex will change from True to False in a future version.\n",
            "  import sys\n"
          ]
        },
        {
          "data": {
            "text/plain": [
              "tensorflow.python.data.ops.dataset_ops.BatchDataset"
            ]
          },
          "execution_count": 8,
          "metadata": {},
          "output_type": "execute_result"
        }
      ],
      "source": [
        "def make_dataset(data):\n",
        "\n",
        "  pat = r'\\b(?:{})\\b'.format('|'.join(stopwords))\n",
        "  data['title'] = data['title'].str.replace(pat, '')\n",
        "  data['title'] = data['title'].str.replace(r'\\s+', ' ')\n",
        "  data['text'] = data['text'].str.replace(pat, '')\n",
        "  data['text'] = data['text'].str.replace(r'\\s+', ' ')\n",
        "\n",
        "  data = tf.data.Dataset.from_tensor_slices(\n",
        "    ( # dictionary for input data/features\n",
        "     # two inputs: title and text\n",
        "        { \"title\": data[[\"title\"]],\n",
        "     \"text\": data[[\"text\"]]\n",
        "      },\n",
        "    # dictionary for output data/labels\n",
        "    # one ouput: fake\n",
        "      { \"fake\": data[[\"fake\"]]\n",
        "\n",
        "      }\n",
        "    )\n",
        "  )\n",
        "  data = data.batch(100)\n",
        "  return(data)\n",
        "\n",
        "#batch our data to make training faster; train on chunks of data rather than individual rows\n",
        "data = make_dataset(data)\n",
        "type(data)"
      ]
    },
    {
      "cell_type": "markdown",
      "source": [
        "## Splitting data into training and validation sets"
      ],
      "metadata": {
        "id": "RlQ6_oM04Wzp"
      }
    },
    {
      "cell_type": "code",
      "execution_count": null,
      "metadata": {
        "id": "LvdEEngcG_2o"
      },
      "outputs": [],
      "source": [
        "#shuffle dataset\n",
        "data = data.shuffle(buffer_size = len(data))\n",
        "#70% training\n",
        "train_size = int(0.7*len(data))\n",
        "#30% validation\n",
        "val_size = int(0.3*len(data))\n",
        "\n",
        "train = data.take(train_size)\n",
        "val = data.skip(train_size).take(val_size)\n",
        "test = data.skip(train_size+val_size)"
      ]
    },
    {
      "cell_type": "markdown",
      "source": [
        "## Base rate"
      ],
      "metadata": {
        "id": "xHawBnWG4ksl"
      }
    },
    {
      "cell_type": "markdown",
      "source": [
        "Let’s calculate the base rate. Let’s assume that our model always guesses “fake news” with label 1.\n",
        "\n"
      ],
      "metadata": {
        "id": "GGc2aTN75Wvf"
      }
    },
    {
      "cell_type": "markdown",
      "source": [
        "The base rate is 53%. Our model will be accurate 53% of the time if it always guesses fake."
      ],
      "metadata": {
        "id": "zrqzGj9h6IEF"
      }
    },
    {
      "cell_type": "code",
      "source": [
        "labels_iterator= train_dataset.unbatch().map(lambda text, label: ['fake).as_numpy_iterator()\n",
        "\n",
        "numberOfOnes = 0 #variable which will count the number of times label 1 shows up\n",
        "totalNumberValues = 0 #variable which will count total number of labels\n",
        "for a in labels_iterators:\n",
        "    if a[0]==1:\n",
        "        numberOfOnes +=1\n",
        "\n",
        "    totalNumberValues +=1\n",
        "baseRate = numberOfONes/totalNumberValues #base rate"
      ],
      "metadata": {
        "id": "IGyY4Uzr9Bx0"
      },
      "execution_count": null,
      "outputs": []
    },
    {
      "cell_type": "markdown",
      "source": [
        "## Creating Models"
      ],
      "metadata": {
        "id": "T6tYqKsV1w1J"
      }
    },
    {
      "cell_type": "code",
      "source": [
        "title = np.array(title)"
      ],
      "metadata": {
        "id": "icP92Y-V9E-f"
      },
      "execution_count": null,
      "outputs": []
    },
    {
      "cell_type": "code",
      "execution_count": null,
      "metadata": {
        "id": "3JbMGE6-J0qr"
      },
      "outputs": [],
      "source": [
        "#preparing a text vectorization layer for tf model\n",
        "size_vocabulary = 2000\n",
        "\n",
        "def standardization(input_data):\n",
        "    lowercase = tf.strings.lower(input_data)\n",
        "    no_punctuation = tf.strings.regex_replace(lowercase,\n",
        "                                  '[%s]' % re.escape(string.punctuation),'')\n",
        "    return no_punctuation\n",
        "\n",
        "title_vectorize_layer = TextVectorization(\n",
        "    standardize=standardization,\n",
        "    max_tokens=size_vocabulary, # only consider this many words\n",
        "    output_mode='int',\n",
        "    output_sequence_length=500)\n",
        "\n",
        "title_vectorize_layer.adapt(train.map(lambda x, y: x[\"title\"]))\n",
        "\n",
        "# Text Vectorization\n",
        "\n",
        "text_vectorize_layer = TextVectorization(\n",
        "    standardize=standardization,\n",
        "    max_tokens=size_vocabulary,\n",
        "    output_mode='int',\n",
        "    output_sequence_length=500)\n",
        "\n",
        "text_vectorize_layer.adapt(train.map(lambda x, y: x[\"text\"]))"
      ]
    },
    {
      "cell_type": "markdown",
      "source": [
        "### Model 1: Title only"
      ],
      "metadata": {
        "id": "p7Q8nm7nFokk"
      }
    },
    {
      "cell_type": "code",
      "execution_count": null,
      "metadata": {
        "id": "quk6pr0eW-tE"
      },
      "outputs": [],
      "source": [
        "title_input = keras.Input(\n",
        "    shape=(1,),\n",
        "    name = \"title\", # same name as the dictionary key in the dataset\n",
        "    dtype = \"string\"\n",
        ")"
      ]
    },
    {
      "cell_type": "code",
      "execution_count": null,
      "metadata": {
        "id": "ssHlQNLmUAn2"
      },
      "outputs": [],
      "source": [
        "# layers for processing the title\n",
        "title_features = title_vectorize_layer(title_input)\n",
        "\n",
        "# Add embedding layer, dropout\n",
        "title_features = layers.Embedding(size_vocabulary, output_dim = 3, name=\"embedding\")(title_features)\n",
        "title_features = layers.Dropout(0.2)(title_features)\n",
        "title_features = layers.GlobalAveragePooling1D()(title_features)\n",
        "title_features = layers.Dropout(0.2)(title_features)\n",
        "title_features = layers.Dense(32, activation='relu')(title_features)"
      ]
    },
    {
      "cell_type": "code",
      "execution_count": null,
      "metadata": {
        "id": "4c7Gc2EgXTMm"
      },
      "outputs": [],
      "source": [
        "output = layers.Dense(2, name=\"fake\")(title_features)"
      ]
    },
    {
      "cell_type": "code",
      "execution_count": null,
      "metadata": {
        "id": "hnwoFXEwYu7J"
      },
      "outputs": [],
      "source": [
        "model = keras.Model(\n",
        "    inputs = [title_input],\n",
        "    outputs = output\n",
        ")"
      ]
    },
    {
      "cell_type": "code",
      "execution_count": null,
      "metadata": {
        "colab": {
          "base_uri": "https://localhost:8080/"
        },
        "id": "tVYEERZjYzt2",
        "outputId": "6e7260b7-f2e9-4c39-f2eb-7d0c3fb9d0c5"
      },
      "outputs": [
        {
          "name": "stdout",
          "output_type": "stream",
          "text": [
            "Model: \"model\"\n",
            "_________________________________________________________________\n",
            " Layer (type)                Output Shape              Param #   \n",
            "=================================================================\n",
            " title (InputLayer)          [(None, 1)]               0         \n",
            "                                                                 \n",
            " text_vectorization (TextVec  (None, 500)              0         \n",
            " torization)                                                     \n",
            "                                                                 \n",
            " embedding (Embedding)       (None, 500, 3)            6000      \n",
            "                                                                 \n",
            " dropout (Dropout)           (None, 500, 3)            0         \n",
            "                                                                 \n",
            " global_average_pooling1d (G  (None, 3)                0         \n",
            " lobalAveragePooling1D)                                          \n",
            "                                                                 \n",
            " dropout_1 (Dropout)         (None, 3)                 0         \n",
            "                                                                 \n",
            " dense (Dense)               (None, 32)                128       \n",
            "                                                                 \n",
            " fake (Dense)                (None, 2)                 66        \n",
            "                                                                 \n",
            "=================================================================\n",
            "Total params: 6,194\n",
            "Trainable params: 6,194\n",
            "Non-trainable params: 0\n",
            "_________________________________________________________________\n"
          ]
        }
      ],
      "source": [
        "model.summary()"
      ]
    },
    {
      "cell_type": "code",
      "execution_count": null,
      "metadata": {
        "colab": {
          "base_uri": "https://localhost:8080/",
          "height": 758
        },
        "id": "63DuJ1uOJ1qG",
        "outputId": "f03329af-4af9-4660-be58-7b654b57a877"
      },
      "outputs": [
        {
          "data": {
            "image/png": "[encoded data removed]",
            "text/plain": [
              "<IPython.core.display.Image object>"
            ]
          },
          "execution_count": 18,
          "metadata": {},
          "output_type": "execute_result"
        }
      ],
      "source": [
        "keras.utils.plot_model(model)"
      ]
    },
    {
      "cell_type": "code",
      "execution_count": null,
      "metadata": {
        "id": "q7DJbUheZ0PA"
      },
      "outputs": [],
      "source": [
        "model.compile(optimizer=\"adam\",\n",
        "              loss = losses.SparseCategoricalCrossentropy(from_logits=True),\n",
        "              metrics=[\"accuracy\"])"
      ]
    },
    {
      "cell_type": "code",
      "execution_count": null,
      "metadata": {
        "colab": {
          "base_uri": "https://localhost:8080/"
        },
        "id": "Af-wifUQZ1Qi",
        "outputId": "0a1bedbb-7cfe-4d54-a66d-878227eb4f0e"
      },
      "outputs": [
        {
          "name": "stderr",
          "output_type": "stream",
          "text": [
            "/usr/local/lib/python3.7/dist-packages/keras/engine/functional.py:559: UserWarning: Input dict contained keys ['text'] which did not match any model input. They will be ignored by the model.\n",
            "  inputs = self._flatten_to_reference_inputs(inputs)\n"
          ]
        }
      ],
      "source": [
        "#fitting data\n",
        "history = model.fit(train,\n",
        "                    validation_data=val,\n",
        "                    epochs = 50,\n",
        "                    verbose = False)"
      ]
    },
    {
      "cell_type": "code",
      "execution_count": null,
      "metadata": {
        "colab": {
          "base_uri": "https://localhost:8080/",
          "height": 282
        },
        "id": "cGEk7QDuaU4h",
        "outputId": "93d5dc94-db89-4a8b-ca0a-53405dce39df"
      },
      "outputs": [
        {
          "data": {
            "text/plain": [
              "[<matplotlib.lines.Line2D at 0x7f24f3f39510>]"
            ]
          },
          "execution_count": 19,
          "metadata": {},
          "output_type": "execute_result"
        },
        {
          "data": {
            "image/png": "[encoded data removed]",
            "text/plain": [
              "<Figure size 432x288 with 1 Axes>"
            ]
          },
          "metadata": {},
          "output_type": "display_data"
        }
      ],
      "source": [
        "from matplotlib import pyplot as plt\n",
        "plt.plot(history.history[\"accuracy\"], label=\"training data\")\n",
        "plt.plot(history.history[\"val_accuracy\"], label=\"validation data\")\n",
        "plt.gca().set(xlabel = \"epoch\", ylabel = \"accuracy\")\n",
        "plt.legend()"
      ]
    },
    {
      "cell_type": "markdown",
      "source": [
        "## Model 2: text only"
      ],
      "metadata": {
        "id": "RDlN0NF89PPu"
      }
    },
    {
      "cell_type": "code",
      "execution_count": null,
      "metadata": {
        "id": "tfycqv6Sa7qQ"
      },
      "outputs": [],
      "source": [
        "text_input = keras.Input(\n",
        "    shape=(1,),\n",
        "    name = \"text\", # same name as the dictionary key in the dataset\n",
        "    dtype = \"string\"\n",
        ")"
      ]
    },
    {
      "cell_type": "code",
      "execution_count": null,
      "metadata": {
        "id": "TUyjjWMGcJl1"
      },
      "outputs": [],
      "source": [
        "text_features = text_vectorize_layer(text_input) # apply this \"function TextVectorization layer\" to lyrics_input\n",
        "text_features = layers.Embedding(size_vocabulary, output_dim = 3, name=\"embedding\")(text_features)\n",
        "text_features = layers.Dropout(0.2)(text_features)\n",
        "text_features = layers.GlobalAveragePooling1D()(text_features)\n",
        "text_features = layers.Dropout(0.2)(text_features)\n",
        "text_features = layers.Dense(32, activation='relu')(text_features)"
      ]
    },
    {
      "cell_type": "code",
      "execution_count": null,
      "metadata": {
        "id": "7TlKfUzAdNUo"
      },
      "outputs": [],
      "source": [
        "output1 = layers.Dense(2, name=\"fake\")(text_features)"
      ]
    },
    {
      "cell_type": "code",
      "execution_count": null,
      "metadata": {
        "id": "_fUDPGCRc0JD"
      },
      "outputs": [],
      "source": [
        "modelText = keras.Model(\n",
        "    inputs = [text_input],\n",
        "    outputs = output1\n",
        ")"
      ]
    },
    {
      "cell_type": "code",
      "execution_count": null,
      "metadata": {
        "id": "_ky9xW06dUtX"
      },
      "outputs": [],
      "source": [
        "modelText.compile(optimizer=\"adam\",\n",
        "              loss = losses.SparseCategoricalCrossentropy(from_logits=True),\n",
        "              metrics=[\"accuracy\"])"
      ]
    },
    {
      "cell_type": "code",
      "execution_count": null,
      "metadata": {
        "colab": {
          "base_uri": "https://localhost:8080/"
        },
        "id": "u81unO7OdYaZ",
        "outputId": "73ff58a1-d628-4866-c293-62883ec45b8f"
      },
      "outputs": [
        {
          "name": "stdout",
          "output_type": "stream",
          "text": [
            "Epoch 1/50\n",
            "157/157 [==============================] - 6s 40ms/step - loss: 0.0644 - accuracy: 0.9799 - val_loss: 0.0470 - val_accuracy: 0.9876\n",
            "Epoch 2/50\n",
            "157/157 [==============================] - 5s 31ms/step - loss: 0.0615 - accuracy: 0.9791 - val_loss: 0.0432 - val_accuracy: 0.9878\n",
            "Epoch 3/50\n",
            "157/157 [==============================] - 3s 18ms/step - loss: 0.0608 - accuracy: 0.9799 - val_loss: 0.0389 - val_accuracy: 0.9887\n",
            "Epoch 4/50\n",
            "157/157 [==============================] - 3s 18ms/step - loss: 0.0533 - accuracy: 0.9814 - val_loss: 0.0391 - val_accuracy: 0.9916\n",
            "Epoch 5/50\n",
            "157/157 [==============================] - 3s 18ms/step - loss: 0.0594 - accuracy: 0.9793 - val_loss: 0.0398 - val_accuracy: 0.9897\n",
            "Epoch 6/50\n",
            "157/157 [==============================] - 3s 17ms/step - loss: 0.0570 - accuracy: 0.9807 - val_loss: 0.0378 - val_accuracy: 0.9893\n",
            "Epoch 7/50\n",
            "157/157 [==============================] - 3s 17ms/step - loss: 0.0538 - accuracy: 0.9811 - val_loss: 0.0352 - val_accuracy: 0.9911\n",
            "Epoch 8/50\n",
            "157/157 [==============================] - 3s 19ms/step - loss: 0.0602 - accuracy: 0.9803 - val_loss: 0.0422 - val_accuracy: 0.9900\n",
            "Epoch 9/50\n",
            "157/157 [==============================] - 3s 18ms/step - loss: 0.0591 - accuracy: 0.9802 - val_loss: 0.0397 - val_accuracy: 0.9907\n",
            "Epoch 10/50\n",
            "157/157 [==============================] - 3s 17ms/step - loss: 0.0553 - accuracy: 0.9813 - val_loss: 0.0397 - val_accuracy: 0.9896\n",
            "Epoch 11/50\n",
            "157/157 [==============================] - 3s 17ms/step - loss: 0.0584 - accuracy: 0.9800 - val_loss: 0.0369 - val_accuracy: 0.9897\n",
            "Epoch 12/50\n",
            "157/157 [==============================] - 3s 17ms/step - loss: 0.0565 - accuracy: 0.9815 - val_loss: 0.0267 - val_accuracy: 0.9929\n",
            "Epoch 13/50\n",
            "157/157 [==============================] - 3s 17ms/step - loss: 0.0551 - accuracy: 0.9810 - val_loss: 0.0269 - val_accuracy: 0.9929\n",
            "Epoch 14/50\n",
            "157/157 [==============================] - 3s 17ms/step - loss: 0.0558 - accuracy: 0.9804 - val_loss: 0.0337 - val_accuracy: 0.9924\n",
            "Epoch 15/50\n",
            "157/157 [==============================] - 3s 18ms/step - loss: 0.0558 - accuracy: 0.9822 - val_loss: 0.0343 - val_accuracy: 0.9924\n",
            "Epoch 16/50\n",
            "157/157 [==============================] - 3s 17ms/step - loss: 0.0550 - accuracy: 0.9815 - val_loss: 0.0282 - val_accuracy: 0.9931\n",
            "Epoch 17/50\n",
            "157/157 [==============================] - 3s 17ms/step - loss: 0.0570 - accuracy: 0.9801 - val_loss: 0.0310 - val_accuracy: 0.9929\n",
            "Epoch 18/50\n",
            "157/157 [==============================] - 3s 17ms/step - loss: 0.0566 - accuracy: 0.9811 - val_loss: 0.0420 - val_accuracy: 0.9869\n",
            "Epoch 19/50\n",
            "157/157 [==============================] - 3s 18ms/step - loss: 0.0573 - accuracy: 0.9803 - val_loss: 0.0333 - val_accuracy: 0.9929\n",
            "Epoch 20/50\n",
            "157/157 [==============================] - 3s 17ms/step - loss: 0.0567 - accuracy: 0.9810 - val_loss: 0.0327 - val_accuracy: 0.9913\n",
            "Epoch 21/50\n",
            "157/157 [==============================] - 3s 18ms/step - loss: 0.0539 - accuracy: 0.9817 - val_loss: 0.0271 - val_accuracy: 0.9937\n",
            "Epoch 22/50\n",
            "157/157 [==============================] - 3s 17ms/step - loss: 0.0563 - accuracy: 0.9801 - val_loss: 0.0317 - val_accuracy: 0.9942\n",
            "Epoch 23/50\n",
            "157/157 [==============================] - 3s 17ms/step - loss: 0.0569 - accuracy: 0.9810 - val_loss: 0.0383 - val_accuracy: 0.9913\n",
            "Epoch 24/50\n",
            "157/157 [==============================] - 3s 17ms/step - loss: 0.0529 - accuracy: 0.9817 - val_loss: 0.0394 - val_accuracy: 0.9900\n",
            "Epoch 25/50\n",
            "157/157 [==============================] - 3s 17ms/step - loss: 0.0515 - accuracy: 0.9817 - val_loss: 0.0322 - val_accuracy: 0.9936\n",
            "Epoch 26/50\n",
            "157/157 [==============================] - 3s 17ms/step - loss: 0.0524 - accuracy: 0.9825 - val_loss: 0.0359 - val_accuracy: 0.9911\n",
            "Epoch 27/50\n",
            "157/157 [==============================] - 3s 17ms/step - loss: 0.0535 - accuracy: 0.9828 - val_loss: 0.0320 - val_accuracy: 0.9937\n",
            "Epoch 28/50\n",
            "157/157 [==============================] - 3s 17ms/step - loss: 0.0544 - accuracy: 0.9817 - val_loss: 0.0364 - val_accuracy: 0.9896\n",
            "Epoch 29/50\n",
            "157/157 [==============================] - 3s 18ms/step - loss: 0.0563 - accuracy: 0.9804 - val_loss: 0.0333 - val_accuracy: 0.9912\n",
            "Epoch 30/50\n",
            "157/157 [==============================] - 4s 23ms/step - loss: 0.0570 - accuracy: 0.9803 - val_loss: 0.0305 - val_accuracy: 0.9931\n",
            "Epoch 31/50\n",
            "157/157 [==============================] - 3s 20ms/step - loss: 0.0563 - accuracy: 0.9806 - val_loss: 0.0323 - val_accuracy: 0.9931\n",
            "Epoch 32/50\n",
            "157/157 [==============================] - 4s 23ms/step - loss: 0.0568 - accuracy: 0.9803 - val_loss: 0.0311 - val_accuracy: 0.9933\n",
            "Epoch 33/50\n",
            "157/157 [==============================] - 5s 31ms/step - loss: 0.0525 - accuracy: 0.9815 - val_loss: 0.0250 - val_accuracy: 0.9947\n",
            "Epoch 34/50\n",
            "157/157 [==============================] - 4s 27ms/step - loss: 0.0515 - accuracy: 0.9815 - val_loss: 0.0334 - val_accuracy: 0.9929\n",
            "Epoch 35/50\n",
            "157/157 [==============================] - 4s 26ms/step - loss: 0.0511 - accuracy: 0.9833 - val_loss: 0.0319 - val_accuracy: 0.9924\n",
            "Epoch 36/50\n",
            "157/157 [==============================] - 4s 26ms/step - loss: 0.0518 - accuracy: 0.9822 - val_loss: 0.0334 - val_accuracy: 0.9922\n",
            "Epoch 37/50\n",
            "157/157 [==============================] - 4s 26ms/step - loss: 0.0532 - accuracy: 0.9816 - val_loss: 0.0290 - val_accuracy: 0.9904\n",
            "Epoch 38/50\n",
            "157/157 [==============================] - 3s 17ms/step - loss: 0.0553 - accuracy: 0.9813 - val_loss: 0.0288 - val_accuracy: 0.9942\n",
            "Epoch 39/50\n",
            "157/157 [==============================] - 3s 16ms/step - loss: 0.0521 - accuracy: 0.9822 - val_loss: 0.0262 - val_accuracy: 0.9940\n",
            "Epoch 40/50\n",
            "157/157 [==============================] - 3s 17ms/step - loss: 0.0522 - accuracy: 0.9813 - val_loss: 0.0327 - val_accuracy: 0.9940\n",
            "Epoch 41/50\n",
            "157/157 [==============================] - 3s 16ms/step - loss: 0.0541 - accuracy: 0.9823 - val_loss: 0.0207 - val_accuracy: 0.9949\n",
            "Epoch 42/50\n",
            "157/157 [==============================] - 3s 16ms/step - loss: 0.0508 - accuracy: 0.9829 - val_loss: 0.0217 - val_accuracy: 0.9947\n",
            "Epoch 43/50\n",
            "157/157 [==============================] - 3s 17ms/step - loss: 0.0532 - accuracy: 0.9823 - val_loss: 0.0244 - val_accuracy: 0.9949\n",
            "Epoch 44/50\n",
            "157/157 [==============================] - 3s 17ms/step - loss: 0.0519 - accuracy: 0.9822 - val_loss: 0.0295 - val_accuracy: 0.9930\n",
            "Epoch 45/50\n",
            "157/157 [==============================] - 3s 17ms/step - loss: 0.0504 - accuracy: 0.9843 - val_loss: 0.0245 - val_accuracy: 0.9929\n",
            "Epoch 46/50\n",
            "157/157 [==============================] - 3s 18ms/step - loss: 0.0516 - accuracy: 0.9831 - val_loss: 0.0248 - val_accuracy: 0.9933\n",
            "Epoch 47/50\n",
            "157/157 [==============================] - 5s 28ms/step - loss: 0.0476 - accuracy: 0.9823 - val_loss: 0.0252 - val_accuracy: 0.9936\n",
            "Epoch 48/50\n",
            "157/157 [==============================] - 5s 32ms/step - loss: 0.0488 - accuracy: 0.9825 - val_loss: 0.0271 - val_accuracy: 0.9951\n",
            "Epoch 49/50\n",
            "157/157 [==============================] - 5s 31ms/step - loss: 0.0543 - accuracy: 0.9821 - val_loss: 0.0255 - val_accuracy: 0.9930\n",
            "Epoch 50/50\n",
            "157/157 [==============================] - 4s 27ms/step - loss: 0.0498 - accuracy: 0.9813 - val_loss: 0.0285 - val_accuracy: 0.9931\n"
          ]
        }
      ],
      "source": [
        "history = modelText.fit(train,\n",
        "                    validation_data=val,\n",
        "                    epochs = 50)\n",
        "                    #verbose = False)"
      ]
    },
    {
      "cell_type": "code",
      "execution_count": null,
      "metadata": {
        "id": "iiTre5kbdw5M"
      },
      "outputs": [],
      "source": [
        "from matplotlib import pyplot as plt\n",
        "plt.plot(history.history[\"accuracy\"])\n",
        "plt.plot(history.history[\"val_accuracy\"])"
      ]
    },
    {
      "cell_type": "code",
      "execution_count": null,
      "metadata": {
        "id": "xZTWLYPlfrrY"
      },
      "outputs": [],
      "source": [
        "#Delete this block of code?\n",
        "\n",
        "text_features = title_vectorize_layer(text_input) # apply this \"function TextVectorization layer\" to lyrics_input\n",
        "text_features = layers.Dense(32, activation='relu')(text_features)"
      ]
    },
    {
      "cell_type": "markdown",
      "source": [
        "# Model 3: Title and Text"
      ],
      "metadata": {
        "id": "GXA0bpcz19nL"
      }
    },
    {
      "cell_type": "code",
      "execution_count": null,
      "metadata": {
        "id": "AutY8qhpepC6"
      },
      "outputs": [],
      "source": [
        "main = layers.concatenate([title_features, text_features], axis = 1)"
      ]
    },
    {
      "cell_type": "code",
      "execution_count": null,
      "metadata": {
        "id": "Jm7RFhnOfP0o"
      },
      "outputs": [],
      "source": [
        "main = layers.Dense(32, activation='relu')(main)\n",
        "output2 = layers.Dense(2, name=\"fake\")(main)"
      ]
    },
    {
      "cell_type": "code",
      "execution_count": null,
      "metadata": {
        "id": "12HZsHDSfSE3"
      },
      "outputs": [],
      "source": [
        "modelTextTitle = keras.Model(\n",
        "    inputs = [title_input, text_input],\n",
        "    outputs = output2\n",
        ")"
      ]
    },
    {
      "cell_type": "code",
      "execution_count": null,
      "metadata": {
        "id": "RBV6-CePfy0I"
      },
      "outputs": [],
      "source": [
        "modelTextTitle.compile(optimizer=\"adam\",\n",
        "              loss = losses.SparseCategoricalCrossentropy(from_logits=True),\n",
        "              metrics=[\"accuracy\"])"
      ]
    },
    {
      "cell_type": "code",
      "execution_count": null,
      "metadata": {
        "colab": {
          "base_uri": "https://localhost:8080/"
        },
        "id": "9EAWY_JPf3Y4",
        "outputId": "3b195547-795a-4184-8ae8-bb2aefd7fb48"
      },
      "outputs": [
        {
          "name": "stdout",
          "output_type": "stream",
          "text": [
            "Epoch 1/20\n",
            "157/157 [==============================] - 5s 34ms/step - loss: 0.5939 - accuracy: 0.8006 - val_loss: 0.3341 - val_accuracy: 0.8907\n",
            "Epoch 2/20\n",
            "157/157 [==============================] - 4s 27ms/step - loss: 0.4055 - accuracy: 0.8553 - val_loss: 0.2061 - val_accuracy: 0.9567\n",
            "Epoch 3/20\n",
            "157/157 [==============================] - 3s 20ms/step - loss: 0.2150 - accuracy: 0.9329 - val_loss: 0.1465 - val_accuracy: 0.9562\n",
            "Epoch 4/20\n",
            "157/157 [==============================] - 3s 18ms/step - loss: 0.1749 - accuracy: 0.9475 - val_loss: 0.1264 - val_accuracy: 0.9758\n",
            "Epoch 5/20\n",
            "157/157 [==============================] - 3s 18ms/step - loss: 0.1673 - accuracy: 0.9424 - val_loss: 0.0971 - val_accuracy: 0.9829\n",
            "Epoch 6/20\n",
            "157/157 [==============================] - 3s 17ms/step - loss: 0.1274 - accuracy: 0.9609 - val_loss: 0.0851 - val_accuracy: 0.9858\n",
            "Epoch 7/20\n",
            "157/157 [==============================] - 3s 17ms/step - loss: 0.1117 - accuracy: 0.9647 - val_loss: 0.0741 - val_accuracy: 0.9816\n",
            "Epoch 8/20\n",
            "157/157 [==============================] - 3s 18ms/step - loss: 0.1002 - accuracy: 0.9696 - val_loss: 0.0779 - val_accuracy: 0.9844\n",
            "Epoch 9/20\n",
            "157/157 [==============================] - 3s 18ms/step - loss: 0.1019 - accuracy: 0.9661 - val_loss: 0.1074 - val_accuracy: 0.9642\n",
            "Epoch 10/20\n",
            "157/157 [==============================] - 3s 17ms/step - loss: 0.0973 - accuracy: 0.9648 - val_loss: 0.1075 - val_accuracy: 0.9575\n",
            "Epoch 11/20\n",
            "157/157 [==============================] - 3s 17ms/step - loss: 0.0831 - accuracy: 0.9736 - val_loss: 0.0518 - val_accuracy: 0.9847\n",
            "Epoch 12/20\n",
            "157/157 [==============================] - 3s 18ms/step - loss: 0.0854 - accuracy: 0.9711 - val_loss: 0.1024 - val_accuracy: 0.9591\n",
            "Epoch 13/20\n",
            "157/157 [==============================] - 3s 18ms/step - loss: 0.0761 - accuracy: 0.9736 - val_loss: 0.0807 - val_accuracy: 0.9684\n",
            "Epoch 14/20\n",
            "157/157 [==============================] - 3s 18ms/step - loss: 0.0822 - accuracy: 0.9701 - val_loss: 0.0528 - val_accuracy: 0.9852\n",
            "Epoch 15/20\n",
            "157/157 [==============================] - 3s 18ms/step - loss: 0.0743 - accuracy: 0.9732 - val_loss: 0.0439 - val_accuracy: 0.9867\n",
            "Epoch 16/20\n",
            "157/157 [==============================] - 3s 18ms/step - loss: 0.0756 - accuracy: 0.9718 - val_loss: 0.0473 - val_accuracy: 0.9887\n",
            "Epoch 17/20\n",
            "157/157 [==============================] - 3s 18ms/step - loss: 0.0675 - accuracy: 0.9746 - val_loss: 0.0373 - val_accuracy: 0.9867\n",
            "Epoch 18/20\n",
            "157/157 [==============================] - 3s 18ms/step - loss: 0.0813 - accuracy: 0.9697 - val_loss: 0.0336 - val_accuracy: 0.9896\n",
            "Epoch 19/20\n",
            "157/157 [==============================] - 3s 18ms/step - loss: 0.0601 - accuracy: 0.9787 - val_loss: 0.0385 - val_accuracy: 0.9902\n",
            "Epoch 20/20\n",
            "157/157 [==============================] - 3s 18ms/step - loss: 0.0597 - accuracy: 0.9770 - val_loss: 0.0408 - val_accuracy: 0.9889\n"
          ]
        }
      ],
      "source": [
        "history = modelTextTitle.fit(train,\n",
        "                    validation_data=val,\n",
        "                    epochs = 20)"
      ]
    },
    {
      "cell_type": "markdown",
      "source": [
        "## Model Evaluation on Test Data"
      ],
      "metadata": {
        "id": "yVP0EUL52rCM"
      }
    },
    {
      "cell_type": "code",
      "execution_count": null,
      "metadata": {
        "id": "gUYtHj60isDt"
      },
      "outputs": [],
      "source": [
        "test_url = \"https://github.com/PhilChodrow/PIC16b/blob/master/datasets/fake_news_test.csv?raw=true\"\n",
        "testData = pd.read_csv(test_url)"
      ]
    },
    {
      "cell_type": "code",
      "execution_count": null,
      "metadata": {
        "colab": {
          "base_uri": "https://localhost:8080/"
        },
        "id": "3JOUE8dkBKBo",
        "outputId": "36f3a9c1-ce9a-45c2-a775-7bf19b904127"
      },
      "outputs": [
        {
          "name": "stderr",
          "output_type": "stream",
          "text": [
            "/usr/local/lib/python3.7/dist-packages/ipykernel_launcher.py:4: FutureWarning: The default value of regex will change from True to False in a future version.\n",
            "  after removing the cwd from sys.path.\n",
            "/usr/local/lib/python3.7/dist-packages/ipykernel_launcher.py:5: FutureWarning: The default value of regex will change from True to False in a future version.\n",
            "  \"\"\"\n",
            "/usr/local/lib/python3.7/dist-packages/ipykernel_launcher.py:6: FutureWarning: The default value of regex will change from True to False in a future version.\n",
            "  \n",
            "/usr/local/lib/python3.7/dist-packages/ipykernel_launcher.py:7: FutureWarning: The default value of regex will change from True to False in a future version.\n",
            "  import sys\n"
          ]
        }
      ],
      "source": [
        "testData\n",
        "testData1 = make_dataset(testData)"
      ]
    },
    {
      "cell_type": "code",
      "execution_count": null,
      "metadata": {
        "colab": {
          "base_uri": "https://localhost:8080/"
        },
        "id": "758DvOq5Btfb",
        "outputId": "c777a0f9-ebcc-4157-dae2-1ffe842812d7"
      },
      "outputs": [
        {
          "name": "stdout",
          "output_type": "stream",
          "text": [
            "225/225 [==============================] - 1s 4ms/step - loss: 0.0488 - accuracy: 0.9833\n"
          ]
        },
        {
          "data": {
            "text/plain": [
              "[0.04875486344099045, 0.9833400249481201]"
            ]
          },
          "execution_count": 23,
          "metadata": {},
          "output_type": "execute_result"
        }
      ],
      "source": [
        "model.evaluate(testData1)"
      ]
    },
    {
      "cell_type": "markdown",
      "source": [
        "## Embedding visualization"
      ],
      "metadata": {
        "id": "Q7_z0D592yTO"
      }
    },
    {
      "cell_type": "code",
      "execution_count": null,
      "metadata": {
        "id": "dl5pBC7ND2kK"
      },
      "outputs": [],
      "source": [
        "weights = model.get_layer('embedding').get_weights()[0] # get the weights from the embedding layer\n",
        "vocab = title_vectorize_layer.get_vocabulary()                # get the vocabulary from our data prep for later\n",
        "\n",
        "from sklearn.decomposition import PCA\n",
        "pca = PCA(n_components=2)\n",
        "weights = pca.fit_transform(weights)\n",
        "\n",
        "embedding_df = pd.DataFrame({\n",
        "    'word' : vocab,\n",
        "    'x0'   : weights[:,0],\n",
        "    'x1'   : weights[:,1]\n",
        "})"
      ]
    },
    {
      "cell_type": "code",
      "execution_count": null,
      "metadata": {
        "colab": {
          "base_uri": "https://localhost:8080/",
          "height": 542
        },
        "id": "ZmgU2-ZlD3j7",
        "outputId": "ed840d65-1246-4f92-8ecd-23968a50cb68"
      },
      "outputs": [
        {
          "data": {
            "text/html": [
              "<html>\n",
              "<head><meta charset=\"utf-8\" /></head>\n",
              "<body>\n",
              "    <div>            <script src=\"https://cdnjs.cloudflare.com/ajax/libs/mathjax/2.7.5/MathJax.js?config=TeX-AMS-MML_SVG\"></script><script type=\"text/javascript\">if (window.MathJax) {MathJax.Hub.Config({SVG: {font: \"STIX-Web\"}});}</script>                <script type=\"text/javascript\">window.PlotlyConfig = {MathJaxConfig: 'local'};</script>\n",
              "        <script src=\"https://cdn.plot.ly/plotly-2.8.3.min.js\"></script>                <div id=\"7c1e7c3a-ca3a-4427-8f6d-fab608047462\" class=\"plotly-graph-div\" style=\"height:525px; width:100%;\"></div>            <script type=\"text/javascript\">                                    window.PLOTLYENV=window.PLOTLYENV || {};                                    if (document.getElementById(\"7c1e7c3a-ca3a-4427-8f6d-fab608047462\")) {                    Plotly.newPlot(                        \"7c1e7c3a-ca3a-4427-8f6d-fab608047462\",                        [{\"hovertemplate\":\"<b>%{hovertext}</b><br><br>x0=%{x}<br>x1=%{y}<br>size=%{marker.size}<extra></extra>\",\"hovertext\":[\"\",\"[UNK]\",\"trump\",\"video\",\"to\",\"the\",\"us\",\"for\",\"in\",\"of\",\"says\",\"on\",\"a\",\"and\",\"is\",\"obama\",\"with\",\"watch\",\"house\",\"hillary\",\"new\",\"clinton\",\"his\",\"after\",\"about\",\"president\",\"white\",\"trump\\u2019\",\"just\",\"at\",\"russia\",\"bill\",\"from\",\"by\",\"state\",\"north\",\"over\",\"who\",\"this\",\"he\",\"out\",\"court\",\"republican\",\"korea\",\"it\",\"senate\",\"are\",\"election\",\"her\",\"donald\",\"how\",\"breaking\",\"vote\",\"will\",\"news\",\"black\",\"as\",\"media\",\"not\",\"calls\",\"be\",\"republicans\",\"him\",\"china\",\"\\u2013\",\"police\",\"that\",\"why\",\"tax\",\"gop\",\"was\",\"campaign\",\"muslim\",\"may\",\"you\",\"up\",\"iran\",\"deal\",\"has\",\"one\",\"gets\",\"back\",\"syria\",\"eu\",\"what\",\"democrats\",\"fbi\",\"tweets\",\"government\",\"people\",\"down\",\"senator\",\"former\",\"talks\",\"un\",\"russian\",\"security\",\"congress\",\"speech\",\"have\",\"america\",\"attack\",\"party\",\"first\",\"against\",\"pm\",\"democrat\",\"chief\",\"plan\",\"fox\",\"top\",\"war\",\"ban\",\"cnn\",\"leader\",\"judge\",\"they\",\"tells\",\"report\",\"twitter\",\"law\",\"probe\",\"minister\",\"during\",\"make\",\"man\",\"their\",\"say\",\"no\",\"could\",\"would\",\"turkey\",\"makes\",\"million\",\"when\",\"governor\",\"south\",\"brexit\",\"military\",\"official\",\"liberal\",\"take\",\"sanders\",\"he\\u2019\",\"uk\",\"foreign\",\"supreme\",\"she\",\"obama\\u2019\",\"if\",\"gun\",\"get\",\"factbox\",\"border\",\"woman\",\"more\",\"racist\",\"goes\",\"cruz\",\"want\",\"tweet\",\"like\",\"sanctions\",\"it\\u2019\",\"two\",\"putin\",\"presidential\",\"american\",\"shows\",\"healthcare\",\"off\",\"rally\",\"americans\",\"supporters\",\"being\",\"response\",\"wow\",\"nuclear\",\"them\",\"into\",\"host\",\"day\",\"wants\",\"an\",\"obamacare\",\"fight\",\"lawmakers\",\"illegal\",\"support\",\"islamic\",\"all\",\"ryan\",\"poll\",\"syrian\",\"urges\",\"next\",\"mexico\",\"your\",\"show\",\"time\",\"german\",\"debate\",\"call\",\"budget\",\"rights\",\"national\",\"women\",\"refugees\",\"political\",\"meet\",\"go\",\"bernie\",\"world\",\"policy\",\"race\",\"crisis\",\"saudi\",\"our\",\"meeting\",\"killed\",\"gives\",\"details\",\"trade\",\"see\",\"attacks\",\"room\",\"help\",\"antitrump\",\"visit\",\"takes\",\"warns\",\"students\",\"panel\",\"fake\",\"conservative\",\"because\",\"ted\",\"school\",\"must\",\"group\",\"germany\",\"travel\",\"stop\",\"claims\",\"candidate\",\"can\",\"big\",\"pick\",\"immigration\",\"france\",\"win\",\"while\",\"democratic\",\"comey\",\"texas\",\"secretary\",\"opposition\",\"states\",\"iraq\",\"asks\",\"right\",\"plans\",\"death\",\"climate\",\"ties\",\"sources\",\"most\",\"huge\",\"got\",\"city\",\"britain\",\"still\",\"reporter\",\"old\",\"officials\",\"head\",\"end\",\"air\",\"way\",\"voters\",\"press\",\"arrested\",\"we\",\"tillerson\",\"seeks\",\"major\",\"left\",\"hilarious\",\"did\",\"administration\",\"move\",\"money\",\"going\",\"years\",\"wall\",\"rules\",\"obama\\u2019s\",\"general\",\"emails\",\"defense\",\"leftist\",\"department\",\"cops\",\"but\",\"washington\",\"mayor\",\"john\",\"caught\",\"before\",\"presidency\",\"paul\",\"myanmar\",\"free\",\"\\u2019\",\"justice\",\"japan\",\"supporter\",\"so\",\"email\",\"director\",\"secret\",\"leaders\",\"boiler\",\"hillary\\u2019\",\"health\",\"give\",\"federal\",\"case\",\"aid\",\"work\",\"than\",\"should\",\"shocking\",\"live\",\"violence\",\"push\",\"exclusive\",\"ahead\",\"team\",\"interview\",\"don\\u2019\",\"dnc\",\"control\",\"change\",\"won\\u2019\",\"shooting\",\"sexual\",\"lives\",\"kill\",\"i\",\"college\",\"use\",\"reform\",\"reason\",\"protesters\",\"key\",\"family\",\"conservatives\",\"year\",\"run\",\"post\",\"lawyer\",\"last\",\"ep\",\"dead\",\"\\u201d\",\"said\",\"isis\",\"florida\",\"bid\",\"voter\",\"threatens\",\"open\",\"never\",\"merkel\",\"tv\",\"really\",\"peace\",\"now\",\"ever\",\"order\",\"made\",\"high\",\"fire\",\"truth\",\"told\",\"protest\",\"macron\",\"list\",\"jerusalem\",\"here\\u2019\",\"great\",\"forces\",\"flag\",\"discuss\",\"decision\",\"times\",\"speaker\",\"social\",\"puerto\",\"nominee\",\"know\",\"do\",\"billion\",\"votes\",\"threat\",\"pence\",\"or\",\"job\",\"investigation\",\"george\",\"force\",\"face\",\"army\",\"york\",\"need\",\"mccain\",\"lawmaker\",\"funding\",\"cut\",\"business\",\"release\",\"lie\",\"latest\",\"korean\",\"home\",\"coalition\",\"bomb\",\"2016\",\"trying\",\"ready\",\"cuba\",\"agency\",\"rico\",\"message\",\"israel\",\"image\",\"had\",\"destroys\",\"charges\",\"statement\",\"set\",\"power\",\"office\",\"lies\",\"iraqi\",\"busted\",\"attorney\",\"amid\",\"week\",\"terrorists\",\"march\",\"british\",\"adviser\",\"zimbabwe\",\"slams\",\"ruling\",\"only\",\"fired\",\"blasts\",\"asked\",\"again\",\"radical\",\"possible\",\"muslims\",\"lol\",\"legal\",\"lead\",\"catalan\",\"best\",\"another\",\"used\",\"story\",\"rohingya\",\"refugee\",\"parliament\",\"own\",\"keep\",\"jobs\",\"hate\",\"even\",\"boom\",\"action\",\"terror\",\"special\",\"source\",\"senators\",\"sean\",\"public\",\"msnbc\",\"behind\",\"terrorist\",\"rule\",\"nfl\",\"kills\",\"intelligence\",\"independence\",\"himself\",\"cia\",\"bad\",\"yemen\",\"venezuela\",\"seek\",\"orders\",\"epic\",\"under\",\"sign\",\"rejects\",\"matter\",\"hit\",\"flynn\",\"cuts\",\"called\",\"arrest\",\"aide\",\"3\",\"violent\",\"tries\",\"tell\",\"scandal\",\"needs\",\"chicago\",\"admits\",\"senior\",\"kremlin\",\"inauguration\",\"final\",\"defends\",\"california\",\"ad\",\"young\",\"victims\",\"threats\",\"shut\",\"pay\",\"lebanon\",\"hurricane\",\"found\",\"chair\",\"can\\u2019\",\"awesome\",\"announces\",\"\\u201cthe\",\"three\",\"start\",\"shot\",\"reports\",\"released\",\"protests\",\"missile\",\"backs\",\"were\",\"seen\",\"saying\",\"offers\",\"internet\",\"groups\",\"french\",\"does\",\"destroy\",\"dc\",\"children\",\"away\",\"act\",\"\\u201cwe\",\"wife\",\"trump\\u2019s\",\"these\",\"son\",\"running\",\"rep\",\"proves\",\"pressure\",\"near\",\"making\",\"hollywood\",\"hillary\\u2019s\",\"epa\",\"doesn\\u2019\",\"didn\\u2019\",\"congressman\",\"canada\",\"bush\",\"bombshell\",\"believe\",\"10\",\"vows\",\"thing\",\"they\\u2019\",\"real\",\"mcconnell\",\"london\",\"let\",\"issues\",\"executive\",\"doj\",\"disgusting\",\"demands\",\"crowd\",\"audio\",\"\\u201ci\",\"voting\",\"turkish\",\"trip\",\"street\",\"spain\",\"refuses\",\"oil\",\"kurdish\",\"king\",\"kids\",\"jr\",\"gave\",\"facebook\",\"dem\",\"cop\",\"committee\",\"been\",\"assault\",\"angry\",\"ambassador\",\"al\",\"activist\",\"wins\",\"whoa\",\"using\",\"uses\",\"think\",\"spokesman\",\"sex\",\"nyc\",\"likely\",\"hilariously\",\"good\",\"girl\",\"full\",\"evidence\",\"denies\",\"debt\",\"corruption\",\"claim\",\"calling\",\"abortion\",\"xi\",\"working\",\"water\",\"warren\",\"transgender\",\"too\",\"return\",\"rant\",\"questions\",\"program\",\"pentagon\",\"navy\",\"moore\",\"massive\",\"kellyanne\",\"images\",\"hold\",\"every\",\"drops\",\"benghazi\",\"yet\",\"she\\u2019\",\"second\",\"rubio\",\"reveals\",\"rape\",\"question\",\"pelosi\",\"passes\",\"ny\",\"ivanka\",\"hack\",\"gay\",\"fed\",\"despite\",\"days\",\"citizens\",\"chris\",\"catalonia\",\"break\",\"victory\",\"united\",\"summit\",\"strike\",\"since\",\"service\",\"sarah\",\"role\",\"repeal\",\"paris\",\"much\",\"mike\",\"middle\",\"look\",\"least\",\"hearing\",\"energy\",\"conway\",\"agree\",\"union\",\"trial\",\"star\",\"photo\",\"part\",\"member\",\"labor\",\"hard\",\"friday\",\"forced\",\"food\",\"female\",\"convention\",\"ben\",\"arms\",\"agenda\",\"accuses\",\"you\\u2019\",\"test\",\"sunday\",\"sessions\",\"rips\",\"oregon\",\"millions\",\"members\",\"loses\",\"liberals\",\"joe\",\"jail\",\"hits\",\"erdogan\",\"company\",\"comments\",\"chairman\",\"brutal\",\"blames\",\"biden\",\"5\",\"workers\",\"university\",\"taking\",\"suspected\",\"strikes\",\"spicer\",\"sheriff\",\"sees\",\"picks\",\"nato\",\"nancy\",\"name\",\"murder\",\"men\",\"leave\",\"history\",\"fraud\",\"effort\",\"congressional\",\"challenge\",\"ceo\",\"brilliant\",\"block\",\"battle\",\"anchor\",\"\\u2018the\",\"vp\",\"talk\",\"signs\",\"ria\",\"responds\",\"puts\",\"put\",\"pope\",\"planned\",\"lying\",\"little\",\"letter\",\"issue\",\"getting\",\"funds\",\"fund\",\"five\",\"finally\",\"boy\",\"africa\",\"activists\",\"911\",\"1\",\"words\",\"wikileaks\",\"viral\",\"transition\",\"town\",\"thousands\",\"thinks\",\"sue\",\"stand\",\"staff\",\"schools\",\"review\",\"private\",\"prince\",\"parties\",\"pakistan\",\"offer\",\"michael\",\"melania\",\"irma\",\"immigrant\",\"hell\",\"global\",\"future\",\"four\",\"fighting\",\"elections\",\"dangerous\",\"cyber\",\"crooked\",\"country\",\"car\",\"barack\",\"arabia\",\"very\",\"some\",\"night\",\"militants\",\"michelle\",\"mexican\",\"line\",\"join\",\"insane\",\"illegals\",\"fear\",\"faces\",\"everyone\",\"envoy\",\"drug\",\"coal\",\"close\",\"clinton\\u2019\",\"cabinet\",\"breaks\",\"approves\",\"aliens\",\"alien\",\"alabama\",\"4\",\"2018\",\"without\",\"troops\",\"terrorism\",\"target\",\"student\",\"stage\",\"request\",\"prosecutor\",\"politics\",\"play\",\"oops\",\"michigan\",\"manager\",\"kelly\",\"hopes\",\"hariri\",\"find\",\"finance\",\"fans\",\"exposes\",\"egypt\",\"economic\",\"criminal\",\"come\",\"child\",\"brazil\",\"boost\",\"2\",\"west\",\"voted\",\"ukraine\",\"tucker\",\"super\",\"stunning\",\"perfect\",\"names\",\"moscow\",\"migrants\",\"killing\",\"immigrants\",\"guy\",\"friend\",\"east\",\"deputy\",\"council\",\"conference\",\"church\",\"christmas\",\"bank\",\"announcement\",\"afghan\",\"absolutely\",\"weapons\",\"waters\",\"steve\",\"stay\",\"speaks\",\"soros\",\"something\",\"referendum\",\"protect\",\"professor\",\"philippines\",\"other\",\"nafta\",\"mueller\",\"lose\",\"life\",\"leaves\",\"laws\",\"johnson\",\"israeli\",\"human\",\"europe\",\"embassy\",\"elizabeth\",\"christie\",\"capital\",\"australia\",\"allies\",\"actually\",\"access\",\"20\",\"wearing\",\"unhinged\",\"turn\",\"try\",\"step\",\"resign\",\"releases\",\"percent\",\"mugabe\",\"meltdown\",\"mattis\",\"launches\",\"ireland\",\"illinois\",\"heads\",\"fck\",\"defend\",\"christian\",\"care\",\"blame\",\"ask\",\"asia\",\"around\",\"allow\",\"vietnam\",\"update\",\"treasury\",\"totally\",\"today\",\"taiwan\",\"speak\",\"remarks\",\"raise\",\"mass\",\"journalist\",\"highlights\",\"hannity\",\"guns\",\"flashback\",\"explains\",\"economy\",\"conspiracy\",\"coming\",\"chinese\",\"carson\",\"better\",\"baltimore\",\"yr\",\"wrong\",\"worst\",\"where\",\"warning\",\"there\",\"system\",\"steps\",\"red\",\"pass\",\"palestinian\",\"ohio\",\"officer\",\"mocks\",\"missing\",\"maxine\",\"looks\",\"less\",\"lawsuit\",\"intel\",\"industry\",\"humiliates\",\"hot\",\"hacking\",\"foundation\",\"flint\",\"firm\",\"exposed\",\"detroit\",\"daughter\",\"cities\",\"charged\",\"carlson\",\"brutally\",\"actor\",\"accused\",\"tuesday\",\"tried\",\"strong\",\"russians\",\"record\",\"points\",\"megyn\",\"meets\",\"literally\",\"libya\",\"james\",\"henningsen\",\"giving\",\"far\",\"dems\",\"community\",\"comment\",\"class\",\"civil\",\"bring\",\"bathroom\",\"attacked\",\"anthem\",\"8\",\"15\",\"women\\u2019\",\"well\",\"train\",\"third\",\"telling\",\"taxes\",\"same\",\"rich\",\"residents\",\"racism\",\"poland\",\"perfectly\",\"opens\",\"number\",\"northern\",\"my\",\"moment\",\"mom\",\"mark\",\"lost\",\"irish\",\"held\",\"hacked\",\"game\",\"embarrassing\",\"dept\",\"crazy\",\"counsel\",\"confirms\",\"become\",\"arrests\",\"already\",\"wanted\",\"vs\",\"vice\",\"veteran\",\"tough\",\"talking\",\"soon\",\"shuts\",\"sh\",\"sent\",\"revealed\",\"qatar\",\"powerful\",\"philippine\",\"pastor\",\"o\\u2019reilly\",\"owner\",\"news\\u2019\",\"movie\",\"moves\",\"months\",\"might\",\"market\",\"launch\",\"furious\",\"ends\",\"elected\",\"eastern\",\"diplomatic\",\"demand\",\"declares\",\"dad\",\"changes\",\"bundy\",\"between\",\"asking\",\"appeals\",\"ads\",\"100\",\"we\\u2019\",\"virginia\",\"thursday\",\"things\",\"term\",\"teen\",\"taxpayers\",\"supporting\",\"six\",\"screenshots\",\"save\",\"roy\",\"picture\",\"palin\",\"netanyahu\",\"murdered\",\"living\",\"kurds\",\"jersey\",\"important\",\"hope\",\"guest\",\"golf\",\"firing\",\"financial\",\"eyes\",\"documents\",\"disaster\",\"destroyed\",\"criticism\",\"comes\",\"citizen\",\"central\",\"candidates\",\"base\",\"assad\",\"amnesty\",\"aides\",\"afghanistan\",\"6\",\"who\\u2019\",\"videos\",\"trump\\u201d\",\"throws\",\"testimony\",\"tensions\",\"reutersipsos\",\"reporters\",\"replace\",\"raises\",\"prison\",\"pact\",\"nbc\",\"kim\",\"jeanine\",\"jailed\",\"its\",\"hurt\",\"harassment\",\"happened\",\"girls\",\"front\",\"fires\",\"father\",\"enough\",\"due\",\"crime\",\"crackdown\",\"cover\",\"confederate\",\"commerce\",\"bangladesh\",\"australian\",\"armed\",\"any\",\"antifa\",\"answer\",\"america\\u2019\",\"african\",\"2017\",\"worse\",\"urge\",\"then\",\"suspect\",\"suicide\",\"spy\",\"spending\",\"spanish\",\"socialist\",\"sets\",\"seth\",\"rightwing\",\"resigns\",\"proof\",\"problem\",\"potential\",\"maher\",\"love\",\"italy\",\"iranian\",\"hotel\",\"homeland\",\"harvey\",\"finds\",\"feds\",\"employees\",\"efforts\",\"draws\",\"doing\",\"delay\",\"cites\",\"charge\",\"bans\",\"baby\",\"agents\",\"11\",\"worker\",\"watchdog\",\"took\",\"teacher\",\"taxpayer\",\"somali\",\"soldiers\",\"shooter\",\"seven\",\"sends\",\"sea\",\"rnc\",\"returns\",\"results\",\"quit\",\"protester\",\"praises\",\"pledge\",\"patrick\",\"parenthood\",\"others\",\"orlando\",\"nra\",\"nomination\",\"nations\",\"nails\",\"manafort\",\"joins\",\"jimmy\",\"hosts\",\"hands\",\"ground\",\"gas\",\"freedom\",\"fix\",\"experts\",\"event\",\"european\",\"early\",\"dispute\",\"dallas\",\"continues\",\"continue\",\"condemns\",\"cnn\\u2019\",\"choice\",\"boycott\",\"blocks\",\"april\",\"ally\",\"agent\",\"agencies\",\"abuse\",\"\\u201cyou\",\"winning\",\"visits\",\"usa\",\"unity\",\"trumprussia\",\"total\",\"thugs\",\"threatened\",\"testify\",\"surprise\",\"suggests\",\"stance\",\"sick\",\"seeking\",\"schumer\",\"sanctuary\",\"religious\",\"reach\",\"raqqa\",\"progress\",\"players\",\"place\",\"parents\",\"options\",\"nothing\",\"nation\",\"meddling\",\"lied\",\"legislation\",\"leaks\",\"kerry\",\"joy\",\"journalists\",\"jeff\",\"iowa\",\"international\",\"inside\",\"injured\",\"india\",\"hundreds\",\"guilty\",\"gov\",\"focus\",\"false\",\"fail\",\"ethics\",\"endorses\",\"electoral\",\"education\",\"drop\",\"detained\",\"companies\",\"communist\",\"chuck\",\"carolina\",\"ca\",\"borders\",\"book\",\"board\",\"biggest\",\"bannon\",\"backing\",\"avoid\",\"asylum\",\"amazing\",\"alleged\",\"agrees\",\"18\",\"visa\",\"veterans\",\"unreal\",\"thug\",\"thought\",\"targets\",\"supports\",\"study\",\"small\",\"sales\",\"quits\",\"propaganda\",\"promises\",\"prime\",\"posts\",\"position\",\"popular\",\"polls\",\"paid\",\"nigeria\",\"month\",\"mnuchin\",\"ministry\",\"militia\",\"migrant\",\"met\",\"looms\",\"longer\",\"links\",\"leadership\",\"kkk\",\"hispanic\",\"hear\",\"hand\",\"hammers\",\"guess\",\"green\",\"files\",\"farright\",\"failed\",\"facts\",\"exit\",\"drive\",\"data\",\"countries\",\"corporate\",\"completely\",\"committed\",\"cannot\",\"camp\",\"buy\",\"body\",\"attempt\",\"appeal\",\"anyone\",\"allegations\",\"abe\",\"50\",\"17\",\"\\u201ci\\u2019\",\"\\u201c\",\"worked\",\"word\",\"wisconsin\",\"waiting\",\"victim\",\"van\",\"turns\",\"threatening\",\"threaten\",\"swedish\",\"suspends\",\"strategy\",\"spying\",\"snl\",\"send\",\"sell\",\"sec\",\"scott\",\"robert\",\"risk\",\"regime\",\"reforms\",\"pushes\",\"protrump\",\"priceless\",\"plane\",\"past\",\"overhaul\",\"outside\",\"nazi\",\"monday\",\"many\",\"leads\",\"kasich\",\"investment\",\"insurance\",\"hysterical\",\"humiliated\",\"here\",\"happen\",\"endorsement\",\"dossier\",\"donations\",\"disturbing\",\"desperate\",\"delivers\",\"defending\",\"crimes\",\"concerned\",\"collusion\",\"clash\",\"christians\",\"cash\",\"broke\",\"brings\",\"briefing\",\"blow\",\"blacklivesmatter\",\"billionaire\",\"banned\",\"attacking\",\"appears\",\"admit\",\"address\",\"actions\",\"\\u201cracist\\u201d\",\"won\\u2019t\",\"vegas\",\"tests\",\"sudan\",\"stupid\",\"storm\",\"showing\",\"shoot\",\"san\",\"romney\",\"ridiculous\",\"respond\",\"remove\",\"relief\",\"region\",\"rebels\",\"reality\",\"pulls\",\"process\",\"policies\",\"peru\",\"person\",\"mother\",\"mock\",\"mn\",\"memorial\",\"marriage\",\"loss\",\"leaked\",\"leading\",\"lavrov\",\"kimmel\",\"kenya\",\"idea\",\"hateful\",\"harry\",\"guard\",\"gonna\",\"gender\",\"forward\",\"families\",\"falls\",\"environmental\",\"duterte\",\"dollars\",\"dialogue\",\"decide\",\"december\",\"deals\",\"cost\",\"confident\",\"chaos\",\"center\",\"bus\",\"building\",\"blood\",\"blast\",\"bizarre\",\"bills\",\"beautiful\",\"audience\",\"attempts\",\"apart\",\"airport\",\"advisor\",\"30\",\"warned\",\"undercover\",\"trash\",\"sweden\",\"susan\",\"station\",\"sports\",\"speaking\",\"reportedly\",\"remain\",\"relations\",\"reid\",\"regional\",\"read\",\"reaction\",\"price\",\"plot\",\"planning\",\"once\",\"officers\",\"nyt\",\"nine\",\"network\",\"nearly\",\"mosque\",\"me\",\"mainstream\",\"libyan\",\"kushner\",\"keeps\",\"kansas\",\"japanese\",\"islamist\",\"irs\",\"info\",\"husband\",\"holding\",\"here\\u2019s\",\"helping\",\"half\",\"god\",\"gingrich\",\"fears\",\"fan\",\"facing\",\"explain\",\"expected\",\"entire\",\"emergency\",\"dirty\",\"deep\",\"cooperation\",\"consider\",\"commission\",\"check\",\"charity\",\"banks\",\"attend\",\"amendment\",\"agreement\",\"across\",\"abc\",\"9\",\"25\",\"13\",\"zuma\",\"zika\",\"whether\",\"wednesday\",\"wage\",\"w\",\"treatment\",\"tpp\",\"tower\",\"through\",\"tantrum\",\"streets\",\"stealing\",\"situation\",\"sharpton\",\"selling\",\"road\",\"rise\",\"rice\",\"reuters\",\"recount\",\"ratings\",\"proposal\",\"project\",\"probes\",\"primary\",\"point\",\"phony\",\"outrage\",\"numbers\",\"nightmare\",\"n\",\"missiles\",\"militant\",\"mi\",\"majority\",\"lynch\",\"low\",\"losing\",\"leaving\",\"lawyers\",\"late\",\"lady\",\"kurdistan\",\"jones\",\"jeb\",\"hypocrisy\",\"huckabee\",\"hospital\",\"hiding\",\"haley\",\"gowdy\",\"fuel\",\"feel\",\"eric\",\"done\",\"criticizes\",\"critical\",\"credit\",\"coup\",\"corrupt\",\"controversial\",\"conflict\",\"commander\",\"castro\",\"cancer\",\"campus\",\"burn\",\"brilliantly\",\"breitbart\",\"based\",\"baghdad\",\"allowed\",\"aim\",\"14\",\"12\",\"\\u201cthis\",\"\\u201ca\",\"zealand\",\"won\",\"wire\",\"whines\",\"welfare\",\"welcome\",\"wasn\\u2019\",\"viewers\",\"view\",\"trudeau\",\"trey\",\"tim\",\"tech\",\"straight\",\"stephen\",\"standing\",\"someone\",\"silent\",\"silence\",\"shutdown\",\"search\",\"scotus\",\"scam\",\"rush\",\"removed\",\"relationship\",\"records\",\"putting\",\"prove\",\"proposes\",\"president\\u201d\",\"phone\",\"paying\",\"opposes\",\"oklahoma\",\"nuts\",\"norway\",\"nominate\",\"marine\",\"marco\",\"long\",\"local\",\"limit\",\"lee\",\"land\",\"killer\",\"june\",\"judges\",\"islam\",\"information\",\"influence\",\"indian\",\"hezbollah\",\"helped\",\"halt\",\"guests\",\"google\",\"giuliani\",\"floor\",\"fit\",\"firms\",\"eye\",\"donors\",\"display\",\"dinner\",\"dies\",\"die\",\"declaration\",\"cuomo\",\"crash\",\"course\",\"consumer\",\"complete\",\"compares\",\"clinton\\u2019s\",\"charlottesville\",\"caucus\",\"cancels\",\"brother\",\"blaming\",\"beijing\",\"beating\",\"arizona\",\"ago\",\"\\u201cif\",\"\\u201che\",\"\\u2018you\",\"\\u2018white\",\"\\u2018fake\",\"whining\",\"wh\",\"went\",\"weighs\",\"va\",\"unlikely\",\"trumpcare\",\"truck\",\"tom\",\"there\\u2019\",\"theory\",\"steal\",\"stands\",\"shreds\",\"riots\",\"resume\",\"resolve\",\"proposed\",\"promote\",\"problems\",\"player\",\"pipeline\",\"pathetic\",\"outrageous\",\"ordered\",\"opening\",\"offensive\",\"nsa\",\"newt\",\"newspaper\",\"misconduct\",\"minnesota\",\"mic\",\"memo\",\"lot\",\"kicked\",\"kenyan\",\"juncker\",\"island\",\"holds\",\"having\",\"gorsuch\",\"gold\",\"glorious\",\"given\",\"georgia\",\"flags\",\"failure\",\"fact\",\"explodes\",\"expert\",\"expects\",\"exactly\",\"dumb\",\"direct\",\"diplomats\",\"diplomat\",\"dhs\",\"critics\",\"considering\",\"congo\",\"concerns\",\"collapse\",\"colbert\",\"classified\",\"citizenship\",\"chilling\",\"chile\",\"cheer\",\"cause\",\"carrier\",\"canadian\",\"build\",\"brussels\",\"blocked\",\"bipartisan\",\"austria\",\"argentina\",\"antigay\",\"accidentally\",\"accept\",\"24\",\"\\u2014\",\"within\",\"welcomes\",\"warming\",\"true\",\"trolls\",\"torture\",\"todd\",\"that\\u2019\",\"tears\",\"teachers\",\"systems\",\"stability\",\"soldier\",\"singapore\",\"side\",\"sharia\",\"shares\",\"sexist\",\"several\",\"server\",\"seriously\",\"serious\",\"sentence\",\"sending\",\"seat\",\"screening\",\"scheme\",\"saturday\",\"responsible\",\"rescue\",\"replacement\",\"remember\",\"regulations\",\"protection\",\"priebus\",\"presses\",\"pledges\",\"photos\",\"pennsylvania\",\"path\",\"p\",\"organizer\",\"movement\",\"massacre\",\"lower\",\"listen\",\"leftists\",\"latino\",\"judiciary\",\"jordan\",\"joint\",\"jay\",\"it\\u2019s\",\"isn\\u2019\",\"interior\",\"historic\",\"hires\",\"heart\",\"hawaii\",\"happy\",\"gulf\",\"greece\",\"graft\",\"gone\",\"gang\",\"gains\",\"funded\",\"friends\",\"flight\",\"fighters\",\"fcking\",\"fair\",\"expose\",\"episode\",\"enforcement\",\"endorse\",\"employee\",\"editor\",\"easy\",\"driver\",\"dreamers\",\"door\",\"detains\",\"demanding\",\"delegates\",\"defeat\",\"de\",\"date\",\"daily\",\"cross\",\"costs\",\"confronts\",\"colombia\",\"cold\",\"coast\",\"clear\",\"claiming\",\"civilians\",\"chelsea\",\"chance\",\"cbs\",\"camera\",\"cambodia\",\"burns\",\"brags\",\"bombers\",\"blows\",\"blacks\",\"behavior\",\"behar\",\"beaten\",\"baseball\",\"ballot\",\"asian\",\"aren\\u2019\",\"announce\",\"america\\u201d\",\"allowing\",\"actress\",\"account\",\"\\u201cit\\u2019\",\"\\u201che\\u2019\",\"\\u2018i\",\"wounded\",\"withdrawal\",\"winner\",\"willing\",\"western\",\"wealthy\",\"vet\",\"uncovered\",\"trail\",\"together\",\"thanksgiving\",\"targeted\",\"taps\",\"taken\",\"sued\",\"stops\",\"stamp\",\"sons\",\"song\",\"sold\"],\"legendgroup\":\"\",\"marker\":{\"color\":\"#636efa\",\"size\":[2,2,2,2,2,2,2,2,2,2,2,2,2,2,2,2,2,2,2,2,2,2,2,2,2,2,2,2,2,2,2,2,2,2,2,2,2,2,2,2,2,2,2,2,2,2,2,2,2,2,2,2,2,2,2,2,2,2,2,2,2,2,2,2,2,2,2,2,2,2,2,2,2,2,2,2,2,2,2,2,2,2,2,2,2,2,2,2,2,2,2,2,2,2,2,2,2,2,2,2,2,2,2,2,2,2,2,2,2,2,2,2,2,2,2,2,2,2,2,2,2,2,2,2,2,2,2,2,2,2,2,2,2,2,2,2,2,2,2,2,2,2,2,2,2,2,2,2,2,2,2,2,2,2,2,2,2,2,2,2,2,2,2,2,2,2,2,2,2,2,2,2,2,2,2,2,2,2,2,2,2,2,2,2,2,2,2,2,2,2,2,2,2,2,2,2,2,2,2,2,2,2,2,2,2,2,2,2,2,2,2,2,2,2,2,2,2,2,2,2,2,2,2,2,2,2,2,2,2,2,2,2,2,2,2,2,2,2,2,2,2,2,2,2,2,2,2,2,2,2,2,2,2,2,2,2,2,2,2,2,2,2,2,2,2,2,2,2,2,2,2,2,2,2,2,2,2,2,2,2,2,2,2,2,2,2,2,2,2,2,2,2,2,2,2,2,2,2,2,2,2,2,2,2,2,2,2,2,2,2,2,2,2,2,2,2,2,2,2,2,2,2,2,2,2,2,2,2,2,2,2,2,2,2,2,2,2,2,2,2,2,2,2,2,2,2,2,2,2,2,2,2,2,2,2,2,2,2,2,2,2,2,2,2,2,2,2,2,2,2,2,2,2,2,2,2,2,2,2,2,2,2,2,2,2,2,2,2,2,2,2,2,2,2,2,2,2,2,2,2,2,2,2,2,2,2,2,2,2,2,2,2,2,2,2,2,2,2,2,2,2,2,2,2,2,2,2,2,2,2,2,2,2,2,2,2,2,2,2,2,2,2,2,2,2,2,2,2,2,2,2,2,2,2,2,2,2,2,2,2,2,2,2,2,2,2,2,2,2,2,2,2,2,2,2,2,2,2,2,2,2,2,2,2,2,2,2,2,2,2,2,2,2,2,2,2,2,2,2,2,2,2,2,2,2,2,2,2,2,2,2,2,2,2,2,2,2,2,2,2,2,2,2,2,2,2,2,2,2,2,2,2,2,2,2,2,2,2,2,2,2,2,2,2,2,2,2,2,2,2,2,2,2,2,2,2,2,2,2,2,2,2,2,2,2,2,2,2,2,2,2,2,2,2,2,2,2,2,2,2,2,2,2,2,2,2,2,2,2,2,2,2,2,2,2,2,2,2,2,2,2,2,2,2,2,2,2,2,2,2,2,2,2,2,2,2,2,2,2,2,2,2,2,2,2,2,2,2,2,2,2,2,2,2,2,2,2,2,2,2,2,2,2,2,2,2,2,2,2,2,2,2,2,2,2,2,2,2,2,2,2,2,2,2,2,2,2,2,2,2,2,2,2,2,2,2,2,2,2,2,2,2,2,2,2,2,2,2,2,2,2,2,2,2,2,2,2,2,2,2,2,2,2,2,2,2,2,2,2,2,2,2,2,2,2,2,2,2,2,2,2,2,2,2,2,2,2,2,2,2,2,2,2,2,2,2,2,2,2,2,2,2,2,2,2,2,2,2,2,2,2,2,2,2,2,2,2,2,2,2,2,2,2,2,2,2,2,2,2,2,2,2,2,2,2,2,2,2,2,2,2,2,2,2,2,2,2,2,2,2,2,2,2,2,2,2,2,2,2,2,2,2,2,2,2,2,2,2,2,2,2,2,2,2,2,2,2,2,2,2,2,2,2,2,2,2,2,2,2,2,2,2,2,2,2,2,2,2,2,2,2,2,2,2,2,2,2,2,2,2,2,2,2,2,2,2,2,2,2,2,2,2,2,2,2,2,2,2,2,2,2,2,2,2,2,2,2,2,2,2,2,2,2,2,2,2,2,2,2,2,2,2,2,2,2,2,2,2,2,2,2,2,2,2,2,2,2,2,2,2,2,2,2,2,2,2,2,2,2,2,2,2,2,2,2,2,2,2,2,2,2,2,2,2,2,2,2,2,2,2,2,2,2,2,2,2,2,2,2,2,2,2,2,2,2,2,2,2,2,2,2,2,2,2,2,2,2,2,2,2,2,2,2,2,2,2,2,2,2,2,2,2,2,2,2,2,2,2,2,2,2,2,2,2,2,2,2,2,2,2,2,2,2,2,2,2,2,2,2,2,2,2,2,2,2,2,2,2,2,2,2,2,2,2,2,2,2,2,2,2,2,2,2,2,2,2,2,2,2,2,2,2,2,2,2,2,2,2,2,2,2,2,2,2,2,2,2,2,2,2,2,2,2,2,2,2,2,2,2,2,2,2,2,2,2,2,2,2,2,2,2,2,2,2,2,2,2,2,2,2,2,2,2,2,2,2,2,2,2,2,2,2,2,2,2,2,2,2,2,2,2,2,2,2,2,2,2,2,2,2,2,2,2,2,2,2,2,2,2,2,2,2,2,2,2,2,2,2,2,2,2,2,2,2,2,2,2,2,2,2,2,2,2,2,2,2,2,2,2,2,2,2,2,2,2,2,2,2,2,2,2,2,2,2,2,2,2,2,2,2,2,2,2,2,2,2,2,2,2,2,2,2,2,2,2,2,2,2,2,2,2,2,2,2,2,2,2,2,2,2,2,2,2,2,2,2,2,2,2,2,2,2,2,2,2,2,2,2,2,2,2,2,2,2,2,2,2,2,2,2,2,2,2,2,2,2,2,2,2,2,2,2,2,2,2,2,2,2,2,2,2,2,2,2,2,2,2,2,2,2,2,2,2,2,2,2,2,2,2,2,2,2,2,2,2,2,2,2,2,2,2,2,2,2,2,2,2,2,2,2,2,2,2,2,2,2,2,2,2,2,2,2,2,2,2,2,2,2,2,2,2,2,2,2,2,2,2,2,2,2,2,2,2,2,2,2,2,2,2,2,2,2,2,2,2,2,2,2,2,2,2,2,2,2,2,2,2,2,2,2,2,2,2,2,2,2,2,2,2,2,2,2,2,2,2,2,2,2,2,2,2,2,2,2,2,2,2,2,2,2,2,2,2,2,2,2,2,2,2,2,2,2,2,2,2,2,2,2,2,2,2,2,2,2,2,2,2,2,2,2,2,2,2,2,2,2,2,2,2,2,2,2,2,2,2,2,2,2,2,2,2,2,2,2,2,2,2,2,2,2,2,2,2,2,2,2,2,2,2,2,2,2,2,2,2,2,2,2,2,2,2,2,2,2,2,2,2,2,2,2,2,2,2,2,2,2,2,2,2,2,2,2,2,2,2,2,2,2,2,2,2,2,2,2,2,2,2,2,2,2,2,2,2,2,2,2,2,2,2,2,2,2,2,2,2,2,2,2,2,2,2,2,2,2,2,2,2,2,2,2,2,2,2,2,2,2,2,2,2,2,2,2,2,2,2,2,2,2,2,2,2,2,2,2,2,2,2,2,2,2,2,2,2,2,2,2,2,2,2,2,2,2,2,2,2,2,2,2,2,2,2,2,2,2,2,2,2,2,2,2,2,2,2,2,2,2,2,2,2,2,2,2,2,2,2,2,2,2,2,2,2,2,2,2,2,2,2,2,2,2,2,2,2,2,2,2,2,2,2,2,2,2,2,2,2,2,2,2,2,2,2,2,2,2,2,2,2,2,2,2,2,2,2,2,2,2,2,2,2,2,2,2,2,2,2,2,2,2,2,2,2,2,2,2,2,2,2,2,2,2,2,2,2,2,2,2,2,2,2,2,2,2,2,2,2,2,2,2,2,2,2,2,2,2,2,2,2,2,2,2,2,2,2,2,2,2,2,2,2,2,2,2,2,2,2,2,2,2,2,2,2,2,2,2,2,2,2,2,2,2,2,2,2,2,2,2,2,2,2,2,2,2,2,2,2,2,2,2,2,2,2,2,2,2,2,2,2,2,2,2,2,2,2,2,2,2,2,2,2,2,2,2,2,2,2,2,2,2,2,2,2,2,2,2,2,2,2,2,2,2,2,2,2,2,2,2,2,2,2,2,2,2,2,2,2,2,2,2,2,2,2,2,2,2,2,2,2,2,2,2,2,2,2,2,2,2,2,2,2,2,2,2,2,2,2,2,2,2,2,2,2,2,2,2,2,2,2,2,2,2,2,2,2,2,2,2,2,2,2,2,2,2,2,2,2,2,2,2,2,2,2,2,2,2,2,2,2,2,2,2,2,2,2,2,2,2,2,2,2,2,2,2,2,2,2,2,2,2,2,2,2,2,2,2,2,2,2,2,2,2,2,2,2,2,2,2,2,2,2,2,2,2,2,2,2,2,2,2,2,2,2,2,2,2,2,2,2,2,2,2,2,2,2,2,2,2,2,2,2,2,2,2,2,2,2,2,2,2,2,2,2,2,2,2,2,2,2,2,2,2,2,2,2,2,2,2,2,2,2,2],\"sizemode\":\"area\",\"sizeref\":0.005,\"symbol\":\"circle\"},\"mode\":\"markers\",\"name\":\"\",\"showlegend\":false,\"x\":[-0.2768040895462036,0.2800527811050415,-0.48946940898895264,4.397651672363281,5.598970413208008,3.1856939792633057,-0.5735166668891907,4.479465484619141,2.741586923599243,5.322556972503662,-2.433974504470825,4.026243209838867,2.3421339988708496,4.565413951873779,3.7634081840515137,0.6324816942214966,3.0808513164520264,3.2646360397338867,-1.1479791402816772,3.13517165184021,0.1603860706090927,-0.626366913318634,4.069120407104492,2.912719488143921,3.4899089336395264,0.7017667293548584,-0.3112223744392395,4.27670955657959,4.548335075378418,2.3962700366973877,-0.8168057203292847,-0.5229825377464294,3.8680686950683594,4.233725547790527,-0.1864950954914093,-1.2365487813949585,3.482689142227173,3.070895195007324,3.1569719314575195,3.665297746658325,3.547215223312378,-1.3486045598983765,-0.44511178135871887,-1.1522998809814453,2.238696336746216,-1.3296306133270264,3.7279927730560303,-1.294898509979248,3.186124801635742,1.6252350807189941,2.267559766769409,4.437377452850342,-1.3104676008224487,4.067878723144531,1.214012622833252,1.5526522397994995,2.6916909217834473,0.36562690138816833,3.633770704269409,-1.2852511405944824,3.1647584438323975,-0.08879080414772034,3.1594550609588623,-3.7582638263702393,4.283794403076172,-0.9506353735923767,3.950467824935913,2.40998911857605,-1.4012383222579956,3.5386545658111572,3.456054449081421,-0.3650004267692566,1.628768801689148,-2.083057403564453,3.2041542530059814,3.3837761878967285,-0.650459349155426,-1.5257514715194702,3.2804744243621826,0.25568580627441406,0.6728630661964417,0.6452838182449341,0.6525489091873169,-2.85235595703125,2.1120283603668213,-0.5846704244613647,0.9012736678123474,1.4874681234359741,-0.3443475365638733,0.09728562086820602,3.6789801120758057,-0.7670338153839111,-0.17328386008739471,-2.9102892875671387,-1.7149505615234375,-0.39887535572052,-0.5702956318855286,-1.3226817846298218,-0.6482635140419006,3.397138833999634,1.3634206056594849,0.21265172958374023,-0.7480481863021851,-0.1627316027879715,3.8214995861053467,-3.061091661453247,0.37227681279182434,-2.385125160217285,-0.3296114504337311,0.4563278257846832,0.10525147616863251,0.43622922897338867,-0.7258427739143372,0.6380321383476257,-1.1420310735702515,0.00971012469381094,3.0424129962921143,-1.221755862236023,0.9587781429290771,0.3439413607120514,-0.4521412253379822,-2.301973342895508,-2.042546510696411,3.0589241981506348,0.28476014733314514,0.28683242201805115,3.0826263427734375,-2.235795736312866,1.0332319736480713,-0.42322325706481934,-0.05479081720113754,-3.3730528354644775,1.0449321269989014,-0.824713945388794,2.4055020809173584,-1.1717065572738647,-3.250196695327759,-2.3635566234588623,-0.8082581162452698,-1.2440508604049683,2.313267469406128,0.6877363920211792,0.6628739833831787,2.747809648513794,-2.146089553833008,-0.25390946865081787,0.3957464396953583,2.192920207977295,3.2529449462890625,1.5166325569152832,0.072627954185009,-0.5997872352600098,-4.510711669921875,-0.8309603929519653,-0.49906501173973083,2.0285942554473877,2.6274819374084473,2.0172717571258545,-0.15496289730072021,0.8304526805877686,0.9008207321166992,1.9372727870941162,-1.8592681884765625,2.8690595626831055,-0.48746758699417114,-0.7329130172729492,-1.879863977432251,2.174515724182129,0.7301551103591919,-2.248777151107788,2.9563333988189697,-0.3282030522823334,0.5493824481964111,1.6267715692520142,2.4479892253875732,-0.12848667800426483,2.3555963039398193,-0.9547138810157776,2.546848773956299,3.0398666858673096,2.019775152206421,1.204068660736084,0.8524112105369568,2.019465446472168,-0.38589558005332947,-1.6776238679885864,-1.9344676733016968,1.4880050420761108,-0.46418505907058716,-2.4771604537963867,2.03999924659729,-0.7056645154953003,-0.4469681680202484,-0.5312853455543518,-3.437687635421753,-0.26116716861724854,-1.4416955709457397,2.0571160316467285,0.23253384232521057,0.48959028720855713,-2.1547036170959473,-1.142627477645874,-0.9698291420936584,-1.8359224796295166,-1.691580057144165,0.09490199387073517,-1.0384690761566162,-0.8688852190971375,-0.23970955610275269,-0.5569007396697998,-0.13834120333194733,1.8882880210876465,0.780838668346405,-0.27460017800331116,-0.457247793674469,-1.0721323490142822,-1.0778615474700928,2.8017303943634033,-0.36259591579437256,-1.4309847354888916,0.9929128885269165,2.3555686473846436,-2.2540149688720703,-0.9242497682571411,-0.205837219953537,1.8828296661376953,-0.4393410086631775,1.1114935874938965,-0.7397637963294983,-0.36194831132888794,0.16688525676727295,0.9180377125740051,-2.2148730754852295,0.998003363609314,0.514751136302948,2.6118764877319336,2.0662574768066406,1.1606544256210327,-0.18031352758407593,-0.48133763670921326,-2.4021215438842773,-1.0752232074737549,-0.3846624791622162,1.3662633895874023,-0.24475575983524323,2.0572221279144287,0.34999120235443115,-1.3285387754440308,-0.14189186692237854,-2.7424659729003906,-0.2305704653263092,2.0417072772979736,-0.7816754579544067,-0.7605956792831421,0.4063633382320404,-0.4623826742172241,-2.829252004623413,-0.2522207200527191,-0.7143326997756958,-0.6324979662895203,1.1005549430847168,-0.4061558246612549,-1.1853880882263184,0.09756764024496078,-1.1772505044937134,-1.6360396146774292,2.0116119384765625,2.231342077255249,0.9256382584571838,-1.364210605621338,-2.8205695152282715,-0.29435184597969055,0.8522310853004456,1.0292282104492188,-1.568207025527954,-0.9343586564064026,-0.34944960474967957,-1.2677204608917236,-0.11085453629493713,-0.6550472974777222,0.5733429789543152,-0.45067012310028076,1.1869866847991943,-1.9016728401184082,-2.5923898220062256,0.5589895248413086,2.068113327026367,2.095426559448242,2.496060371398926,-1.0714799165725708,-0.507849931716919,-0.19500839710235596,1.2698782682418823,0.1769913285970688,-0.540678858757019,-0.47714999318122864,3.0580852031707764,0.0406140498816967,0.5742917656898499,-1.3963966369628906,1.4793368577957153,-0.4213622808456421,2.082502841949463,2.3913862705230713,-0.1414581537246704,-0.3005777895450592,2.3644635677337646,1.7785208225250244,1.896130084991455,-1.3664716482162476,1.868607997894287,-3.5663504600524902,-0.2319590449333191,1.5458005666732788,0.3663213551044464,-3.2084174156188965,1.9736818075180054,2.2069811820983887,-0.6273317933082581,0.0018925892654806376,1.6618696451187134,-0.8513453602790833,2.9785218238830566,2.411343812942505,-0.49771615862846375,0.17771883308887482,0.7710914611816406,-1.0071287155151367,-1.5646774768829346,-1.4052809476852417,2.4075891971588135,2.202005386352539,2.3124430179595947,1.559885859489441,1.1910057067871094,-1.1195123195648193,-2.125570297241211,0.11707699298858643,-0.6024958491325378,0.9490406513214111,2.023869752883911,1.6129779815673828,0.22637052834033966,0.44850409030914307,2.351224422454834,-0.3750515878200531,0.7294211983680725,0.8257519006729126,-0.05494809150695801,-0.24472980201244354,1.564780592918396,-0.02330620214343071,-1.197516679763794,0.9218451380729675,0.8080504536628723,-0.047602780163288116,-0.1559315174818039,0.683074414730072,-0.412657231092453,-1.11887788772583,0.11478493362665176,-0.0931951254606247,-0.572930634021759,2.691274404525757,-0.3834363520145416,2.7511184215545654,0.7304944396018982,2.621494770050049,-0.3261978328227997,-2.2729332447052,-0.11848355084657669,0.86342853307724,-0.23577435314655304,0.5919752717018127,-1.31045663356781,-1.0509133338928223,1.6459572315216064,-0.15098021924495697,2.1130893230438232,1.3217852115631104,-1.2986725568771362,-0.06552684307098389,0.4701545834541321,-1.4628126621246338,0.9415186643600464,0.19094863533973694,-1.5967832803726196,-3.12821102142334,0.5509116053581238,-1.5157228708267212,1.9797658920288086,0.9508424997329712,-1.407668113708496,1.995245099067688,-1.2509145736694336,-1.104811429977417,0.4215606451034546,-0.8375163674354553,-0.7004532814025879,-1.2578619718551636,-1.2807141542434692,0.5952616333961487,1.943477749824524,-0.5986373424530029,-0.6318926215171814,-1.3126424551010132,-1.6792629957199097,2.0026233196258545,-0.341126948595047,0.7605171799659729,0.8509604930877686,0.615574836730957,0.04204064607620239,-1.4689522981643677,-0.9590603709220886,0.2777539789676666,0.8540520071983337,-1.5155208110809326,-0.7812876105308533,-1.1679731607437134,-0.8479664325714111,0.059094157069921494,1.507379174232483,0.46517038345336914,-1.6737838983535767,-0.7277920246124268,-1.5451587438583374,-1.528635859489441,0.8665986061096191,-0.1733987182378769,-0.5204973220825195,-1.296549916267395,-0.9484996795654297,-1.4612518548965454,0.4049021899700165,-0.5557055473327637,1.1146348714828491,1.6981719732284546,1.7417322397232056,-1.385327935218811,-0.04575914889574051,-1.289773941040039,-1.9702659845352173,-0.38943761587142944,1.5801968574523926,-2.2740910053253174,2.05288028717041,-0.9597929120063782,-1.2498151063919067,-0.3676748275756836,2.3374295234680176,-0.6058220267295837,-0.7255662083625793,-1.5463240146636963,-2.9752182960510254,0.9002031683921814,-2.0925745964050293,2.0784850120544434,0.11589878797531128,0.8592667579650879,0.46746230125427246,1.5373494625091553,1.7350425720214844,-0.28313151001930237,-0.17996834218502045,1.786982536315918,-0.9633550047874451,-0.9746017456054688,-2.9663803577423096,1.2705891132354736,1.6478607654571533,0.6055160164833069,-0.059524502605199814,-3.2561233043670654,-0.8911437392234802,-2.6342551708221436,1.6791883707046509,-1.1911466121673584,-0.09959124773740768,0.8349571824073792,0.9563490748405457,1.5469038486480713,-0.0665668174624443,0.9087380766868591,-0.8107583522796631,-2.0480470657348633,-0.7918094396591187,1.9136377573013306,-0.21112214028835297,0.8769369125366211,0.432837575674057,0.4965384602546692,-2.334280014038086,0.6275357604026794,-1.613743782043457,0.722951352596283,-1.4947253465652466,2.2585866451263428,1.6282293796539307,0.06627661734819412,-2.334829807281494,-1.691265344619751,-3.048311471939087,-1.3877325057983398,1.952944278717041,1.6806395053863525,-0.5752077698707581,-0.2603610157966614,0.9767037630081177,-0.1712646335363388,-0.7227960228919983,-0.37635624408721924,0.8787654042243958,-0.6337755918502808,-1.9996728897094727,0.22989144921302795,1.5779062509536743,0.5510610342025757,0.16929659247398376,-0.5049298405647278,-0.33253294229507446,0.15041199326515198,1.72147798538208,-1.060677409172058,-2.4980881214141846,0.6181674003601074,-0.616216778755188,-1.189915418624878,-0.9428941011428833,0.8483114242553711,-0.4382467567920685,0.377772718667984,0.6009174585342407,0.28932589292526245,0.0612010583281517,-1.1516238451004028,-1.5353304147720337,-0.1263296753168106,-0.5777857303619385,2.0212948322296143,2.501929998397827,1.9599695205688477,2.243534564971924,-0.7566574215888977,-0.7642666697502136,-0.15240219235420227,-0.5524493455886841,0.8637688755989075,-0.7301151752471924,-0.8956722021102905,-2.1538424491882324,1.7622241973876953,-2.024073839187622,1.1196593046188354,-0.6738722920417786,0.170436292886734,-0.8210064172744751,-2.224196672439575,2.1734914779663086,1.325917363166809,1.3383992910385132,-0.008911222219467163,-0.349584698677063,0.9324682950973511,1.9392083883285522,-0.20290665328502655,2.329150676727295,1.8768657445907593,-0.650759220123291,1.1600677967071533,0.8247184157371521,1.6485885381698608,-1.9371106624603271,-0.6578804850578308,0.345429003238678,1.9166885614395142,1.840313196182251,-0.5305305123329163,1.8958425521850586,1.7180917263031006,0.6111714839935303,-2.1947336196899414,0.5986040234565735,2.3146138191223145,0.550208568572998,0.5651125907897949,-1.1154297590255737,0.5113458633422852,1.5088372230529785,1.6768217086791992,-0.2836911976337433,-1.7490227222442627,0.7092210650444031,-0.303853303194046,0.9806897044181824,2.0080699920654297,1.818540096282959,0.4092807173728943,1.1516975164413452,1.0381414890289307,1.9901893138885498,0.3830612301826477,-2.6614561080932617,-1.2293452024459839,-1.0473403930664062,-2.6317055225372314,1.216229796409607,-1.6835585832595825,-2.4405667781829834,-1.0719600915908813,1.486436367034912,-0.2661122977733612,0.8489226698875427,0.264948308467865,1.8936705589294434,1.741102933883667,-0.4836815893650055,1.6652449369430542,0.05552451312541962,1.6632659435272217,-0.3665230870246887,1.4022283554077148,-0.7591865658760071,-0.24449457228183746,1.961073637008667,0.8461336493492126,2.016922950744629,1.255278468132019,-2.36464786529541,-0.330741822719574,1.6941463947296143,-1.2165398597717285,1.836880087852478,0.724210798740387,0.5410485863685608,0.8907902836799622,1.4183465242385864,-1.8840900659561157,-0.6070151329040527,-1.4525728225708008,-0.49380001425743103,1.5437573194503784,0.4933256208896637,-2.4542319774627686,-0.5180593729019165,-0.06606253236532211,0.0066476440988481045,0.6057904958724976,1.0477523803710938,-1.4442675113677979,0.7360161542892456,-0.36117368936538696,-0.4169524013996124,-0.8326368927955627,0.09969180822372437,-0.4303911030292511,0.760097861289978,0.9988122582435608,1.9453296661376953,-0.7011052370071411,1.5841797590255737,0.2388349324464798,0.3908311128616333,-0.28887197375297546,1.766507625579834,-0.5921602845191956,-0.8848984837532043,1.4187082052230835,0.4241108000278473,0.3138863146305084,1.1392680406570435,0.4614947438240051,-0.9730928540229797,0.670608401298523,1.3223925828933716,0.03269531950354576,-0.5667837858200073,-1.2008472681045532,-0.6364646553993225,1.1694386005401611,1.6654599905014038,-2.6847774982452393,-0.4595899283885956,-0.466776043176651,1.27410888671875,-2.500798463821411,-1.4697602987289429,0.5148813724517822,-0.2169567048549652,1.5026113986968994,-1.2189103364944458,-1.2713651657104492,-1.4310088157653809,0.8385648727416992,0.359190434217453,0.3523388206958771,0.014748846180737019,-2.7514052391052246,-0.5407991409301758,-1.0199618339538574,0.8736144304275513,-1.6509515047073364,-0.28264302015304565,-0.9385745525360107,1.5600252151489258,0.33750787377357483,0.030495526269078255,0.7295036315917969,-0.51068514585495,-0.12359592318534851,-0.8297670483589172,-0.009645308367908001,0.2250887155532837,0.85285484790802,-0.34887751936912537,1.2747631072998047,0.47261232137680054,-0.07999633997678757,-1.0996582508087158,1.658183217048645,-1.614375352859497,2.059265613555908,-0.6988329291343689,1.8817826509475708,1.4770700931549072,0.6055472493171692,0.6126728653907776,1.3856925964355469,0.6481989622116089,1.5917983055114746,-1.194002628326416,0.08141864091157913,-0.3966040015220642,0.9734278917312622,-1.187477946281433,-0.8310545682907104,1.4801292419433594,1.3576165437698364,-1.1795024871826172,0.8255680799484253,-0.3340092897415161,0.13918296992778778,1.2069040536880493,-2.327789545059204,-0.74514240026474,1.0660817623138428,1.016186237335205,-2.429811954498291,-1.801862359046936,-0.5479270219802856,0.8787018060684204,0.13770684599876404,-0.36577126383781433,-0.030347704887390137,-0.9229809045791626,0.23890352249145508,0.5444485545158386,-0.4235018491744995,-0.8185584545135498,-1.7750500440597534,-0.5799731612205505,1.326764464378357,-0.5665856599807739,-0.6488876342773438,1.3205679655075073,2.2548747062683105,-0.13625575602054596,-1.0231764316558838,0.37675803899765015,-2.403038263320923,1.233109712600708,-1.0175707340240479,-0.2794703245162964,-1.5755516290664673,0.2691546082496643,1.4700791835784912,-0.6562029719352722,0.7316861748695374,-0.951245129108429,0.1351182907819748,-1.0320014953613281,-0.29591891169548035,-0.042631879448890686,2.311654806137085,0.677939236164093,-2.08701753616333,-0.6899194717407227,1.095674991607666,-0.09250985085964203,0.26360002160072327,1.145015001296997,0.614812970161438,0.13073943555355072,-0.4321768581867218,-1.451611042022705,0.6019951105117798,-0.4624529480934143,0.1850234866142273,-0.4398435950279236,0.21407586336135864,-1.1720749139785767,-0.18195608258247375,-1.8723443746566772,-1.9488725662231445,-2.5000410079956055,-1.7259751558303833,0.9782164692878723,0.6381232738494873,-1.918954849243164,0.33254241943359375,0.5862334370613098,0.12062620371580124,-0.05573821812868118,-1.5774157047271729,0.04091116786003113,0.4156072437763214,-0.018321333453059196,-1.8782579898834229,1.3776243925094604,-0.18266963958740234,-0.7662768959999084,1.569898247718811,-0.6361725330352783,1.4021166563034058,0.28801286220550537,1.0233708620071411,-2.1486456394195557,0.47463783621788025,-1.5051721334457397,0.15380971133708954,-0.153965026140213,1.1719681024551392,2.256248950958252,0.4953034818172455,-0.5961996912956238,0.9928482174873352,-2.5291450023651123,-0.15120136737823486,-1.3663290739059448,-1.4074950218200684,1.4017976522445679,-0.7748281955718994,0.835111141204834,-2.536142110824585,1.5354726314544678,1.521004319190979,0.14151906967163086,0.7330906391143799,-2.3920722007751465,0.2862047553062439,-0.488489031791687,0.06702301651239395,-0.9506626725196838,0.9528343677520752,-0.4542931616306305,-1.0653777122497559,-0.5481391549110413,-1.4567257165908813,0.6586031913757324,1.5478861331939697,0.8771836757659912,0.6696997284889221,0.9294649362564087,-2.138735294342041,-2.0643298625946045,-1.3591289520263672,-1.3597759008407593,0.20158319175243378,2.057624578475952,-2.895768404006958,-0.5739283561706543,0.4314134120941162,0.48697516322135925,-0.5391404032707214,-2.573158025741577,-2.4120824337005615,0.08186346292495728,-1.4226794242858887,0.44380682706832886,-2.7495577335357666,1.2702722549438477,0.6508407592773438,1.7893999814987183,1.1372355222702026,-1.4784760475158691,-1.3761796951293945,-1.4426342248916626,-0.560229480266571,-0.29596102237701416,0.4654791057109833,-0.23713329434394836,-1.097655177116394,-1.2719632387161255,0.3799786865711212,-0.15776997804641724,0.23171554505825043,0.36871790885925293,-1.5527417659759521,0.629450261592865,-2.2570133209228516,1.0381499528884888,-0.7417682409286499,0.4368654787540436,0.459564208984375,-0.7014596462249756,1.0238189697265625,1.062546968460083,1.3543059825897217,-2.2980852127075195,-0.52180016040802,0.49059319496154785,-2.635249137878418,1.4139071702957153,-2.5091376304626465,0.6505798101425171,0.48101696372032166,-0.37480250000953674,-0.4441453516483307,-0.27721571922302246,-0.5430728793144226,0.09966198354959488,-0.6277903318405151,-1.2646145820617676,0.2745783030986786,0.22409871220588684,-0.3426673412322998,-2.468965530395508,-2.709388017654419,-2.2018442153930664,1.6834837198257446,0.14025911688804626,0.870231568813324,1.4406462907791138,1.3636054992675781,-0.05607936531305313,-0.8317126631736755,-1.3443630933761597,-0.8810911774635315,0.49037766456604004,-0.7833696603775024,-2.434253692626953,1.4696359634399414,-2.063275098800659,-0.07706483453512192,-2.2073426246643066,-2.0809919834136963,-0.9063879251480103,1.3833454847335815,0.35304567217826843,1.439719319343567,1.0087392330169678,0.7704364657402039,-1.495280385017395,-2.5227091312408447,0.2636396586894989,-0.4417990446090698,-2.2992234230041504,1.3352738618850708,-1.524631381034851,0.9595859050750732,-0.2974866032600403,-1.8217860460281372,0.27521079778671265,-1.0605697631835938,-1.0540395975112915,0.12471189349889755,-0.30773892998695374,-2.2807576656341553,1.1370604038238525,0.11505419760942459,1.9627405405044556,1.6501014232635498,-1.1608121395111084,2.248910665512085,0.42944636940956116,-1.4454396963119507,0.11527268588542938,0.9012258052825928,1.194960355758667,1.4167871475219727,0.11041649430990219,-0.01279977522790432,1.4081692695617676,-0.0031253371853381395,0.27865660190582275,-0.8683595657348633,-0.9663164615631104,-0.010318183340132236,-1.032125473022461,-0.8342703580856323,-0.9253092408180237,0.5561057925224304,0.8561512231826782,-0.31666064262390137,1.433173418045044,-0.8702743649482727,-0.23702740669250488,-0.19153563678264618,1.0596604347229004,-1.558548092842102,1.385728359222412,0.7923265099525452,-0.07718916982412338,-0.28191009163856506,-0.23868732154369354,-0.7427585124969482,1.5608934164047241,0.3143708407878876,-0.05182876065373421,-0.9295756220817566,-0.37126579880714417,1.4809114933013916,1.3994616270065308,0.47930124402046204,-0.6544116735458374,-1.978143572807312,1.321711540222168,-1.8902952671051025,-0.26444798707962036,-0.5465853214263916,-0.4119134545326233,1.3636974096298218,-0.7663262486457825,1.520013451576233,-0.9328136444091797,1.901102066040039,2.263368606567383,0.3923417627811432,-0.9268186092376709,1.4362283945083618,0.5379432439804077,-0.4838961958885193,0.32416075468063354,-0.3251717686653137,-0.010380910709500313,0.04496770352125168,0.43504104018211365,-0.18738991022109985,-0.14502252638339996,-0.5730111598968506,1.9315212965011597,0.27501413226127625,-0.6988289952278137,-0.23695224523544312,1.1162266731262207,-1.1954967975616455,0.9733137488365173,0.9363086819648743,-0.35021787881851196,1.0446182489395142,-1.5172204971313477,1.4240975379943848,-0.3207286596298218,0.3545445203781128,-0.7354620695114136,1.285906195640564,0.7456472516059875,0.5454432368278503,0.5286576747894287,0.31723567843437195,-1.822231650352478,-0.13167479634284973,0.02477775141596794,0.8923206329345703,1.0537394285202026,1.0598903894424438,0.6251948475837708,-0.1546870619058609,-0.40321871638298035,0.9485015273094177,-0.7688043713569641,0.6989865303039551,0.041384145617485046,1.6045058965682983,-1.6233268976211548,0.3713817000389099,-0.7984174489974976,1.5522884130477905,-0.6060856580734253,0.9092121720314026,1.173095464706421,-0.6432420611381531,1.4656484127044678,-1.0817314386367798,-0.031859736889600754,-2.384019136428833,0.6513662338256836,1.2309666872024536,-0.012500827200710773,1.7827802896499634,0.20596694946289062,-0.26018738746643066,-0.8187865018844604,0.6046896576881409,-1.7442185878753662,-0.29078438878059387,0.7301235198974609,-1.1462948322296143,0.21667411923408508,-1.823776125907898,-1.701485276222229,-0.43239548802375793,0.14852866530418396,0.5726600289344788,-1.8285274505615234,2.1233971118927,1.8284701108932495,0.40864524245262146,-0.7597484588623047,0.3236139118671417,-0.5095368027687073,1.3594062328338623,-0.030230553820729256,-1.6030279397964478,0.08595319092273712,-0.8350668549537659,0.06483132392168045,0.5947275757789612,0.7300351858139038,-1.8715847730636597,1.1970850229263306,-0.5360264182090759,-0.1320677399635315,-0.28651106357574463,0.484759122133255,-0.9675143361091614,0.11644881963729858,-0.06782888621091843,-2.173903703689575,-1.7287763357162476,0.6028643250465393,-0.32409024238586426,1.6714012622833252,-0.2789574861526489,-0.9745458364486694,-0.5199743509292603,-2.0176913738250732,0.2513017952442169,0.3919772505760193,1.5055025815963745,-1.27913498878479,1.1440324783325195,-0.7259871363639832,-1.1812360286712646,-0.5608892440795898,0.7822256088256836,-0.16208279132843018,-0.4835098385810852,-1.2316622734069824,-1.2347196340560913,0.5753466486930847,2.0305874347686768,0.45902156829833984,1.4471920728683472,0.17305287718772888,0.5352824330329895,-2.1450791358947754,-2.8171305656433105,0.15045267343521118,0.029720958322286606,-1.5928473472595215,-1.3169245719909668,-0.4489089846611023,-0.32620105147361755,-0.8632132411003113,1.556895136833191,-1.4855313301086426,1.3023232221603394,-1.473222017288208,0.14711613953113556,0.44810351729393005,-0.0028661859687417746,-0.3546050190925598,-0.08817758411169052,0.6384148597717285,0.14190897345542908,-1.418304443359375,-0.13209830224514008,-2.350449323654175,1.1676208972930908,1.6322805881500244,-1.7003856897354126,-2.0777573585510254,-1.954377293586731,0.6433108448982239,1.1162890195846558,1.1653165817260742,0.6787146925926208,1.8642246723175049,-1.6649391651153564,1.2609708309173584,0.4115220010280609,-2.4203269481658936,1.5324205160140991,-0.9402087926864624,-1.0622788667678833,0.7719711661338806,-0.40577906370162964,-2.02296781539917,1.475151538848877,-1.497469186782837,1.1232222318649292,1.3335224390029907,-1.2137730121612549,1.2376835346221924,0.39922210574150085,0.09940911829471588,1.0950971841812134,0.6567980647087097,-2.6167025566101074,0.06329265236854553,0.06979203969240189,-0.29651179909706116,-0.5427458882331848,-0.18527525663375854,1.7090567350387573,0.24426905810832977,-1.1287745237350464,-1.4525235891342163,1.3943356275558472,-1.976204752922058,-1.410308837890625,-1.4223629236221313,1.1748813390731812,0.6278647780418396,0.9929962158203125,-1.262311577796936,-0.5858567953109741,-1.9343092441558838,0.0728139728307724,1.1138243675231934,1.1900627613067627,-0.2663154602050781,-1.0303385257720947,1.2928529977798462,-1.8270108699798584,0.11053391546010971,-1.635305643081665,1.2131820917129517,-1.3502283096313477,-0.33018574118614197,-0.9352477192878723,1.1035302877426147,0.2873480021953583,-1.0224428176879883,1.3593355417251587,0.7194918394088745,-0.5811337232589722,0.8046787977218628,0.22372271120548248,-1.4539048671722412,0.937839150428772,1.3155572414398193,-0.9744320511817932,-0.12736843526363373,1.138816237449646,1.0969276428222656,-0.013459489680826664,0.4473024606704712,-1.5038872957229614,0.18858301639556885,-0.6854879260063171,-0.6226888298988342,-0.12898510694503784,-0.8497621417045593,-1.1316486597061157,-2.1427721977233887,1.2652308940887451,0.6651371121406555,-0.45016705989837646,-0.8641733527183533,1.8993769884109497,0.16113880276679993,0.6228558421134949,-0.5274152755737305,-0.6973745822906494,-1.588908076286316,0.6748220324516296,-2.1620235443115234,-0.26372817158699036,1.0295127630233765,1.0573335886001587,-1.1564310789108276,0.7100681066513062,-0.46676453948020935,-0.3281175494194031,0.6870824098587036,0.734011709690094,0.8710484504699707,-1.6880176067352295,0.09746980667114258,-0.21976619958877563,-0.9428836703300476,0.43750226497650146,-0.581859827041626,-0.7911031246185303,-0.09332084655761719,-0.8928791284561157,-1.993544340133667,-2.238736629486084,-1.5486806631088257,0.6517007350921631,0.8903138637542725,-0.11410050839185715,-2.151193380355835,0.7050393223762512,1.051010251045227,-1.527724266052246,1.3215867280960083,-1.5671149492263794,-0.24691392481327057,-1.3469480276107788,0.44787362217903137,-0.13039273023605347,1.4739636182785034,-0.024711646139621735,0.20264598727226257,-0.6945810914039612,-0.8806407451629639,-2.448256492614746,0.27767202258110046,-1.3041152954101562,1.2941322326660156,-1.400328278541565,1.2485613822937012,0.15395231544971466,-0.5837123990058899,-0.8416245579719543,0.4778779149055481,0.6422695517539978,-0.8583642840385437,-1.4727445840835571,0.05709729716181755,0.5985413193702698,1.0282905101776123,-0.1681623011827469,1.1753970384597778,0.6908490061759949,0.32161945104599,-0.5665506720542908,-0.49167492985725403,-1.058969259262085,-0.6510754823684692,-0.731523334980011,-1.602490782737732,1.0469095706939697,-0.18134532868862152,-1.256076693534851,-0.378759503364563,-1.6508101224899292,-0.2468814253807068,1.4551717042922974,1.0245637893676758,0.8901321291923523,-1.382321834564209,-0.9056681394577026,0.4868887960910797,-0.3389081358909607,-0.2915598154067993,-1.2544928789138794,1.201483130455017,-0.7415594458580017,-0.26893195509910583,1.0520426034927368,-0.4144846498966217,-0.05509769544005394,-0.31004244089126587,0.758078932762146,-2.2891242504119873,-0.4376896321773529,-1.8297834396362305,-1.5873700380325317,0.40506136417388916,-1.367039680480957,-0.3807160258293152,-2.0977401733398438,-0.09020987153053284,-1.7534288167953491,-0.5651892423629761,1.274958848953247,-0.0043568178080022335,0.08150125294923782,0.041045624762773514,1.5410263538360596,0.8315793871879578,-0.7836588621139526,-0.02734302170574665,-1.9846470355987549,0.14738468825817108,-0.1720333844423294,-0.8315111994743347,-0.43172284960746765,-0.376803994178772,-1.4194250106811523,-0.5632945895195007,0.9654492735862732,-0.7939065098762512,0.3086116313934326,-0.1176891177892685,-0.6499047875404358,-1.5811415910720825,-0.10811491310596466,-1.7367579936981201,0.8567727208137512,-0.7145127058029175,-1.9476747512817383,0.006082981824874878,-1.0658336877822876,1.205610752105713,1.0213611125946045,0.21690809726715088,0.7654246091842651,-0.1854579597711563,1.1436326503753662,0.49075111746788025,0.39477071166038513,-0.13801436126232147,1.1125909090042114,-0.22957119345664978,-0.9075222015380859,-1.1155376434326172,-0.8841500878334045,-0.4912244379520416,1.1223816871643066,-0.38055694103240967,-0.4746498167514801,-1.5059727430343628,0.7739761471748352,1.046342372894287,-1.0417627096176147,0.6918300986289978,-1.8960798978805542,-0.35556760430336,0.3922407925128937,1.18320631980896,-0.42769697308540344,-0.8505558967590332,-1.5377477407455444,-0.7015351057052612,1.1664985418319702,-0.821047306060791,-1.0648001432418823,-1.3331224918365479,-1.3177106380462646,-1.4641039371490479,-1.129636526107788,1.3806904554367065,1.2377963066101074,1.4774926900863647,0.16660331189632416,0.6279207468032837,0.5796568989753723,0.8835890293121338,0.9698168635368347,0.39369717240333557,0.3427594304084778,1.0517141819000244,-1.983166217803955,-1.2850159406661987,0.47147685289382935,-1.4757304191589355,-0.2016105204820633,-0.6438183784484863,0.02202015556395054,-0.4809805154800415,-0.4980335235595703,0.03501686453819275,0.8220685720443726,0.048636071383953094,-0.14372731745243073,0.26630377769470215,-0.8432571887969971,0.5660282969474792,-1.1802563667297363,0.11118315160274506,1.0494073629379272,1.2151638269424438,0.8348173499107361,-1.4028044939041138,-1.9267562627792358,1.1657873392105103,-1.0607714653015137,1.2541825771331787,-0.2017648071050644,0.13206210732460022,-0.0179013479501009,1.4294562339782715,-0.523887574672699,0.40363430976867676,-0.637117862701416,-1.9527201652526855,-2.109520673751831,-0.261589378118515,0.22460299730300903,-0.7198178172111511,-1.7702053785324097,-2.3152883052825928,0.15686160326004028,-0.05172647163271904,-0.4249843955039978,0.877308189868927,0.14739882946014404,0.2453218251466751,-0.026039838790893555,1.2715622186660767,0.22394882142543793,-0.7491446137428284,0.5731573700904846,-2.470825672149658,0.23306690156459808,0.7363225221633911,0.26905137300491333,-0.24814367294311523,1.0562018156051636,-0.42283692955970764,-0.19190171360969543,-1.1369833946228027,-1.3642961978912354,-1.373706340789795,-1.8199882507324219,0.8000734448432922,-1.058220386505127,-0.43384310603141785,-1.7111942768096924,0.10720282793045044,-0.7565473318099976,-0.8279056549072266,0.08358892798423767,-0.9019575119018555,-0.7658662796020508,0.03858545422554016,0.12480833381414413,-1.628605604171753,0.6684001684188843,-0.775181233882904,0.7880736589431763,-0.2626405656337738,1.3338875770568848,0.6490856409072876,-1.3319238424301147,0.8194489479064941,0.6050461530685425,-0.15274231135845184,1.3666993379592896,0.9460754990577698,-0.7031586170196533,1.087777853012085,-0.20760555565357208,0.3930356204509735,0.5800045728683472,1.5607584714889526,-1.7676209211349487,-0.8198060393333435,0.5554376244544983,-1.498887538909912,1.5646979808807373,-0.07728196680545807,-1.3903669118881226,0.17656326293945312,-0.02820259891450405,-0.252376914024353,1.027322769165039,-1.5729182958602905,-1.229854702949524,0.9374165534973145,-0.3939962387084961,0.23549602925777435,1.0712865591049194,1.4297983646392822,-1.1947340965270996,-0.9477940201759338,-0.3003675043582916,-0.7683160305023193,-2.003779888153076,-1.2069765329360962,0.2737269103527069,0.22987878322601318,-0.7881402969360352,-0.4274972379207611,0.9070549011230469,0.11382362246513367,-0.27951058745384216,1.2323600053787231,0.8671702742576599,0.04739292338490486,0.3262466788291931,-0.006048524286597967,0.538684070110321,-1.6102750301361084,0.6111516356468201,-1.5676071643829346,1.427914023399353,1.247840404510498,-0.7625455856323242,-1.9097660779953003,-0.6947442889213562,-0.09033536911010742,0.08774953335523605,-0.21727323532104492,-1.0494883060455322,0.6175349354743958,-0.05786755308508873,0.6096831560134888,-0.019280293956398964,0.4001205265522003,-0.8006654977798462,-0.5591530203819275,-1.2664508819580078,-0.5384096503257751,-1.524045467376709,-1.8084368705749512,-0.3603139817714691,0.013455388136208057,0.3274874687194824,-0.3292272090911865,-0.6783745884895325,1.5149554014205933,1.220278024673462,-0.2021733969449997,0.9817426800727844,-1.839992880821228,0.642332136631012,-0.1227356418967247,-1.323348879814148,-1.3233098983764648,-0.04888622835278511,-1.8805872201919556,0.736693263053894,-0.33404967188835144,-1.078035593032837,-0.7231058478355408,-2.0544302463531494,-0.4363929331302643,0.10632554441690445,0.7355291247367859,0.8409487009048462,0.7875065803527832,1.1498565673828125,0.7092717885971069,0.33492785692214966,-1.9323545694351196,1.1445167064666748,-0.33030828833580017,0.08379152417182922,0.6754313707351685,0.5075139403343201,-0.7733163833618164,-1.5477162599563599,-1.0151184797286987,0.7994943261146545,-1.6761468648910522,-0.25325092673301697,-0.3757404088973999,1.5772501230239868,0.8365228772163391,-0.5132873058319092,1.1838419437408447,0.39996543526649475,1.316943883895874,-1.8980274200439453,-0.8131440281867981,0.6046457290649414,0.04317079111933708,-1.525165319442749,-0.5129786133766174,-0.7342492341995239,-0.5060323476791382,0.9478464126586914,-0.4103609323501587,0.9001713991165161,-1.5992237329483032,-0.07033079862594604,-0.2717958390712738,1.1824960708618164,-0.35179662704467773,1.2302720546722412,0.5133992433547974,0.4091775119304657,-1.8708288669586182,0.40486085414886475,-1.1237103939056396,-0.2760923504829407,-0.6044984459877014,0.8804274201393127,1.2054131031036377,-1.9715886116027832,0.9321062564849854,0.42865055799484253,0.6552829146385193,0.6385143399238586,0.25303247570991516,0.7928457856178284,-0.6467714309692383,-0.6032929420471191,-1.0305942296981812,1.258969783782959,0.4394870400428772,-1.302634835243225,0.417143851518631,0.950634241104126,0.493161678314209,0.2880838215351105,-0.09586068242788315,0.829515814781189,-0.4572254419326782,-1.2557713985443115,0.9008190631866455,1.4323747158050537,0.06139720231294632,0.16203303635120392,-0.14882892370224,0.42245402932167053,-0.03013511560857296,0.5998385548591614,-0.9815330505371094,0.9840280413627625,-0.5039405226707458,0.5522342920303345,-1.667683482170105,-0.9143139719963074,0.822197437286377,0.08854686468839645,-1.735052466392517,1.1037545204162598,0.5233440399169922,-0.2557139992713928,-0.5662285089492798,-1.738781213760376,-0.1057494580745697,-0.5849701166152954,0.7329028248786926,-0.9662004113197327,-1.5812140703201294,-0.4009058475494385,-1.60879647731781,0.13472940027713776,-1.621531367301941,-1.6085455417633057,-0.2436600625514984,-1.2540929317474365,0.9755862355232239,-0.4055768847465515,0.27886486053466797,0.37843260169029236,0.36780375242233276,-1.6548858880996704,-1.8001089096069336,-0.37006595730781555,0.6297106146812439,-0.8356185555458069,0.20974141359329224,0.20598067343235016,-1.3606905937194824,0.9847242832183838,-0.7955173254013062,-0.3700040578842163,-1.4218385219573975,-0.7473755478858948,1.1033333539962769,1.2579751014709473,0.7635558843612671,0.5598598122596741,-0.6375249624252319,0.08295684307813644,1.2743335962295532,-1.8846430778503418,0.9152358770370483,-0.5910276770591736,0.5180516242980957,1.0820832252502441,1.0779340267181396,0.8585307598114014,1.119382381439209,1.4625086784362793,1.0754051208496094,0.7011909484863281,0.8750659823417664,-1.3346054553985596,0.9478182792663574,-0.8904041647911072,1.142465353012085,-0.12275930494070053,0.6688000559806824,1.0904134511947632,1.3781242370605469,0.6493305563926697,0.27039259672164917,0.8720901608467102,0.7097353339195251,-1.7336819171905518,-1.5557563304901123,-1.305612564086914,-0.30567240715026855,-0.10222834348678589,0.15261127054691315,-1.7011557817459106,0.6513270735740662,1.2752363681793213,-0.6303201913833618,-0.4488682448863983,-0.6399553418159485,0.5344496369361877,0.9603757858276367,-0.6996292471885681,-0.8176628351211548,-0.8075404763221741,0.7823382616043091,-0.6816972494125366,0.1987638622522354,0.6628574132919312,-1.5109953880310059,-1.5641415119171143,-0.3615739941596985,-0.5080010294914246,0.8431522846221924,-0.8448488116264343,0.2784610986709595,0.6796781420707703,0.13094684481620789,0.17656868696212769,0.2713052034378052,0.28486067056655884,1.0347392559051514,0.9081149101257324,0.6898341178894043,-1.8942797183990479,0.925083577632904,0.7106072306632996,-0.4171404242515564,-1.3635669946670532,-1.2203561067581177,1.3862066268920898,-0.4007621705532074,-0.5407297611236572,-1.9275128841400146,-1.0983901023864746,-0.6134856939315796,0.717402458190918,1.026462435722351,0.24281193315982819,1.0042200088500977,-1.9568599462509155,-0.42110246419906616,0.8119682669639587,-0.705962061882019,-0.8518689274787903,-0.7553192973136902,-1.0336333513259888,0.5645888447761536,-0.0012400065315887332,-1.9669322967529297,-1.9749656915664673,0.5171563029289246,1.275901198387146,-0.2937028110027313,-1.538393497467041,0.8058409094810486,-1.056110143661499,-1.2235007286071777,0.41071921586990356,-0.6398931741714478,0.7163018584251404,-0.47617149353027344,0.38807177543640137,0.8831708431243896,-0.2686128318309784,-0.24095967411994934,0.8394824266433716,-0.7234254479408264,-0.6905966401100159,-2.1105403900146484,-0.34276828169822693,1.3046720027923584,-0.248105987906456,0.375245600938797,0.7205178737640381,-0.375644326210022,-0.2708697021007538,0.0523793026804924,-0.19654831290245056,-0.03719031810760498,-1.1859560012817383,2.2342514991760254,1.0028163194656372,-0.7171911001205444,0.8381319046020508,-1.4033235311508179,-1.1770929098129272,0.7650050520896912,-1.5753284692764282,-1.1564521789550781,0.22151529788970947,-1.6552151441574097,-1.8222860097885132,0.6207952499389648,-1.406491756439209,-1.9442678689956665,-2.4137184619903564,0.4386942684650421,0.5778148770332336,-0.23322612047195435,-1.107191801071167,0.8191516995429993,0.6358980536460876,-0.15902787446975708,-0.11779192090034485,-1.0228278636932373,-1.257522463798523,0.907466471195221,0.8440071940422058,0.9204030632972717,-1.8145782947540283,0.3530065417289734,0.00599704822525382,-0.8668860197067261,0.31286513805389404,0.2994491755962372,-1.604676365852356,-1.654044270515442,-1.8195483684539795,1.5528557300567627,0.33687159419059753,-1.8233915567398071,1.194795846939087,-0.12374266237020493,-0.7042876482009888,-1.0070130825042725,0.9031392335891724,-0.8233925104141235,0.7809538245201111,1.0072118043899536,-0.3144758641719818,-0.7572958469390869,0.6322895288467407,1.1515308618545532,1.5905078649520874,-0.02641597017645836,-0.7535209655761719,-0.5725345015525818,-1.1623557806015015,0.7795303463935852,-0.3524356782436371,-0.6037201881408691,0.7290018200874329,-1.0552465915679932,0.3601921498775482,-0.878381073474884,-0.9090489745140076,0.4577481746673584,-2.0743484497070312,-0.8356420397758484,-1.547918438911438,-1.2462236881256104,1.022586464881897,-1.3235247135162354,-0.22310256958007812,-0.9652827382087708,-0.7033452391624451,0.0963524729013443,-1.8267419338226318,1.1229695081710815,0.6377543807029724,0.4756171703338623,0.8152662515640259,0.7005084753036499,-0.7418287396430969,0.5213143229484558,0.7741130590438843,-0.10993900150060654,-0.8359601497650146,0.13357552886009216,1.1277775764465332,-0.4428994953632355,1.3225970268249512,-0.31857118010520935,0.4158684313297272,-0.7115333080291748,0.9586201906204224,0.7608068585395813,0.9921096563339233,-0.8532346487045288,-1.5015612840652466,-0.05113275721669197,-0.995600700378418,-0.7230526804924011,-1.0465432405471802,0.38233494758605957,0.26199328899383545,-1.249842643737793,-0.18410247564315796,0.43205004930496216,-0.4506947696208954,-1.612234354019165,-0.041173629462718964,-0.21462592482566833,0.260081946849823,0.4145352840423584,-0.2569356858730316,0.7984842658042908,-0.1969471126794815],\"xaxis\":\"x\",\"y\":[0.00025834041298367083,-0.020546823740005493,-0.05372239276766777,-0.0069967941381037235,0.008056899532675743,-0.008387809619307518,0.0348861999809742,-0.11034473776817322,0.04641042649745941,-0.06988776475191116,0.02976018749177456,-0.07909030467271805,-0.047959357500076294,-0.057091061025857925,-0.10411830246448517,0.0032580953557044268,-0.03573928028345108,-0.0450703427195549,0.07608280330896378,0.04572365805506706,0.03855694457888603,-0.04209001362323761,-0.00027446207241155207,-0.020248517394065857,-0.060092054307460785,0.010557848028838634,-0.0501258410513401,0.01821831241250038,0.01855669543147087,-0.05456310138106346,0.018154198303818703,-0.10035884380340576,-0.040223028510808945,0.011350475251674652,0.18557438254356384,0.11833182722330093,0.0001044056989485398,-0.02811369299888611,0.04553135111927986,0.02604817785322666,-0.024024315178394318,-0.04001156985759735,-0.009549807757139206,-0.052518296986818314,-0.06570961326360703,-0.0009052499081008136,-0.0980997309088707,-0.010982302017509937,0.026331599801778793,-0.030638454481959343,-0.05328615754842758,-0.01558005902916193,0.03717508167028427,-0.06743531674146652,0.05308450385928154,0.08756989985704422,-0.028685593977570534,0.018865641206502914,-0.009602545760571957,-0.036923352628946304,0.06851506233215332,0.0965273305773735,-0.05418020859360695,-0.049172013998031616,0.05146379396319389,0.08155085891485214,0.08929413557052612,-0.028730135411024094,0.005438666325062513,-0.06476724147796631,-0.041315387934446335,-0.009950509294867516,-0.08781872689723969,0.009267502464354038,0.028889939188957214,-0.020260443910956383,-0.016525348648428917,-0.07894198596477509,0.0016748912166804075,0.08976694196462631,-0.04484811797738075,-0.002118291100487113,-0.021894728764891624,0.041117094457149506,-0.04488158971071243,-0.051657095551490784,-0.02564498409628868,-0.018963893875479698,-0.05499453842639923,0.05895973742008209,0.0338849313557148,-0.03049275651574135,0.12173471599817276,-0.06540367752313614,-0.006919057108461857,0.08614268898963928,-0.0012556897709146142,-0.00669744610786438,-0.0029876490589231253,-0.007489711511880159,-0.002892071148380637,0.010945092886686325,0.0641322135925293,0.04406280815601349,0.052020113915205,0.0199845302850008,0.034412674605846405,-0.09428013116121292,0.02809751033782959,-0.03111584670841694,-0.0327465757727623,0.0793766975402832,0.03404733166098595,-0.12274402379989624,-0.011609428562223911,-0.049733810126781464,0.00919795036315918,0.057053301483392715,-0.08789855986833572,0.026925167068839073,0.02188974618911743,0.014982885681092739,-0.06425946950912476,0.026558466255664825,-0.024059155955910683,0.03743213042616844,0.039860937744379044,-0.13790521025657654,-0.047075305134058,0.08471741527318954,-0.025422709062695503,0.02460363879799843,0.10994666069746017,-0.05684950575232506,0.008332486264407635,-0.02676502987742424,-0.0029823242221027613,0.05794509872794151,0.057911355048418045,0.0994122251868248,0.04444098100066185,0.0426650233566761,-0.06699268519878387,0.012099804356694221,0.019649282097816467,-0.003861858742311597,0.031092733144760132,-0.033797577023506165,-0.03230149298906326,0.01001205574721098,0.018079014495015144,0.07250913977622986,-0.07396133244037628,0.0667029470205307,0.02982322685420513,0.013368695043027401,-0.06274794042110443,0.021749671548604965,0.016216589137911797,0.04741306230425835,-0.07823368161916733,0.001669234363362193,-0.04194490239024162,0.019231772050261497,-0.060427647083997726,-0.09342978894710541,-0.06850991398096085,-0.04822665825486183,0.02984946221113205,0.15256451070308685,0.023862717673182487,0.026097850874066353,0.017915043979883194,-0.18831312656402588,-0.05560755357146263,-0.029073460027575493,-0.011477918364107609,-0.014287332072854042,-0.05038125440478325,-0.022708700969815254,-0.043676428496837616,-0.02692694403231144,0.0806063562631607,0.07398314028978348,-0.03138520568609238,0.08787388354539871,0.022619571536779404,0.021104726940393448,-0.01640690676867962,-0.003336539026349783,-0.004658389370888472,-0.06422355771064758,0.027171872556209564,-0.011634421534836292,-0.057317253202199936,-0.02395813539624214,0.021358560770750046,0.004252249374985695,-0.08240539580583572,0.007303290534764528,0.048738785088062286,0.011377955786883831,0.00996260717511177,-0.014598038978874683,-0.05761829391121864,0.05908932536840439,-0.08205544203519821,-0.04487623646855354,-0.027937643229961395,-0.08968588709831238,0.06974640488624573,0.0323127806186676,-0.0682997852563858,-0.04489971697330475,-0.035579800605773926,0.01181284710764885,-0.0013842139160260558,-0.01859886385500431,-0.012547111138701439,0.01097935438156128,0.0017947152955457568,-0.017223862931132317,-0.051009271293878555,-0.11937327682971954,-0.0386008620262146,0.0635150596499443,-0.030651383101940155,-0.06619758903980255,-0.024757465347647667,0.011091492138803005,0.06148866191506386,0.07808694243431091,-0.05559483543038368,0.07088188081979752,-0.10797043889760971,-0.048358265310525894,0.05250933766365051,0.02068004570901394,0.06508757174015045,-0.08386623114347458,-0.006024203263223171,0.0556996613740921,-0.1631271094083786,-0.07110148668289185,-0.036020874977111816,-0.007096051704138517,0.02648823894560337,-0.04628613591194153,-0.06351712346076965,0.08564507961273193,-0.036259058862924576,0.011796499602496624,-0.026236338540911674,-0.10672362148761749,0.04897596314549446,0.07992275804281235,0.0005035327048972249,-0.022190291434526443,0.06579918414354324,0.0010844760108739138,0.039533477276563644,-0.005884964484721422,-0.0880243107676506,0.01240841019898653,-0.021753257140517235,0.025152893736958504,-0.08310813456773758,0.10817044973373413,0.0812847837805748,0.005327603314071894,-0.009798129089176655,-0.003737648483365774,-0.025724494829773903,-0.037450335919857025,-0.03142368793487549,-0.024321435019373894,-0.00018008664483204484,0.007677558343857527,0.1080511063337326,-0.0010433493880555034,-0.08028456568717957,0.057668499648571014,-0.06369263678789139,-0.018374411389231682,0.08454664051532745,0.10518158227205276,0.03717820718884468,-0.0067634619772434235,-0.02380707859992981,-0.004873283207416534,-0.13712970912456512,0.06052325293421745,-0.02592557668685913,0.017337992787361145,0.007682108785957098,-0.042218174785375595,0.037094056606292725,-0.04991992935538292,-0.07222381979227066,0.03080235980451107,-0.00710906321182847,0.051447611302137375,-0.004219226539134979,-0.002642917912453413,0.08014046400785446,-0.003159264102578163,-0.08667044341564178,-0.04466408118605614,-0.05847905948758125,-0.07293353229761124,0.034820541739463806,0.06376331299543381,-0.09032934159040451,0.055501554161310196,0.01174350455403328,-0.02307268977165222,0.03055700846016407,0.005676236469298601,-0.013689382001757622,-0.15888507664203644,0.062389835715293884,0.17829424142837524,-0.0224376879632473,-0.07807677239179611,-0.057321906089782715,-0.0034717393573373556,-0.01204338576644659,-0.014237096533179283,0.06966225802898407,-0.04253696650266647,-0.012323412112891674,-0.08058187365531921,-0.0305985938757658,0.06787479668855667,-0.11738124489784241,0.004248547367751598,0.0972074344754219,0.038468241691589355,-0.11591225862503052,-0.017235567793250084,-0.05041296407580376,-0.017184270545840263,-0.07192149013280869,0.04642188921570778,-0.025267576798796654,0.05012567341327667,-0.009974471293389797,0.02240065298974514,0.06917840987443924,0.13315297663211823,0.16912180185317993,-0.017246173694729805,-0.025726571679115295,0.015005717054009438,-0.08850008249282837,0.022677164524793625,-0.03700008615851402,0.0859081819653511,0.03723366931080818,-0.044344618916511536,0.0059394193813204765,-0.05983994901180267,0.045165568590164185,-0.03127887099981308,-0.058265428990125656,0.012367472052574158,0.059372641146183014,0.029243119060993195,0.03411748260259628,-0.08576371520757675,-0.08647661656141281,-0.018718058243393898,0.13307131826877594,-0.07893500477075577,0.03122272901237011,-0.06217056140303612,-0.005219593178480864,0.021263930946588516,0.003300706623122096,0.004636553581804037,-0.03281841799616814,-0.058199070394039154,-0.08766099810600281,-0.003493624273687601,0.04245254769921303,-0.05430937930941582,-0.012684435583651066,-0.02814916893839836,0.1280730813741684,-0.06302937120199203,-0.04573724791407585,-0.02935587801039219,-0.07763680070638657,0.02512916922569275,0.05470096319913864,-0.09124679118394852,-0.06830006092786789,0.0516355037689209,0.05359106510877609,0.0028427366632968187,-0.07812578231096268,-0.09251031279563904,-0.05648254230618477,0.10678287595510483,0.08074814826250076,-0.03400629758834839,0.06823381781578064,-0.022515302523970604,0.07952147722244263,-0.07944625616073608,0.06560661643743515,0.06691394746303558,-0.03568223491311073,0.06755112111568451,-0.12569764256477356,0.044035814702510834,0.0111605329439044,-0.016191566362977028,0.036280520260334015,-0.07076802849769592,0.0017569870688021183,-0.020416826009750366,-0.003758791135624051,0.00031899395980872214,0.02814980410039425,0.013561729341745377,0.029833443462848663,0.044760990887880325,-0.010556033812463284,0.03926677629351616,0.06249647215008736,-0.128371462225914,-0.012680577114224434,0.030207067728042603,0.05912192165851593,0.025934744626283646,0.1250625103712082,-0.05303579941391945,0.06743635982275009,0.06822077929973602,-0.003903105389326811,0.09448814392089844,-0.04427910968661308,-0.005725260358303785,-0.02784731239080429,0.07904423773288727,-0.0955580621957779,0.018828164786100388,-0.06081216782331467,-0.06925298273563385,-0.010437283664941788,0.021963024511933327,-0.016329871490597725,0.06169656291604042,0.003544704057276249,-0.0731792151927948,0.08207589387893677,-0.06783167272806168,-0.12039047479629517,0.14769390225410461,-0.02820661850273609,0.057064663618803024,-0.07159235328435898,0.05265215411782265,0.1431361883878708,0.08207793533802032,0.08652300387620926,-0.028812069445848465,0.030682502314448357,-0.006449114065617323,0.10074140131473541,-0.04822172969579697,0.01810774765908718,-0.03437446430325508,0.00787460245192051,0.030449386686086655,0.002807642100378871,-0.11744163185358047,0.10007331520318985,-0.01531787496060133,-0.030775342136621475,-0.009255063720047474,-0.03478925675153732,0.05386991798877716,0.01533750630915165,-0.052396323531866074,-0.04727306216955185,-0.010249475948512554,-0.02670307084918022,0.0030571618117392063,-0.03596081584692001,-0.027308540418744087,-0.07140467315912247,-0.013239148072898388,0.08246219903230667,0.08441217988729477,-0.04360317438840866,-0.05530839413404465,0.010403246618807316,-0.043450817465782166,0.00718518253415823,0.1524052768945694,0.04598752409219742,-0.06858623772859573,0.028804177418351173,0.07095996290445328,-0.024495823308825493,-0.021039312705397606,0.029489390552043915,0.021528977900743484,-0.08028353750705719,0.03745676949620247,0.1367347091436386,0.06982669234275818,0.11285862326622009,-0.061164915561676025,-0.03368477523326874,-0.08139163255691528,0.005985098425298929,-0.011730466969311237,0.10268574208021164,0.006123844068497419,-0.03909026086330414,0.02559625916182995,0.04538435861468315,0.16674627363681793,-0.015511520206928253,-0.0008273912826552987,-0.08649551868438721,-0.017140813171863556,-0.0006995364092290401,-0.013113710097968578,-0.05758994445204735,0.050657544285058975,-0.05899124592542648,-0.010643907822668552,-0.018139492720365524,0.02169148251414299,0.08636292070150375,-0.04365101456642151,-0.032972950488328934,-0.01577303186058998,-0.01974290795624256,-0.004754280671477318,0.025373326614499092,-0.06540192663669586,0.056405212730169296,0.05609246715903282,0.00948413461446762,-0.07895560562610626,-0.040823936462402344,-0.03260204941034317,-0.02358044683933258,0.020032908767461777,0.021417763084173203,-0.017665483057498932,-0.014469476416707039,-0.030544845387339592,-0.00382041628472507,0.06627966463565826,0.09949570894241333,-0.004712957888841629,-0.06977105140686035,-0.03391000255942345,0.018880149349570274,-0.029074501246213913,0.021430693566799164,-0.008055998012423515,-0.01475511584430933,-0.015636727213859558,0.009400897659361362,-0.012868176214396954,-0.0009856356773525476,-0.0007539265207014978,-0.11217249184846878,-0.005614613648504019,-0.020164730027318,0.08014872670173645,0.045142486691474915,0.03987918049097061,0.04519463703036308,-0.03332184627652168,0.04023992642760277,0.014929377473890781,-0.03892422839999199,-0.13296177983283997,-0.03483043983578682,0.06598664820194244,-0.010888220742344856,0.057183608412742615,0.07837345451116562,-0.01077254582196474,-0.02807682193815708,-0.0748947411775589,-0.10597112774848938,0.009876408614218235,-0.011091371066868305,0.020994622260332108,-0.06120676547288895,0.06318627297878265,0.08762791752815247,0.21280184388160706,-0.04316926375031471,0.004960926715284586,-0.1194642037153244,-0.02885868400335312,-0.04009384661912918,-0.05157969146966934,-0.07985780388116837,0.0456293448805809,-0.027093831449747086,-0.11255912482738495,0.04459823668003082,-0.002251894911751151,0.04504869133234024,-0.053241174668073654,-0.011718370951712132,0.049028441309928894,-0.0365983285009861,0.028002619743347168,0.09872031956911087,-0.05721434950828552,-0.04966264218091965,-0.013759851455688477,0.032399971038103104,-0.18712955713272095,0.05035511404275894,-0.020094526931643486,0.05230496823787689,-0.04933762550354004,-0.0015359112294390798,0.019502945244312286,0.0029050090815871954,0.04704444110393524,-0.0031794575043022633,0.012475383467972279,0.014781472273170948,0.10231618583202362,0.09575112909078598,0.030665939673781395,0.004469919018447399,-0.03196939080953598,0.06154058128595352,-0.010114028118550777,0.04344495013356209,0.12033889442682266,0.12365904450416565,0.08190083503723145,-0.06074679642915726,0.02701360359787941,-0.030090248212218285,0.05289741978049278,0.08785738050937653,0.047796107828617096,-0.022640684619545937,0.04170322045683861,-0.01942785270512104,-0.09301899373531342,0.04164846986532211,0.056183360517024994,0.05663292109966278,0.014460640959441662,0.05232968181371689,-0.009971524588763714,0.08187098801136017,0.10349547863006592,0.05316069349646568,-0.0050622704438865185,-0.10181131213903427,0.06989744305610657,0.016142794862389565,-0.037740085273981094,-0.026689108461141586,0.012121968902647495,0.04513376206159592,0.0595126710832119,0.01295714545994997,0.005401666276156902,0.061161015182733536,0.06847823411226273,-0.006455238908529282,-0.060587167739868164,-0.05710458755493164,0.05526576563715935,-0.0024602897465229034,-0.0026096650399267673,0.037063758820295334,-0.02271147444844246,-0.027776284143328667,-0.042921073734760284,0.03402567282319069,0.0058896103873848915,-0.042241547256708145,-0.03618178144097328,0.010183196514844894,0.07541026175022125,0.1395643800497055,0.01767861843109131,-0.05684676393866539,-0.02182474173605442,0.004586353432387114,-0.007388353813439608,0.07168848812580109,0.014590569771826267,0.10692942142486572,0.014352562837302685,0.047285087406635284,0.00842102337628603,-0.04804693162441254,0.08781489729881287,0.006125329062342644,-0.02713613212108612,-0.05190188065171242,0.05613906681537628,-0.08482600003480911,0.12766045331954956,0.11211205273866653,0.01962829940021038,-0.05202358588576317,0.032804619520902634,-0.05779556930065155,0.017442701384425163,0.09642239660024643,-0.011809764429926872,0.06839124858379364,0.10807520151138306,-0.07362795621156693,-0.1061091497540474,-0.023777225986123085,0.03929661214351654,0.06032517924904823,0.1118822991847992,0.053635600954294205,-0.07558132708072662,0.025950249284505844,0.07971949875354767,0.06188424304127693,-0.054678402841091156,-0.014050168916583061,0.0271728727966547,0.02420520968735218,0.1260109692811966,-0.07553349435329437,-0.07930224388837814,0.0314498245716095,0.0917939618229866,-0.019934121519327164,-0.08553270250558853,-0.016914745792746544,0.06062938645482063,-0.0042994460090994835,0.11887611448764801,0.057331133633852005,0.07464299350976944,0.023313146084547043,0.151286318898201,0.051099393516778946,-0.13526661694049835,-0.0820983275771141,0.016819776967167854,-0.023967040702700615,0.013737019151449203,-0.0957084372639656,0.08644871413707733,-0.043185390532016754,0.034338049590587616,-0.02122451178729534,-0.026913251727819443,0.043267641216516495,0.008793178014457226,-0.08203793317079544,-0.025598857551813126,-0.13536514341831207,0.11132421344518661,-0.10038605332374573,0.02995612658560276,0.016141533851623535,-0.06474525481462479,0.047918256372213364,0.116092249751091,0.03281682729721069,0.01799265667796135,0.0008658504812046885,0.04851207882165909,0.005614534951746464,0.010428865440189838,-0.0741308405995369,-0.008626283146440983,-0.0605274960398674,0.06425213068723679,-0.04435276985168457,-0.07598790526390076,-0.03979504108428955,-0.041677772998809814,-0.005667461082339287,-0.09284304082393646,0.03811289370059967,-0.01818636804819107,-0.022781189531087875,0.015146744437515736,-0.05489913001656532,0.09284453094005585,-0.004111246205866337,0.13772538304328918,-0.005440192297101021,0.05356241390109062,0.04028542339801788,0.03018598072230816,-0.07725473493337631,0.03037651814520359,0.06717304140329361,-0.11621763557195663,0.054532259702682495,-0.01702578365802765,0.03346644714474678,0.022215405479073524,-0.01663261279463768,0.05503927543759346,-0.04790152609348297,-0.10553252696990967,0.0926022157073021,-0.003287226427346468,0.15685072541236877,-0.02415475808084011,-0.09502797573804855,0.04972885176539421,0.03563758358359337,-0.05072541534900665,-0.016278214752674103,-0.011719835922122002,-0.02484588697552681,-0.05365243926644325,-0.014099868014454842,-0.02756240963935852,0.0018257846822962165,0.0480300672352314,-0.03349869325757027,0.0004719421558547765,-0.044907473027706146,-0.027011001482605934,-0.054576706141233444,-0.011927583254873753,0.011473599821329117,-0.014862329699099064,0.028520558029413223,0.018499033525586128,0.03860069811344147,-0.05400408059358597,0.055668193846940994,-0.10472790151834488,-0.09753814339637756,0.06452492624521255,0.10440731048583984,0.10380986332893372,-0.048439908772706985,0.0324164517223835,-0.026873061433434486,0.010762128978967667,-0.03825058415532112,0.014878570102155209,-0.02318616583943367,0.038806647062301636,-0.13320988416671753,0.053258929401636124,0.026068268343806267,0.0399770624935627,0.12529295682907104,0.11756502091884613,0.0189232025295496,0.11740276962518692,0.001920021022669971,0.04760093614459038,-0.1136404275894165,0.006308128125965595,0.009391737170517445,0.057870618999004364,-0.07932242751121521,-0.0024993065744638443,0.0048046051524579525,0.033424556255340576,-0.0771166980266571,-0.043084949254989624,0.023448346182703972,0.07133354991674423,-0.06822261214256287,0.028507467359304428,-0.035880912095308304,0.017298627644777298,-0.0062071215361356735,-0.014366702176630497,-0.04045195132493973,0.04715142771601677,0.06562239676713943,0.04645621031522751,-0.08356964588165283,0.08291201293468475,-0.12130659073591232,0.041921887546777725,0.014505676925182343,-0.10650330781936646,0.11244738101959229,0.14507053792476654,-0.07903430610895157,0.024632694199681282,0.024121906608343124,-0.05422575771808624,-0.04894857853651047,0.024152236059308052,0.010113267228007317,-0.06833110749721527,-0.0019705661106854677,-0.02410801872611046,-0.01226293295621872,-0.022202160209417343,-0.0562996044754982,-0.0532628670334816,-0.022827468812465668,0.08155842125415802,-0.016043391078710556,0.05691938474774361,0.01560995727777481,0.028817176818847656,-0.07446766644716263,-0.04004422202706337,0.1383112072944641,0.05476986989378929,-0.04275091737508774,0.06632480770349503,-0.004433317109942436,0.04492359608411789,-0.03670956939458847,0.02726072072982788,0.0422743558883667,0.05165405943989754,-0.0914793461561203,0.02843613363802433,0.09561638534069061,0.07779233157634735,0.037095047533512115,-0.07925105094909668,-0.048720020800828934,-0.11844738572835922,0.0015483642928302288,-0.07930409908294678,-0.0016649910248816013,0.09738052636384964,-0.010966215282678604,-0.011993697844445705,0.14420606195926666,-0.02657749317586422,0.010675099678337574,0.03790317848324776,-0.08916864544153214,-0.03262745589017868,0.01886770874261856,0.06648213416337967,-0.006457487121224403,0.003909744322299957,0.0012048985809087753,-0.016069138422608376,0.08223988115787506,-0.03373134136199951,0.0008570071076974273,-0.038163505494594574,-0.03407059609889984,0.045968230813741684,0.144858717918396,0.036945465952157974,-0.02767595648765564,-0.011442969553172588,0.002880171872675419,-0.0749603882431984,-0.09984070807695389,0.04766440391540527,-0.10183262825012207,0.009032441303133965,0.033245787024497986,-0.06822369992733002,0.026941848918795586,0.059542905539274216,0.002930963644757867,-0.13475275039672852,-0.03328868746757507,-0.01707438752055168,0.05624731257557869,-0.06329049170017242,0.09155435860157013,0.039731595665216446,-0.0011249382514506578,0.024126598611474037,-0.13326257467269897,-0.11772674322128296,0.03782961517572403,-0.041832033544778824,-0.035531170666217804,0.0814199149608612,0.07341287285089493,-0.05356454476714134,0.055686332285404205,-0.12686596810817719,0.01517628226429224,-0.015838634222745895,-0.053535621613264084,-0.02837361954152584,-0.030244821682572365,0.040008191019296646,0.06344834715127945,-0.013742461800575256,-0.044085338711738586,-0.10544765740633011,-0.06279363483190536,-0.03907858580350876,0.05596911162137985,0.026382844895124435,-0.059485867619514465,-0.1229788064956665,0.08864310383796692,0.0767858549952507,0.05006792023777962,0.01410084217786789,-0.03040684387087822,-0.05317137390375137,-0.09539353102445602,0.053390584886074066,0.01866750419139862,-0.06224507465958595,-0.06320970505475998,-0.09917847812175751,-0.009165401570498943,-0.06496667116880417,0.003108814125880599,0.08167339116334915,0.0015880080172792077,-0.041075315326452255,0.02922142669558525,0.025329068303108215,-0.0025352577213197947,-0.021695798262953758,0.0006077397265471518,-0.0835738405585289,0.007914280518889427,-0.051982980221509933,0.041658125817775726,-0.07069896161556244,-0.07432286441326141,-0.06415391713380814,-0.03768211975693703,0.008074500598013401,-0.04977165907621384,-0.06616432219743729,-0.044588882476091385,0.0034452464897185564,-0.04123954102396965,-0.06546936929225922,-0.1002596840262413,0.0635572224855423,-0.13930509984493256,0.0034695349168032408,0.1325143426656723,0.10776427388191223,0.004331986419856548,0.0373990572988987,-0.01716591790318489,0.04219292849302292,-0.025704266503453255,0.03562353923916817,-0.011515447869896889,0.06205177307128906,0.0059205335564911366,0.06293672323226929,0.0687810480594635,0.05237213149666786,0.011784295551478863,0.07327049225568771,-0.012569877319037914,-0.04067394882440567,-0.04567090794444084,0.04990193620324135,-0.009922931902110577,-0.006554270628839731,-0.053011514246463776,-0.08368311822414398,0.02011960558593273,-0.047997765243053436,-0.0067930142395198345,0.01088191382586956,0.007786382921040058,-0.02101229876279831,-0.0019255432998761535,-0.005838258657604456,-0.008325310423970222,0.01844162493944168,-0.00877795834094286,0.0068512773141264915,-0.09615939855575562,-0.08648105710744858,-0.045689959079027176,0.009962109848856926,-0.08527400344610214,-0.06971461325883865,0.019441748037934303,0.06848928332328796,-0.009286124259233475,-0.07945449650287628,-0.11160837113857269,0.08729705214500427,0.02048722840845585,0.0013205595314502716,-0.08519584685564041,-0.08586419373750687,0.0345996730029583,-0.005591541528701782,-0.005588982254266739,0.10162228345870972,0.03503359481692314,0.030164606869220734,-0.0013323783641681075,0.03208479285240173,-0.03251602500677109,0.0006818238762207329,0.019709255546331406,-0.05482097715139389,0.04219486564397812,0.023694198578596115,0.060396742075681686,-0.0363360270857811,0.013651018962264061,-0.09201621264219284,0.028784355148673058,-0.09873837232589722,0.03735334798693657,-0.03146987035870552,0.03151711821556091,0.03430820256471634,0.033741191029548645,0.04611935466527939,0.040583524852991104,0.14190833270549774,-0.058866243809461594,0.05202021077275276,0.03683339059352875,0.022182611748576164,-0.13491567969322205,-0.13079990446567535,0.06381029635667801,-0.038816507905721664,-0.027020225301384926,0.07061731070280075,0.06345293670892715,0.03616989776492119,0.03537895530462265,-0.06154943257570267,-0.0341198593378067,0.009063821285963058,-0.08715423941612244,-0.023051869124174118,-0.0623135045170784,0.043546319007873535,-0.14644962549209595,-0.06522984057664871,0.06427974253892899,-0.006574070081114769,0.01227563340216875,0.04783656820654869,-0.0407080203294754,-0.07345971465110779,0.016782229766249657,-0.0575641393661499,-0.05926809087395668,-0.07845554500818253,-0.05695462226867676,-0.0015063582686707377,-0.004820328205823898,-0.15694324672222137,-0.04958232119679451,-0.0007879204349592328,-0.06825673580169678,0.03906835615634918,-0.008080118335783482,-0.0187087282538414,-0.003422137815505266,-0.06246170401573181,-0.03764420002698898,0.00279376283288002,-0.025456033647060394,-0.00012035508552799001,0.01934584602713585,0.06962829828262329,-0.020054446533322334,-0.03594067692756653,-0.06193633750081062,-0.010811145417392254,0.06344900280237198,-0.014574974775314331,0.024915171787142754,-0.03196507692337036,0.036885444074869156,-0.06636662036180496,-0.060514312237501144,-0.012658121064305305,-0.009479699656367302,-0.009274893440306187,-0.0007087146514095366,0.06518221646547318,0.10698102414608002,-0.029570039361715317,0.07318612188100815,0.0030972182285040617,-0.017969606444239616,-0.009934768080711365,0.002189720282331109,-0.03810033202171326,0.014732851646840572,0.044574886560440063,0.016969529911875725,0.019988909363746643,0.042759522795677185,0.027550311759114265,-0.16952690482139587,0.020653260871767998,0.03774372488260269,-0.0388481542468071,0.04475868120789528,-0.01390480063855648,-0.006092648487538099,0.021736135706305504,0.0753011554479599,-0.047380298376083374,0.033113617449998856,0.006978663615882397,-0.056788984686136246,0.04132656380534172,-0.07365540415048599,-0.10254596173763275,-0.057030025869607925,0.03269822150468826,0.007247573230415583,-0.02617129124701023,0.010830751620233059,0.09891985356807709,-0.03026614524424076,-0.02006205916404724,-0.014870604500174522,0.0034334531519562006,-0.028405534103512764,0.03899271786212921,-0.10486319661140442,-0.09617538750171661,0.05179189518094063,0.051522888243198395,-0.015350991860032082,0.0707879438996315,0.053729165345430374,-0.0031491913832724094,-0.021647224202752113,-0.03127085790038109,0.019228903576731682,-0.041173551231622696,-0.0027510393410921097,-0.11461654305458069,-0.09468719363212585,-0.04580031335353851,0.05761805921792984,0.05389399081468582,0.09030134975910187,0.08962076157331467,-0.046528615057468414,-0.0033319115173071623,0.04479190707206726,0.046391647309064865,-0.02117760293185711,0.0033925073221325874,-0.03973979502916336,-0.10497507452964783,-0.019023669883608818,0.03810815140604973,0.011278161779046059,0.00850959774106741,0.08441594243049622,-0.06475099921226501,-0.07794023305177689,-0.08017652481794357,-0.018310075625777245,0.002665904350578785,-0.076613649725914,-0.07683026790618896,-0.0334351509809494,-0.048639386892318726,0.04138593003153801,0.03701005503535271,0.05551667883992195,0.016726482659578323,0.08833557367324829,-0.028770102187991142,0.05060959607362747,0.02810487523674965,0.054296161979436874,0.004577365703880787,-0.05354536324739456,-0.024429498240351677,0.08507545292377472,0.004916754085570574,-0.02466178499162197,-0.05906873941421509,0.018985940143465996,0.01300816796720028,0.06330437958240509,0.04465685784816742,0.007218009326606989,-0.12085077911615372,-0.01907842792570591,-0.010917119681835175,0.006934763863682747,-0.05425592511892319,0.07974673807621002,-0.004615532699972391,0.026302652433514595,-0.025237856432795525,0.01006752997636795,-0.05514385178685188,-0.05981896445155144,-0.028418205678462982,0.06936566531658173,-0.07692350447177887,-0.007172499317675829,0.0939648374915123,-0.08528593927621841,-0.007673982065171003,-0.021021883934736252,-0.008196542970836163,-0.023619187995791435,0.14709807932376862,0.06062021106481552,-0.016711290925741196,-0.007449810393154621,0.013827775605022907,0.049157749861478806,-0.05042308568954468,0.005134316626936197,0.013437232002615929,-0.119651660323143,0.0015140590257942677,-0.036260902881622314,0.07457651197910309,0.01704566366970539,0.06016191840171814,0.03874531760811806,0.032417699694633484,-0.02302597090601921,0.07338283210992813,-0.011255897581577301,-0.03543054684996605,0.025182846933603287,-0.054135214537382126,0.02442343346774578,-0.06610036641359329,-0.01026626955717802,-0.021452369168400764,-0.012015831656754017,-0.11102563142776489,0.08630963414907455,-0.06777908653020859,-0.021929539740085602,0.027473825961351395,-0.11564725637435913,-0.027124429121613503,-0.028155161067843437,-0.014836996793746948,-0.03274945914745331,0.024042347446084023,-0.08733736723661423,-0.039107196033000946,-0.016606463119387627,-0.11176477372646332,-0.03431347385048866,-0.013107333332300186,0.06318946182727814,0.008511431515216827,-0.010922115296125412,0.0542200468480587,0.031668540090322495,0.08015493303537369,-0.06763043254613876,-0.018689312040805817,-0.021537691354751587,-0.11180148273706436,-0.11816537380218506,-0.05180763825774193,0.0479610301554203,-0.03283208981156349,0.11130363494157791,-0.2050042301416397,-0.07715537399053574,-0.05974982678890228,-0.06482197344303131,-0.07131999731063843,0.07830382138490677,0.04007298871874809,-0.1359407603740692,-0.0056662531569600105,0.01323095802217722,0.020866218954324722,-0.15843349695205688,0.05613936483860016,-0.009829564951360226,-0.04413413256406784,0.05052059516310692,0.08249105513095856,0.02546054683625698,-0.050106290727853775,0.013999187387526035,-0.04996103048324585,0.15331703424453735,0.08648152649402618,-0.09669919312000275,0.07936416566371918,0.026811836287379265,-0.011037468910217285,0.0008842478855513036,-0.01631265878677368,-0.08988400548696518,0.10267221182584763,0.049632322043180466,0.06351868808269501,0.03712315857410431,-0.00023416648036800325,0.0020811273716390133,0.05229216814041138,0.0666319951415062,-0.040480345487594604,0.1128464862704277,0.05131038278341293,-0.02189173735678196,-0.14161993563175201,0.12082230299711227,-0.03478817269206047,-0.012518777512013912,-0.0730181410908699,-0.14841023087501526,0.1277056783437729,-0.016596315428614616,0.10824468731880188,-0.10139741748571396,0.007908826693892479,-0.0075094555504620075,0.0342177152633667,0.014662416651844978,0.05532215163111687,-0.038218289613723755,0.07489501684904099,0.053485672920942307,-0.044320087879896164,0.012394268065690994,-0.026453113183379173,0.11263071745634079,0.01582423225045204,0.00888013280928135,-0.014645162969827652,-0.09843835234642029,0.01974068582057953,0.0043552410788834095,-0.08690997958183289,-0.02859189547598362,0.061667755246162415,-0.08976906538009644,-0.024718593806028366,-0.06267853081226349,-0.008503589779138565,0.014971993863582611,0.05368272587656975,-0.07395393401384354,0.01944401115179062,0.07788921892642975,0.11353116482496262,0.0540846586227417,-0.011108090169727802,0.008563878946006298,-0.013393213972449303,-0.0759207010269165,-0.03780896216630936,-0.07413651794195175,0.05359897390007973,0.01154062245041132,-0.021347476169466972,-0.01676652953028679,0.033326417207717896,0.01661555841565132,0.015018927864730358,0.061988361179828644,0.05479789525270462,0.07886339724063873,0.016422100365161896,0.15129563212394714,-0.05680554360151291,0.07115601003170013,0.04272052273154259,-0.05921187251806259,-0.0020097908563911915,-0.1570110023021698,-0.07718359678983688,0.0020768488757312298,-0.051545411348342896,-0.06760286539793015,0.00359946652315557,-0.048901595175266266,0.10118310898542404,-0.0283145010471344,-0.08958324044942856,0.03413356468081474,-0.12207246571779251,-0.02899092249572277,0.03859473019838333,0.050061218440532684,-0.043751027435064316,-0.11186996102333069,0.09561432152986526,0.03777504339814186,0.0005650784587487578,0.019315700978040695,-0.03756646811962128,-0.09999049454927444,0.0470101498067379,0.06690824031829834,-0.03956419229507446,-0.08588936924934387,0.008031771518290043,0.025030383840203285,-0.038349851965904236,-0.03958601504564285,-0.07196499407291412,-0.06563349813222885,-0.1525799036026001,-0.039508186280727386,-0.03849360719323158,0.0906171202659607,-0.019824886694550514,-0.09598599374294281,-0.028514286503195763,0.08201974630355835,0.0235324464738369,0.010290281847119331,-0.04084118455648422,0.034082259982824326,-0.0026580204721540213,0.013868629932403564,0.0720662996172905,-0.03511136770248413,-0.024034934118390083,0.04769280552864075,-0.13037912547588348,-0.02034670300781727,-0.03504955396056175,0.11961525678634644,-0.11192043125629425,0.0013891806593164802,0.038806308060884476,0.03616077080368996,-0.08813583105802536,0.04842783510684967,-0.12604069709777832,0.011639234609901905,-0.008547961711883545,0.002270811703056097,-0.005113872233778238,0.16129517555236816,-0.0491989403963089,0.13430455327033997,0.05303068831562996,0.01659390516579151,-0.0404592789709568,0.06507585197687149,-0.07317698001861572,0.07503794133663177,-0.015748078003525734,0.015461016446352005,0.030473617836833,0.08589895814657211,0.06779003143310547,0.0010992373572662473,-0.0002254712162539363,0.07661662995815277,0.10950912535190582,-0.00764760235324502,0.15663136541843414,0.05392184108495712,-0.12476876378059387,-0.11440987884998322,0.01772032305598259,0.011409599334001541,0.0014097167877480388,-0.007940469309687614,0.09769514203071594,0.059912893921136856,0.031903550028800964,0.02421526238322258,0.04712916910648346,0.07936976850032806,0.0498662032186985,-0.046491678804159164,-0.02771640568971634,-0.0840458869934082,-0.042416155338287354,-0.03311706706881523,0.02100052312016487,-0.10709342360496521,-0.031148791313171387,-0.052478570491075516,-0.036749374121427536,0.010392225347459316,-0.01795618049800396,-0.06632057577371597,-0.041720982640981674,0.03758998215198517,0.05324653536081314,0.06795095652341843,0.09273172914981842,-0.02963419072329998,0.02044365182518959,0.0975206270813942,0.06074681505560875,-0.03605470061302185,-0.04276590421795845,-0.044863875955343246,0.04665509611368179,-0.050075460225343704,-0.0344725176692009,-0.03565333038568497,0.034711744636297226,0.010305628180503845,0.05728932470083237,0.11576153337955475,-0.07723381370306015,0.04076476767659187,-0.017748672515153885,0.011296097189188004,-0.048750244081020355,0.008287007920444012,-0.015687840059399605,0.02902638353407383,-0.0016943144146353006,-0.018036972731351852,-0.08521462231874466,0.002026956295594573,0.09525223821401596,0.020436551421880722,-0.04780333489179611,-0.0066914670169353485,-0.008647643961012363,0.04260731860995293,0.034426916390657425,-0.0037436317652463913,-0.1082356870174408,0.06378842890262604,-0.04840383678674698,-0.09247592091560364,0.03921917825937271,-0.004460908006876707,-0.04075787216424942,-0.004443407990038395,0.04507775977253914,0.0017830164870247245,0.006854797713458538,0.06525110453367233,-0.0029143821448087692,0.15296690165996552,0.020068733021616936,-0.08227100223302841,0.02678762748837471,0.010403001680970192,0.04550144821405411,0.0686931237578392,0.04311101511120796,0.01792370155453682,-0.026689691469073296,0.0714927613735199,-0.05505023151636124,-0.009410140104591846,-0.014066516421735287,0.02231011912226677,0.08323236554861069,0.07180804014205933,0.036286234855651855,0.032713860273361206,0.025520088151097298,0.035641252994537354,0.06044868752360344,-0.005212604068219662,-0.022774606943130493,-0.04312915727496147,0.029169421643018723,0.010718047618865967,-0.02703995816409588,0.05929265543818474,-0.054103028029203415,-0.04114425554871559,0.05029779300093651,-0.04311218857765198,-0.09119677543640137,0.02377520315349102,-0.03697239235043526,0.007115150336176157,0.14843429625034332,0.047568179666996,0.05762937292456627,-0.015202712267637253,0.0020535404328256845,0.015252461656928062,-0.05602708086371422,-0.015228357166051865,0.016361741349101067,-0.05931827425956726,0.06375402957201004,0.13391700387001038,0.05300135910511017,-0.0016416454454883933,-0.03286655992269516,-0.11928342282772064,0.030481552705168724,-0.021898111328482628,-0.012235643342137337,-0.05622703582048416,0.0664263442158699,0.04361671209335327,-0.04878345504403114,-0.004342321306467056,-0.05283702537417412,-0.09207209944725037,0.072153240442276,-0.033500585705041885,0.016546053811907768,0.019491693004965782,-0.0691804364323616,-0.0042870226316154,0.008208083920180798,0.029866207391023636,-0.020209716632962227,-0.06914465129375458,-0.018227118998765945,-0.016434794291853905,0.11898665130138397,-0.06820407509803772,0.0035998914390802383,0.0519745908677578,-0.08425988256931305,-0.019018203020095825,0.007422688417136669,0.028106214478611946,-0.0677642971277237,0.05736139789223671,-0.02574077434837818,0.12000472843647003,0.06614366173744202,0.01931842230260372,-0.014738819561898708,0.040603749454021454,0.005204778164625168,0.05809471011161804,-0.07279334962368011,0.057141661643981934,-0.03929126262664795,0.03669745475053787,-0.01345551386475563,-0.1136159747838974,-0.02635725773870945,0.04739636555314064,0.013695400208234787,-0.02682005986571312,0.020322412252426147,-0.07678696513175964,0.017414938658475876,0.06853281706571579,-0.02285757288336754,0.010352100245654583,0.0199844129383564,-0.046922098845243454,0.027642499655485153,0.04357696697115898,-0.03917090967297554,-0.033589597791433334,0.07032117992639542,0.05401359498500824,-0.08660997450351715,0.05017371103167534,-0.06020674481987953,-0.0032930350862443447,0.08400890231132507,-0.012193629518151283,-0.027364611625671387,0.08245845884084702,0.004503890406340361,0.03835524246096611,-0.13042309880256653,0.008185967803001404,-0.009482085704803467,-0.05755539610981941,0.010012076236307621,-0.019114134833216667,0.04471396654844284,0.010122322477400303,-0.044686589390039444,0.0020475347992032766,0.03633201867341995,0.0008710342808626592,0.1188993826508522,0.010242375545203686,0.013905342668294907,0.026423268020153046,-0.016477981582283974,-0.053222961723804474,-0.008131051436066628,-0.04844440147280693,-0.010879388079047203,0.01796167530119419,0.07562488317489624,-0.041915908455848694,0.004050991963595152,-0.015977639704942703,-0.011588528752326965,-0.05071837827563286,0.11435798555612564,0.029359860345721245,-0.019756654277443886,-0.06194634363055229,0.05936457961797714,-0.023757755756378174,-0.003200447652488947,-0.013500104658305645,-0.017484767362475395,-0.07517057657241821,0.11967737227678299,0.018245752900838852,0.05666648596525192,-0.09761177748441696,0.014648917131125927,-0.03927575796842575,0.09162827581167221,0.016852742061018944,-0.019591568037867546,0.021280866116285324,-0.03606511279940605,-0.07512810826301575,0.059802982956171036,0.042862650007009506,-0.005868823733180761,0.011101484298706055,-0.0008512177737429738,-0.09940322488546371,0.009173549711704254,-0.03828999772667885,-0.10716839134693146,-0.021822825074195862,0.02071366086602211,-0.058300331234931946,0.007627730257809162,0.06560748815536499,-0.04441431537270546,-0.008454116992652416,0.033913951367139816,0.03179509937763214,-0.07278025150299072,-0.0301352571696043,0.014820135198533535,0.09147438406944275,0.08072244375944138,0.0581020712852478,-0.000411401764722541,0.039580974727869034,0.011172492988407612,-0.025607319548726082,-0.07244645059108734,0.023472977802157402,-0.04212076961994171,0.09389212727546692,0.05489863082766533,-0.0016072446014732122,-0.04439179226756096,0.056318409740924835,-0.11526365578174591,0.020512307062745094,0.09924916923046112,0.051163602620363235,-0.009554735384881496,-0.042071882635354996,-0.03748304396867752,0.049397021532058716,0.08510538190603256,0.004536380525678396,0.05620951950550079,0.06921596825122833,-0.032752200961112976,0.07370246946811676,0.06605595350265503,-0.028744108974933624,-0.006649564020335674,0.0941145122051239,0.022900693118572235,0.0154979657381773,-0.006750335451215506,0.009885665029287338,0.0051789917051792145,0.03782212734222412,-0.0853312686085701,-0.028153199702501297,0.03804435953497887,0.09975054860115051,-0.016073383390903473,-0.10284233093261719,0.10043364018201828,0.010680470615625381,-0.0018370625330135226,-0.05640614405274391,-0.0394887775182724,0.03484296798706055,0.047007448971271515,0.042270477861166,0.10739962011575699,0.03514361009001732,-0.033494044095277786,-0.021623479202389717,-0.01919521763920784,0.06656927615404129,-0.005681334529072046,-0.03178359940648079,0.034449998289346695,0.011450999416410923,-0.009406237863004208,0.1330624669790268,-0.02864602766931057,0.038790784776210785,0.05099423602223396,-0.016721749678254128,-0.14019571244716644,-0.13621799647808075,-0.0637994036078453,0.08783247321844101,0.03571922704577446,-0.05887126177549362,0.019257744774222374,-0.0408208929002285,-0.09479621797800064,0.02044506184756756,0.046713363379240036,0.028226442635059357,0.0047719296999275684,-0.01413111574947834,-0.08077806234359741,0.03754036873579025,-0.16508711874485016,-0.1016455888748169,-0.009512665681540966,0.05467874929308891,0.06061990186572075,0.0034668082371354103,-0.0025315373204648495,0.03499128296971321,0.1139715313911438,0.07932298630475998,0.0297250896692276,0.028855085372924805,0.06778280436992645,-0.06554573029279709,-0.041826557368040085,-0.06154521554708481,-0.0014539840631186962,0.0014268145896494389,-0.08415556699037552,0.0250781811773777,-0.055428292602300644,-0.02723895199596882,-0.0031171583104878664,0.03293894976377487,-0.023480230942368507,0.03029046207666397,0.030474457889795303,0.05028475075960159,0.06799206137657166,0.09607475250959396,0.12207746505737305,0.05490526184439659,-0.03956291824579239,0.006795333232730627,-0.03522591292858124,-0.030398787930607796,-0.02213215082883835,0.05643139407038689,0.06126507371664047,-0.07957229763269424,0.03732195496559143,-0.03275388106703758,0.04168112948536873,0.13091325759887695,0.01741100288927555,-0.03341975063085556,0.02282918058335781,-0.042411573231220245,-0.0077054970897734165,0.12172938138246536,-0.0036924744490534067,-0.032843150198459625,0.07028714567422867],\"yaxis\":\"y\",\"type\":\"scattergl\"}],                        {\"template\":{\"data\":{\"bar\":[{\"error_x\":{\"color\":\"#2a3f5f\"},\"error_y\":{\"color\":\"#2a3f5f\"},\"marker\":{\"line\":{\"color\":\"white\",\"width\":0.5},\"pattern\":{\"fillmode\":\"overlay\",\"size\":10,\"solidity\":0.2}},\"type\":\"bar\"}],\"barpolar\":[{\"marker\":{\"line\":{\"color\":\"white\",\"width\":0.5},\"pattern\":{\"fillmode\":\"overlay\",\"size\":10,\"solidity\":0.2}},\"type\":\"barpolar\"}],\"carpet\":[{\"aaxis\":{\"endlinecolor\":\"#2a3f5f\",\"gridcolor\":\"#C8D4E3\",\"linecolor\":\"#C8D4E3\",\"minorgridcolor\":\"#C8D4E3\",\"startlinecolor\":\"#2a3f5f\"},\"baxis\":{\"endlinecolor\":\"#2a3f5f\",\"gridcolor\":\"#C8D4E3\",\"linecolor\":\"#C8D4E3\",\"minorgridcolor\":\"#C8D4E3\",\"startlinecolor\":\"#2a3f5f\"},\"type\":\"carpet\"}],\"choropleth\":[{\"colorbar\":{\"outlinewidth\":0,\"ticks\":\"\"},\"type\":\"choropleth\"}],\"contour\":[{\"colorbar\":{\"outlinewidth\":0,\"ticks\":\"\"},\"colorscale\":[[0.0,\"#0d0887\"],[0.1111111111111111,\"#46039f\"],[0.2222222222222222,\"#7201a8\"],[0.3333333333333333,\"#9c179e\"],[0.4444444444444444,\"#bd3786\"],[0.5555555555555556,\"#d8576b\"],[0.6666666666666666,\"#ed7953\"],[0.7777777777777778,\"#fb9f3a\"],[0.8888888888888888,\"#fdca26\"],[1.0,\"#f0f921\"]],\"type\":\"contour\"}],\"contourcarpet\":[{\"colorbar\":{\"outlinewidth\":0,\"ticks\":\"\"},\"type\":\"contourcarpet\"}],\"heatmap\":[{\"colorbar\":{\"outlinewidth\":0,\"ticks\":\"\"},\"colorscale\":[[0.0,\"#0d0887\"],[0.1111111111111111,\"#46039f\"],[0.2222222222222222,\"#7201a8\"],[0.3333333333333333,\"#9c179e\"],[0.4444444444444444,\"#bd3786\"],[0.5555555555555556,\"#d8576b\"],[0.6666666666666666,\"#ed7953\"],[0.7777777777777778,\"#fb9f3a\"],[0.8888888888888888,\"#fdca26\"],[1.0,\"#f0f921\"]],\"type\":\"heatmap\"}],\"heatmapgl\":[{\"colorbar\":{\"outlinewidth\":0,\"ticks\":\"\"},\"colorscale\":[[0.0,\"#0d0887\"],[0.1111111111111111,\"#46039f\"],[0.2222222222222222,\"#7201a8\"],[0.3333333333333333,\"#9c179e\"],[0.4444444444444444,\"#bd3786\"],[0.5555555555555556,\"#d8576b\"],[0.6666666666666666,\"#ed7953\"],[0.7777777777777778,\"#fb9f3a\"],[0.8888888888888888,\"#fdca26\"],[1.0,\"#f0f921\"]],\"type\":\"heatmapgl\"}],\"histogram\":[{\"marker\":{\"pattern\":{\"fillmode\":\"overlay\",\"size\":10,\"solidity\":0.2}},\"type\":\"histogram\"}],\"histogram2d\":[{\"colorbar\":{\"outlinewidth\":0,\"ticks\":\"\"},\"colorscale\":[[0.0,\"#0d0887\"],[0.1111111111111111,\"#46039f\"],[0.2222222222222222,\"#7201a8\"],[0.3333333333333333,\"#9c179e\"],[0.4444444444444444,\"#bd3786\"],[0.5555555555555556,\"#d8576b\"],[0.6666666666666666,\"#ed7953\"],[0.7777777777777778,\"#fb9f3a\"],[0.8888888888888888,\"#fdca26\"],[1.0,\"#f0f921\"]],\"type\":\"histogram2d\"}],\"histogram2dcontour\":[{\"colorbar\":{\"outlinewidth\":0,\"ticks\":\"\"},\"colorscale\":[[0.0,\"#0d0887\"],[0.1111111111111111,\"#46039f\"],[0.2222222222222222,\"#7201a8\"],[0.3333333333333333,\"#9c179e\"],[0.4444444444444444,\"#bd3786\"],[0.5555555555555556,\"#d8576b\"],[0.6666666666666666,\"#ed7953\"],[0.7777777777777778,\"#fb9f3a\"],[0.8888888888888888,\"#fdca26\"],[1.0,\"#f0f921\"]],\"type\":\"histogram2dcontour\"}],\"mesh3d\":[{\"colorbar\":{\"outlinewidth\":0,\"ticks\":\"\"},\"type\":\"mesh3d\"}],\"parcoords\":[{\"line\":{\"colorbar\":{\"outlinewidth\":0,\"ticks\":\"\"}},\"type\":\"parcoords\"}],\"pie\":[{\"automargin\":true,\"type\":\"pie\"}],\"scatter\":[{\"marker\":{\"colorbar\":{\"outlinewidth\":0,\"ticks\":\"\"}},\"type\":\"scatter\"}],\"scatter3d\":[{\"line\":{\"colorbar\":{\"outlinewidth\":0,\"ticks\":\"\"}},\"marker\":{\"colorbar\":{\"outlinewidth\":0,\"ticks\":\"\"}},\"type\":\"scatter3d\"}],\"scattercarpet\":[{\"marker\":{\"colorbar\":{\"outlinewidth\":0,\"ticks\":\"\"}},\"type\":\"scattercarpet\"}],\"scattergeo\":[{\"marker\":{\"colorbar\":{\"outlinewidth\":0,\"ticks\":\"\"}},\"type\":\"scattergeo\"}],\"scattergl\":[{\"marker\":{\"colorbar\":{\"outlinewidth\":0,\"ticks\":\"\"}},\"type\":\"scattergl\"}],\"scattermapbox\":[{\"marker\":{\"colorbar\":{\"outlinewidth\":0,\"ticks\":\"\"}},\"type\":\"scattermapbox\"}],\"scatterpolar\":[{\"marker\":{\"colorbar\":{\"outlinewidth\":0,\"ticks\":\"\"}},\"type\":\"scatterpolar\"}],\"scatterpolargl\":[{\"marker\":{\"colorbar\":{\"outlinewidth\":0,\"ticks\":\"\"}},\"type\":\"scatterpolargl\"}],\"scatterternary\":[{\"marker\":{\"colorbar\":{\"outlinewidth\":0,\"ticks\":\"\"}},\"type\":\"scatterternary\"}],\"surface\":[{\"colorbar\":{\"outlinewidth\":0,\"ticks\":\"\"},\"colorscale\":[[0.0,\"#0d0887\"],[0.1111111111111111,\"#46039f\"],[0.2222222222222222,\"#7201a8\"],[0.3333333333333333,\"#9c179e\"],[0.4444444444444444,\"#bd3786\"],[0.5555555555555556,\"#d8576b\"],[0.6666666666666666,\"#ed7953\"],[0.7777777777777778,\"#fb9f3a\"],[0.8888888888888888,\"#fdca26\"],[1.0,\"#f0f921\"]],\"type\":\"surface\"}],\"table\":[{\"cells\":{\"fill\":{\"color\":\"#EBF0F8\"},\"line\":{\"color\":\"white\"}},\"header\":{\"fill\":{\"color\":\"#C8D4E3\"},\"line\":{\"color\":\"white\"}},\"type\":\"table\"}]},\"layout\":{\"annotationdefaults\":{\"arrowcolor\":\"#2a3f5f\",\"arrowhead\":0,\"arrowwidth\":1},\"autotypenumbers\":\"strict\",\"coloraxis\":{\"colorbar\":{\"outlinewidth\":0,\"ticks\":\"\"}},\"colorscale\":{\"diverging\":[[0,\"#8e0152\"],[0.1,\"#c51b7d\"],[0.2,\"#de77ae\"],[0.3,\"#f1b6da\"],[0.4,\"#fde0ef\"],[0.5,\"#f7f7f7\"],[0.6,\"#e6f5d0\"],[0.7,\"#b8e186\"],[0.8,\"#7fbc41\"],[0.9,\"#4d9221\"],[1,\"#276419\"]],\"sequential\":[[0.0,\"#0d0887\"],[0.1111111111111111,\"#46039f\"],[0.2222222222222222,\"#7201a8\"],[0.3333333333333333,\"#9c179e\"],[0.4444444444444444,\"#bd3786\"],[0.5555555555555556,\"#d8576b\"],[0.6666666666666666,\"#ed7953\"],[0.7777777777777778,\"#fb9f3a\"],[0.8888888888888888,\"#fdca26\"],[1.0,\"#f0f921\"]],\"sequentialminus\":[[0.0,\"#0d0887\"],[0.1111111111111111,\"#46039f\"],[0.2222222222222222,\"#7201a8\"],[0.3333333333333333,\"#9c179e\"],[0.4444444444444444,\"#bd3786\"],[0.5555555555555556,\"#d8576b\"],[0.6666666666666666,\"#ed7953\"],[0.7777777777777778,\"#fb9f3a\"],[0.8888888888888888,\"#fdca26\"],[1.0,\"#f0f921\"]]},\"colorway\":[\"#636efa\",\"#EF553B\",\"#00cc96\",\"#ab63fa\",\"#FFA15A\",\"#19d3f3\",\"#FF6692\",\"#B6E880\",\"#FF97FF\",\"#FECB52\"],\"font\":{\"color\":\"#2a3f5f\"},\"geo\":{\"bgcolor\":\"white\",\"lakecolor\":\"white\",\"landcolor\":\"white\",\"showlakes\":true,\"showland\":true,\"subunitcolor\":\"#C8D4E3\"},\"hoverlabel\":{\"align\":\"left\"},\"hovermode\":\"closest\",\"mapbox\":{\"style\":\"light\"},\"paper_bgcolor\":\"white\",\"plot_bgcolor\":\"white\",\"polar\":{\"angularaxis\":{\"gridcolor\":\"#EBF0F8\",\"linecolor\":\"#EBF0F8\",\"ticks\":\"\"},\"bgcolor\":\"white\",\"radialaxis\":{\"gridcolor\":\"#EBF0F8\",\"linecolor\":\"#EBF0F8\",\"ticks\":\"\"}},\"scene\":{\"xaxis\":{\"backgroundcolor\":\"white\",\"gridcolor\":\"#DFE8F3\",\"gridwidth\":2,\"linecolor\":\"#EBF0F8\",\"showbackground\":true,\"ticks\":\"\",\"zerolinecolor\":\"#EBF0F8\"},\"yaxis\":{\"backgroundcolor\":\"white\",\"gridcolor\":\"#DFE8F3\",\"gridwidth\":2,\"linecolor\":\"#EBF0F8\",\"showbackground\":true,\"ticks\":\"\",\"zerolinecolor\":\"#EBF0F8\"},\"zaxis\":{\"backgroundcolor\":\"white\",\"gridcolor\":\"#DFE8F3\",\"gridwidth\":2,\"linecolor\":\"#EBF0F8\",\"showbackground\":true,\"ticks\":\"\",\"zerolinecolor\":\"#EBF0F8\"}},\"shapedefaults\":{\"line\":{\"color\":\"#2a3f5f\"}},\"ternary\":{\"aaxis\":{\"gridcolor\":\"#DFE8F3\",\"linecolor\":\"#A2B1C6\",\"ticks\":\"\"},\"baxis\":{\"gridcolor\":\"#DFE8F3\",\"linecolor\":\"#A2B1C6\",\"ticks\":\"\"},\"bgcolor\":\"white\",\"caxis\":{\"gridcolor\":\"#DFE8F3\",\"linecolor\":\"#A2B1C6\",\"ticks\":\"\"}},\"title\":{\"x\":0.05},\"xaxis\":{\"automargin\":true,\"gridcolor\":\"#EBF0F8\",\"linecolor\":\"#EBF0F8\",\"ticks\":\"\",\"title\":{\"standoff\":15},\"zerolinecolor\":\"#EBF0F8\",\"zerolinewidth\":2},\"yaxis\":{\"automargin\":true,\"gridcolor\":\"#EBF0F8\",\"linecolor\":\"#EBF0F8\",\"ticks\":\"\",\"title\":{\"standoff\":15},\"zerolinecolor\":\"#EBF0F8\",\"zerolinewidth\":2}}},\"xaxis\":{\"anchor\":\"y\",\"domain\":[0.0,1.0],\"title\":{\"text\":\"x0\"}},\"yaxis\":{\"anchor\":\"x\",\"domain\":[0.0,1.0],\"title\":{\"text\":\"x1\"}},\"legend\":{\"tracegroupgap\":0,\"itemsizing\":\"constant\"},\"margin\":{\"t\":60}},                        {\"responsive\": true}                    ).then(function(){\n",
              "                            \n",
              "var gd = document.getElementById('7c1e7c3a-ca3a-4427-8f6d-fab608047462');\n",
              "var x = new MutationObserver(function (mutations, observer) {{\n",
              "        var display = window.getComputedStyle(gd).display;\n",
              "        if (!display || display === 'none') {{\n",
              "            console.log([gd, 'removed!']);\n",
              "            Plotly.purge(gd);\n",
              "            observer.disconnect();\n",
              "        }}\n",
              "}});\n",
              "\n",
              "// Listen for the removal of the full notebook cells\n",
              "var notebookContainer = gd.closest('#notebook-container');\n",
              "if (notebookContainer) {{\n",
              "    x.observe(notebookContainer, {childList: true});\n",
              "}}\n",
              "\n",
              "// Listen for the clearing of the current output cell\n",
              "var outputEl = gd.closest('.output');\n",
              "if (outputEl) {{\n",
              "    x.observe(outputEl, {childList: true});\n",
              "}}\n",
              "\n",
              "                        })                };                            </script>        </div>\n",
              "</body>\n",
              "</html>"
            ]
          },
          "metadata": {},
          "output_type": "display_data"
        }
      ],
      "source": [
        "import plotly.express as px\n",
        "fig = px.scatter(embedding_df,\n",
        "                 x = \"x0\",\n",
        "                 y = \"x1\",\n",
        "                 size = [2]*len(embedding_df),\n",
        "                # size_max = 2,\n",
        "                 hover_name = \"word\")\n",
        "\n",
        "fig.show()"
      ]
    }
  ],
  "metadata": {
    "colab": {
      "provenance": []
    },
    "kernelspec": {
      "display_name": "Python 3",
      "name": "python3"
    },
    "language_info": {
      "name": "python"
    }
  },
  "nbformat": 4,
  "nbformat_minor": 0
}